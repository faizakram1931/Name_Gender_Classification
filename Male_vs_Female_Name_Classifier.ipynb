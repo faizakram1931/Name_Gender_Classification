{
  "nbformat": 4,
  "nbformat_minor": 0,
  "metadata": {
    "colab": {
      "name": "Male_vs_Female_Name_Classifier.ipynb",
      "provenance": [],
      "collapsed_sections": []
    },
    "kernelspec": {
      "name": "python3",
      "display_name": "Python 3"
    },
    "language_info": {
      "name": "python"
    }
  },
  "cells": [
    {
      "cell_type": "code",
      "execution_count": 2,
      "metadata": {
        "id": "JZ9_dN1eEaAc"
      },
      "outputs": [],
      "source": [
        "import torch\n",
        "import torch.nn as nn\n",
        "import pandas as pd \n",
        "from torchtext.vocab import vocab\n",
        "from collections import Counter\n",
        "from sklearn.metrics import f1_score\n",
        "from torchvision import transforms, utils\n",
        "from torch.utils.data import Dataset, DataLoader\n",
        "from sklearn.metrics import accuracy_score\n",
        "from sklearn.metrics import  confusion_matrix\n",
        "import numpy as np"
      ]
    },
    {
      "cell_type": "code",
      "source": [
        "male_names = pd.read_csv(r'https://gist.githubusercontent.com/mbejda/7f86ca901fe41bc14a63/raw/38adb475c14a3f44df9999c1541f3a72f472b30d/Indian-Male-Names.csv')\n",
        "female_names = pd.read_csv(r'https://gist.githubusercontent.com/mbejda/9b93c7545c9dd93060bd/raw/b582593330765df3ccaae6f641f8cddc16f1e879/Indian-Female-Names.csv')\n",
        "names_df = male_names.append(female_names)\n",
        "names_df.to_csv(\"indian_names.csv\", index= False )\n",
        "names_df = pd.read_csv(\"indian_names.csv\")"
      ],
      "metadata": {
        "id": "92WYEQWXQGuT"
      },
      "execution_count": 3,
      "outputs": []
    },
    {
      "cell_type": "code",
      "source": [
        "names_np = names_df.to_numpy()"
      ],
      "metadata": {
        "id": "b34zhpzOf4Dm"
      },
      "execution_count": 4,
      "outputs": []
    },
    {
      "cell_type": "code",
      "source": [
        "import math\n",
        "#remove nan values\n",
        "def remove_nan_entries(names_np):\n",
        "  nan_entry = []\n",
        "  for i in range(len(names_np)):\n",
        "    try:\n",
        "        if(math.isnan(names_np[i][0])):\n",
        "            nan_entry.append(i)\n",
        "    except:\n",
        "        pass\n",
        "  if(nan_entry != []):\n",
        "    names_np=np.delete(names_np,np.array(nan_entry),axis=0)\n",
        "  return names_np\n",
        "\n",
        "#remove nan values\n",
        "def clip_names_with_length_more_than_th(names_np,th=20):\n",
        "  entry =[]\n",
        "  for i in range(len(names_np)):\n",
        "    try:\n",
        "        if(len(names_np[i][0])>th):\n",
        "            entry.append(i)\n",
        "    except:\n",
        "        pass\n",
        "  if(entry != []):\n",
        "    names_np=np.delete(names_np,np.array(entry),axis=0)\n",
        "  return names_np\n",
        "\n",
        "#remove nan values\n",
        "def zero_padding(m_name,th=20):\n",
        "  return (th-len(m_name))//2*'0'+ m_name+(th-len(m_name))//2*'0'+len(m_name)%2*'0'\n",
        "\n",
        "#remove nan values\n",
        "def padding_to_make_consant_length(names_np):\n",
        "  for i in range(len(names_np)):\n",
        "    names_np[i][0] = zero_padding(names_np[i][0])\n",
        "  return names_np\n",
        "\n",
        "names_np = remove_nan_entries(names_np)\n",
        "names_np = clip_names_with_length_more_than_th(names_np)\n",
        "names_np = padding_to_make_consant_length(names_np)"
      ],
      "metadata": {
        "colab": {
          "base_uri": "https://localhost:8080/"
        },
        "id": "8nOsqxu5NIaP",
        "outputId": "e0018469-806e-4645-be3b-48245d7c23da"
      },
      "execution_count": 7,
      "outputs": [
        {
          "output_type": "stream",
          "name": "stdout",
          "text": [
            "[]\n"
          ]
        }
      ]
    },
    {
      "cell_type": "code",
      "source": [
        "# Padding to make constant length\n",
        "for i in range(len(names_np)):\n",
        "    try:\n",
        "        if(len(names_np[i][0])<20):\n",
        "            names_np[i][0]=(20-len(names_np[i][0]))//2*'0'+names_np[i][0]+(20-len(names_np[i][0]))//2*'0'+len(names_np[i][0])%2*'0'\n",
        "    except:\n",
        "        pass\n",
        "x=names_np[:,0]\n",
        "y=names_np[:,1:2]"
      ],
      "metadata": {
        "id": "kJ50-osmiSfY"
      },
      "execution_count": 9,
      "outputs": []
    },
    {
      "cell_type": "code",
      "source": [
        "jn = \"\"\n",
        "for entry in x:\n",
        "  jn = jn + str(entry)"
      ],
      "metadata": {
        "id": "ESru9FO9g_8W"
      },
      "execution_count": 10,
      "outputs": []
    },
    {
      "cell_type": "code",
      "source": [
        "from sklearn.preprocessing import LabelEncoder,OneHotEncoder\n",
        "from sklearn.model_selection import train_test_split\n",
        "lbl=LabelEncoder()\n",
        "one=OneHotEncoder()\n",
        "\n",
        "y=lbl.fit_transform(y)\n",
        "y=one.fit_transform(y.reshape(len(y),1)).toarray()"
      ],
      "metadata": {
        "colab": {
          "base_uri": "https://localhost:8080/"
        },
        "id": "ZwlzAM3RhSyA",
        "outputId": "85c98222-7706-44a3-a2b3-898683acedae"
      },
      "execution_count": 11,
      "outputs": [
        {
          "output_type": "stream",
          "name": "stderr",
          "text": [
            "/usr/local/lib/python3.7/dist-packages/sklearn/preprocessing/_label.py:115: DataConversionWarning: A column-vector y was passed when a 1d array was expected. Please change the shape of y to (n_samples, ), for example using ravel().\n",
            "  y = column_or_1d(y, warn=True)\n"
          ]
        }
      ]
    },
    {
      "cell_type": "code",
      "source": [
        "create_own_mapping = False\n",
        "if(create_own_mapping == True):\n",
        "  chars = sorted(list(set(jn)))\n",
        "  mapping = dict((c, i) for i, c in enumerate(chars))\n",
        "else:\n",
        "  mapping = {'\\t': 0, ' ': 1, '$': 2, '&': 3, '(': 4, ')': 5, ',': 6, '-': 7, '.': 8, '/': 9, '0': 10, '1': 11, '2': 12, '4': 13, '8': 14, '@': 15, '[': 16, '`': 17, 'a': 18, 'b': 19, 'c': 20, 'd': 21, 'e': 22, 'f': 23, 'g': 24, 'h': 25, 'i': 26, 'j': 27, 'k': 28, 'l': 29, 'm': 30, 'n': 31, 'o': 32, 'p': 33, 'q': 34, 'r': 35, 's': 36, 't': 37, 'u': 38, 'v': 39, 'w': 40, 'x': 41, 'y': 42, 'z': 43, 'ì': 44, 'ं': 45, 'अ': 46, 'आ': 47, 'इ': 48, 'ई': 49, 'उ': 50, 'ऐ': 51, 'क': 52, 'ख': 53, 'ग': 54, 'च': 55, 'छ': 56, 'ज': 57, 'ट': 58, 'ण': 59, 'त': 60, 'द': 61, 'ध': 62, 'न': 63, 'प': 64, 'फ': 65, 'ब': 66, 'भ': 67, 'म': 68, 'य': 69, 'र': 70, 'ल': 71, 'व': 72, 'श': 73, 'ष': 74, 'स': 75, 'ह': 76, '़': 77, 'ा': 78, 'ि': 79, 'ी': 80, 'ु': 81, 'ू': 82, 'े': 83, 'ै': 84, 'ो': 85, '्': 86, '\\u200d': 87, '�': 88}"
      ],
      "metadata": {
        "id": "6qGrjbOGhg6p"
      },
      "execution_count": 12,
      "outputs": []
    },
    {
      "cell_type": "code",
      "source": [
        "names = []\n",
        "for line in x:\n",
        "  encoded_seq = []\n",
        "  for char in line:\n",
        "    encoded_seq.append(int(mapping[char]))\n",
        "  names.append(encoded_seq)"
      ],
      "metadata": {
        "id": "jg6otCKwLoCX"
      },
      "execution_count": 13,
      "outputs": []
    },
    {
      "cell_type": "code",
      "source": [
        "x=np.array(names).reshape(len(names),20,1)"
      ],
      "metadata": {
        "id": "nNYTf50swqmG"
      },
      "execution_count": 14,
      "outputs": []
    },
    {
      "cell_type": "code",
      "source": [
        "x_train,x_test,y_train,y_test = train_test_split(x,y,test_size=0.3,random_state=42)"
      ],
      "metadata": {
        "id": "Lmna3i-yY2UL"
      },
      "execution_count": 24,
      "outputs": []
    },
    {
      "cell_type": "code",
      "source": [
        "#Model\n",
        "from keras.layers import Input, Dense,LSTM\n",
        "from keras.models import Model\n",
        "inp = Input(shape=(20,1))\n",
        "lstm = LSTM(30,return_sequences=True)(inp)\n",
        "lstm = LSTM(70,return_sequences=True)(lstm)\n",
        "lstm = LSTM(30)(lstm)\n",
        "out = Dense(2,activation='softmax')(lstm)\n",
        "\n",
        "model = Model(inp,out)\n",
        "print(model.summary())"
      ],
      "metadata": {
        "colab": {
          "base_uri": "https://localhost:8080/"
        },
        "id": "wsvCyT4zNwnI",
        "outputId": "a1c58b1b-790f-4ddc-f736-84f599e6d09b"
      },
      "execution_count": 22,
      "outputs": [
        {
          "output_type": "stream",
          "name": "stdout",
          "text": [
            "Model: \"model\"\n",
            "_________________________________________________________________\n",
            " Layer (type)                Output Shape              Param #   \n",
            "=================================================================\n",
            " input_4 (InputLayer)        [(None, 20, 1)]           0         \n",
            "                                                                 \n",
            " lstm_3 (LSTM)               (None, 20, 30)            3840      \n",
            "                                                                 \n",
            " lstm_4 (LSTM)               (None, 20, 70)            28280     \n",
            "                                                                 \n",
            " lstm_5 (LSTM)               (None, 30)                12120     \n",
            "                                                                 \n",
            " dense_1 (Dense)             (None, 2)                 62        \n",
            "                                                                 \n",
            "=================================================================\n",
            "Total params: 44,302\n",
            "Trainable params: 44,302\n",
            "Non-trainable params: 0\n",
            "_________________________________________________________________\n",
            "None\n"
          ]
        }
      ]
    },
    {
      "cell_type": "code",
      "source": [
        "from keras.callbacks import ModelCheckpoint\n",
        "model.compile(optimizer=\"Adam\",loss=\"categorical_crossentropy\",metrics=[\"accuracy\"])\n",
        "checkpoint = ModelCheckpoint('best_weights.hdf5', monitor='val_acc', verbose=1, save_best_only=True, mode='auto')\n",
        "model.fit(x_train,y_train,batch_size=50,epochs=100,verbose=1,callbacks=[checkpoint],validation_data=(x_test,y_test))"
      ],
      "metadata": {
        "colab": {
          "base_uri": "https://localhost:8080/"
        },
        "id": "Dy_exMS4Obfq",
        "outputId": "8006f96a-1b48-4158-eb4e-304458bf62fa"
      },
      "execution_count": 27,
      "outputs": [
        {
          "output_type": "stream",
          "name": "stdout",
          "text": [
            "Epoch 1/100\n",
            "414/414 [==============================] - ETA: 0s - loss: 0.5562 - accuracy: 0.7103"
          ]
        },
        {
          "output_type": "stream",
          "name": "stderr",
          "text": [
            "WARNING:tensorflow:Can save best model only with val_acc available, skipping.\n"
          ]
        },
        {
          "output_type": "stream",
          "name": "stdout",
          "text": [
            "\b\b\b\b\b\b\b\b\b\b\b\b\b\b\b\b\b\b\b\b\b\b\b\b\b\b\b\b\b\b\b\b\b\b\b\b\b\b\b\b\b\b\b\b\b\b\b\b\b\b\b\b\b\b\b\b\b\b\b\b\b\b\b\b\b\b\b\b\b\b\b\b\b\b\b\b\b\b\b\b\b\b\b\b\r414/414 [==============================] - 23s 43ms/step - loss: 0.5562 - accuracy: 0.7103 - val_loss: 0.5378 - val_accuracy: 0.7179\n",
            "Epoch 2/100\n",
            "413/414 [============================>.] - ETA: 0s - loss: 0.5402 - accuracy: 0.7135"
          ]
        },
        {
          "output_type": "stream",
          "name": "stderr",
          "text": [
            "WARNING:tensorflow:Can save best model only with val_acc available, skipping.\n"
          ]
        },
        {
          "output_type": "stream",
          "name": "stdout",
          "text": [
            "\b\b\b\b\b\b\b\b\b\b\b\b\b\b\b\b\b\b\b\b\b\b\b\b\b\b\b\b\b\b\b\b\b\b\b\b\b\b\b\b\b\b\b\b\b\b\b\b\b\b\b\b\b\b\b\b\b\b\b\b\b\b\b\b\b\b\b\b\b\b\b\b\b\b\b\b\b\b\b\b\b\b\b\b\r414/414 [==============================] - 17s 40ms/step - loss: 0.5402 - accuracy: 0.7134 - val_loss: 0.5294 - val_accuracy: 0.7263\n",
            "Epoch 3/100\n",
            "413/414 [============================>.] - ETA: 0s - loss: 0.5305 - accuracy: 0.7188"
          ]
        },
        {
          "output_type": "stream",
          "name": "stderr",
          "text": [
            "WARNING:tensorflow:Can save best model only with val_acc available, skipping.\n"
          ]
        },
        {
          "output_type": "stream",
          "name": "stdout",
          "text": [
            "\b\b\b\b\b\b\b\b\b\b\b\b\b\b\b\b\b\b\b\b\b\b\b\b\b\b\b\b\b\b\b\b\b\b\b\b\b\b\b\b\b\b\b\b\b\b\b\b\b\b\b\b\b\b\b\b\b\b\b\b\b\b\b\b\b\b\b\b\b\b\b\b\b\b\b\b\b\b\b\b\b\b\b\b\r414/414 [==============================] - 17s 42ms/step - loss: 0.5305 - accuracy: 0.7186 - val_loss: 0.5176 - val_accuracy: 0.7349\n",
            "Epoch 4/100\n",
            "414/414 [==============================] - ETA: 0s - loss: 0.5240 - accuracy: 0.7199"
          ]
        },
        {
          "output_type": "stream",
          "name": "stderr",
          "text": [
            "WARNING:tensorflow:Can save best model only with val_acc available, skipping.\n"
          ]
        },
        {
          "output_type": "stream",
          "name": "stdout",
          "text": [
            "\b\b\b\b\b\b\b\b\b\b\b\b\b\b\b\b\b\b\b\b\b\b\b\b\b\b\b\b\b\b\b\b\b\b\b\b\b\b\b\b\b\b\b\b\b\b\b\b\b\b\b\b\b\b\b\b\b\b\b\b\b\b\b\b\b\b\b\b\b\b\b\b\b\b\b\b\b\b\b\b\b\b\b\b\r414/414 [==============================] - 17s 41ms/step - loss: 0.5240 - accuracy: 0.7199 - val_loss: 0.5216 - val_accuracy: 0.7196\n",
            "Epoch 5/100\n",
            "413/414 [============================>.] - ETA: 0s - loss: 0.5158 - accuracy: 0.7260"
          ]
        },
        {
          "output_type": "stream",
          "name": "stderr",
          "text": [
            "WARNING:tensorflow:Can save best model only with val_acc available, skipping.\n"
          ]
        },
        {
          "output_type": "stream",
          "name": "stdout",
          "text": [
            "\b\b\b\b\b\b\b\b\b\b\b\b\b\b\b\b\b\b\b\b\b\b\b\b\b\b\b\b\b\b\b\b\b\b\b\b\b\b\b\b\b\b\b\b\b\b\b\b\b\b\b\b\b\b\b\b\b\b\b\b\b\b\b\b\b\b\b\b\b\b\b\b\b\b\b\b\b\b\b\b\b\b\b\b\r414/414 [==============================] - 17s 41ms/step - loss: 0.5158 - accuracy: 0.7260 - val_loss: 0.5062 - val_accuracy: 0.7388\n",
            "Epoch 6/100\n",
            "413/414 [============================>.] - ETA: 0s - loss: 0.5100 - accuracy: 0.7286"
          ]
        },
        {
          "output_type": "stream",
          "name": "stderr",
          "text": [
            "WARNING:tensorflow:Can save best model only with val_acc available, skipping.\n"
          ]
        },
        {
          "output_type": "stream",
          "name": "stdout",
          "text": [
            "\b\b\b\b\b\b\b\b\b\b\b\b\b\b\b\b\b\b\b\b\b\b\b\b\b\b\b\b\b\b\b\b\b\b\b\b\b\b\b\b\b\b\b\b\b\b\b\b\b\b\b\b\b\b\b\b\b\b\b\b\b\b\b\b\b\b\b\b\b\b\b\b\b\b\b\b\b\b\b\b\b\b\b\b\r414/414 [==============================] - 17s 40ms/step - loss: 0.5102 - accuracy: 0.7286 - val_loss: 0.5042 - val_accuracy: 0.7278\n",
            "Epoch 7/100\n",
            "413/414 [============================>.] - ETA: 0s - loss: 0.5042 - accuracy: 0.7332"
          ]
        },
        {
          "output_type": "stream",
          "name": "stderr",
          "text": [
            "WARNING:tensorflow:Can save best model only with val_acc available, skipping.\n"
          ]
        },
        {
          "output_type": "stream",
          "name": "stdout",
          "text": [
            "\b\b\b\b\b\b\b\b\b\b\b\b\b\b\b\b\b\b\b\b\b\b\b\b\b\b\b\b\b\b\b\b\b\b\b\b\b\b\b\b\b\b\b\b\b\b\b\b\b\b\b\b\b\b\b\b\b\b\b\b\b\b\b\b\b\b\b\b\b\b\b\b\b\b\b\b\b\b\b\b\b\b\b\b\r414/414 [==============================] - 17s 40ms/step - loss: 0.5042 - accuracy: 0.7332 - val_loss: 0.5014 - val_accuracy: 0.7348\n",
            "Epoch 8/100\n",
            "414/414 [==============================] - ETA: 0s - loss: 0.4982 - accuracy: 0.7354"
          ]
        },
        {
          "output_type": "stream",
          "name": "stderr",
          "text": [
            "WARNING:tensorflow:Can save best model only with val_acc available, skipping.\n"
          ]
        },
        {
          "output_type": "stream",
          "name": "stdout",
          "text": [
            "\b\b\b\b\b\b\b\b\b\b\b\b\b\b\b\b\b\b\b\b\b\b\b\b\b\b\b\b\b\b\b\b\b\b\b\b\b\b\b\b\b\b\b\b\b\b\b\b\b\b\b\b\b\b\b\b\b\b\b\b\b\b\b\b\b\b\b\b\b\b\b\b\b\b\b\b\b\b\b\b\b\b\b\b\r414/414 [==============================] - 19s 45ms/step - loss: 0.4982 - accuracy: 0.7354 - val_loss: 0.4998 - val_accuracy: 0.7405\n",
            "Epoch 9/100\n",
            "413/414 [============================>.] - ETA: 0s - loss: 0.4901 - accuracy: 0.7467"
          ]
        },
        {
          "output_type": "stream",
          "name": "stderr",
          "text": [
            "WARNING:tensorflow:Can save best model only with val_acc available, skipping.\n"
          ]
        },
        {
          "output_type": "stream",
          "name": "stdout",
          "text": [
            "\b\b\b\b\b\b\b\b\b\b\b\b\b\b\b\b\b\b\b\b\b\b\b\b\b\b\b\b\b\b\b\b\b\b\b\b\b\b\b\b\b\b\b\b\b\b\b\b\b\b\b\b\b\b\b\b\b\b\b\b\b\b\b\b\b\b\b\b\b\b\b\b\b\b\b\b\b\b\b\b\b\b\b\b\r414/414 [==============================] - 17s 40ms/step - loss: 0.4902 - accuracy: 0.7468 - val_loss: 0.4868 - val_accuracy: 0.7632\n",
            "Epoch 10/100\n",
            "414/414 [==============================] - ETA: 0s - loss: 0.4698 - accuracy: 0.7689"
          ]
        },
        {
          "output_type": "stream",
          "name": "stderr",
          "text": [
            "WARNING:tensorflow:Can save best model only with val_acc available, skipping.\n"
          ]
        },
        {
          "output_type": "stream",
          "name": "stdout",
          "text": [
            "\b\b\b\b\b\b\b\b\b\b\b\b\b\b\b\b\b\b\b\b\b\b\b\b\b\b\b\b\b\b\b\b\b\b\b\b\b\b\b\b\b\b\b\b\b\b\b\b\b\b\b\b\b\b\b\b\b\b\b\b\b\b\b\b\b\b\b\b\b\b\b\b\b\b\b\b\b\b\b\b\b\b\b\b\r414/414 [==============================] - 17s 40ms/step - loss: 0.4698 - accuracy: 0.7689 - val_loss: 0.4425 - val_accuracy: 0.7912\n",
            "Epoch 11/100\n",
            "413/414 [============================>.] - ETA: 0s - loss: 0.4428 - accuracy: 0.7862"
          ]
        },
        {
          "output_type": "stream",
          "name": "stderr",
          "text": [
            "WARNING:tensorflow:Can save best model only with val_acc available, skipping.\n"
          ]
        },
        {
          "output_type": "stream",
          "name": "stdout",
          "text": [
            "\b\b\b\b\b\b\b\b\b\b\b\b\b\b\b\b\b\b\b\b\b\b\b\b\b\b\b\b\b\b\b\b\b\b\b\b\b\b\b\b\b\b\b\b\b\b\b\b\b\b\b\b\b\b\b\b\b\b\b\b\b\b\b\b\b\b\b\b\b\b\b\b\b\b\b\b\b\b\b\b\b\b\b\b\r414/414 [==============================] - 21s 52ms/step - loss: 0.4427 - accuracy: 0.7863 - val_loss: 0.4261 - val_accuracy: 0.8035\n",
            "Epoch 12/100\n",
            "414/414 [==============================] - ETA: 0s - loss: 0.4148 - accuracy: 0.8069"
          ]
        },
        {
          "output_type": "stream",
          "name": "stderr",
          "text": [
            "WARNING:tensorflow:Can save best model only with val_acc available, skipping.\n"
          ]
        },
        {
          "output_type": "stream",
          "name": "stdout",
          "text": [
            "\b\b\b\b\b\b\b\b\b\b\b\b\b\b\b\b\b\b\b\b\b\b\b\b\b\b\b\b\b\b\b\b\b\b\b\b\b\b\b\b\b\b\b\b\b\b\b\b\b\b\b\b\b\b\b\b\b\b\b\b\b\b\b\b\b\b\b\b\b\b\b\b\b\b\b\b\b\b\b\b\b\b\b\b\r414/414 [==============================] - 17s 41ms/step - loss: 0.4148 - accuracy: 0.8069 - val_loss: 0.3974 - val_accuracy: 0.8170\n",
            "Epoch 13/100\n",
            "414/414 [==============================] - ETA: 0s - loss: 0.3933 - accuracy: 0.8236"
          ]
        },
        {
          "output_type": "stream",
          "name": "stderr",
          "text": [
            "WARNING:tensorflow:Can save best model only with val_acc available, skipping.\n"
          ]
        },
        {
          "output_type": "stream",
          "name": "stdout",
          "text": [
            "\b\b\b\b\b\b\b\b\b\b\b\b\b\b\b\b\b\b\b\b\b\b\b\b\b\b\b\b\b\b\b\b\b\b\b\b\b\b\b\b\b\b\b\b\b\b\b\b\b\b\b\b\b\b\b\b\b\b\b\b\b\b\b\b\b\b\b\b\b\b\b\b\b\b\b\b\b\b\b\b\b\b\b\b\r414/414 [==============================] - 17s 40ms/step - loss: 0.3933 - accuracy: 0.8236 - val_loss: 0.3973 - val_accuracy: 0.8267\n",
            "Epoch 14/100\n",
            "413/414 [============================>.] - ETA: 0s - loss: 0.3853 - accuracy: 0.8319"
          ]
        },
        {
          "output_type": "stream",
          "name": "stderr",
          "text": [
            "WARNING:tensorflow:Can save best model only with val_acc available, skipping.\n"
          ]
        },
        {
          "output_type": "stream",
          "name": "stdout",
          "text": [
            "\b\b\b\b\b\b\b\b\b\b\b\b\b\b\b\b\b\b\b\b\b\b\b\b\b\b\b\b\b\b\b\b\b\b\b\b\b\b\b\b\b\b\b\b\b\b\b\b\b\b\b\b\b\b\b\b\b\b\b\b\b\b\b\b\b\b\b\b\b\b\b\b\b\b\b\b\b\b\b\b\b\b\b\b\r414/414 [==============================] - 17s 40ms/step - loss: 0.3852 - accuracy: 0.8319 - val_loss: 0.3743 - val_accuracy: 0.8371\n",
            "Epoch 15/100\n",
            "413/414 [============================>.] - ETA: 0s - loss: 0.3697 - accuracy: 0.8412"
          ]
        },
        {
          "output_type": "stream",
          "name": "stderr",
          "text": [
            "WARNING:tensorflow:Can save best model only with val_acc available, skipping.\n"
          ]
        },
        {
          "output_type": "stream",
          "name": "stdout",
          "text": [
            "\b\b\b\b\b\b\b\b\b\b\b\b\b\b\b\b\b\b\b\b\b\b\b\b\b\b\b\b\b\b\b\b\b\b\b\b\b\b\b\b\b\b\b\b\b\b\b\b\b\b\b\b\b\b\b\b\b\b\b\b\b\b\b\b\b\b\b\b\b\b\b\b\b\b\b\b\b\b\b\b\b\b\b\b\r414/414 [==============================] - 17s 41ms/step - loss: 0.3699 - accuracy: 0.8411 - val_loss: 0.4521 - val_accuracy: 0.7852\n",
            "Epoch 16/100\n",
            "413/414 [============================>.] - ETA: 0s - loss: 0.3575 - accuracy: 0.8499"
          ]
        },
        {
          "output_type": "stream",
          "name": "stderr",
          "text": [
            "WARNING:tensorflow:Can save best model only with val_acc available, skipping.\n"
          ]
        },
        {
          "output_type": "stream",
          "name": "stdout",
          "text": [
            "\b\b\b\b\b\b\b\b\b\b\b\b\b\b\b\b\b\b\b\b\b\b\b\b\b\b\b\b\b\b\b\b\b\b\b\b\b\b\b\b\b\b\b\b\b\b\b\b\b\b\b\b\b\b\b\b\b\b\b\b\b\b\b\b\b\b\b\b\b\b\b\b\b\b\b\b\b\b\b\b\b\b\b\b\r414/414 [==============================] - 17s 40ms/step - loss: 0.3574 - accuracy: 0.8500 - val_loss: 0.3529 - val_accuracy: 0.8537\n",
            "Epoch 17/100\n",
            "413/414 [============================>.] - ETA: 0s - loss: 0.3523 - accuracy: 0.8518"
          ]
        },
        {
          "output_type": "stream",
          "name": "stderr",
          "text": [
            "WARNING:tensorflow:Can save best model only with val_acc available, skipping.\n"
          ]
        },
        {
          "output_type": "stream",
          "name": "stdout",
          "text": [
            "\b\b\b\b\b\b\b\b\b\b\b\b\b\b\b\b\b\b\b\b\b\b\b\b\b\b\b\b\b\b\b\b\b\b\b\b\b\b\b\b\b\b\b\b\b\b\b\b\b\b\b\b\b\b\b\b\b\b\b\b\b\b\b\b\b\b\b\b\b\b\b\b\b\b\b\b\b\b\b\b\b\b\b\b\r414/414 [==============================] - 17s 40ms/step - loss: 0.3522 - accuracy: 0.8518 - val_loss: 0.3755 - val_accuracy: 0.8380\n",
            "Epoch 18/100\n",
            "414/414 [==============================] - ETA: 0s - loss: 0.3428 - accuracy: 0.8585"
          ]
        },
        {
          "output_type": "stream",
          "name": "stderr",
          "text": [
            "WARNING:tensorflow:Can save best model only with val_acc available, skipping.\n"
          ]
        },
        {
          "output_type": "stream",
          "name": "stdout",
          "text": [
            "\b\b\b\b\b\b\b\b\b\b\b\b\b\b\b\b\b\b\b\b\b\b\b\b\b\b\b\b\b\b\b\b\b\b\b\b\b\b\b\b\b\b\b\b\b\b\b\b\b\b\b\b\b\b\b\b\b\b\b\b\b\b\b\b\b\b\b\b\b\b\b\b\b\b\b\b\b\b\b\b\b\b\b\b\r414/414 [==============================] - 17s 40ms/step - loss: 0.3428 - accuracy: 0.8585 - val_loss: 0.3659 - val_accuracy: 0.8468\n",
            "Epoch 19/100\n",
            "413/414 [============================>.] - ETA: 0s - loss: 0.3364 - accuracy: 0.8620"
          ]
        },
        {
          "output_type": "stream",
          "name": "stderr",
          "text": [
            "WARNING:tensorflow:Can save best model only with val_acc available, skipping.\n"
          ]
        },
        {
          "output_type": "stream",
          "name": "stdout",
          "text": [
            "\b\b\b\b\b\b\b\b\b\b\b\b\b\b\b\b\b\b\b\b\b\b\b\b\b\b\b\b\b\b\b\b\b\b\b\b\b\b\b\b\b\b\b\b\b\b\b\b\b\b\b\b\b\b\b\b\b\b\b\b\b\b\b\b\b\b\b\b\b\b\b\b\b\b\b\b\b\b\b\b\b\b\b\b\r414/414 [==============================] - 17s 40ms/step - loss: 0.3364 - accuracy: 0.8621 - val_loss: 0.3490 - val_accuracy: 0.8584\n",
            "Epoch 20/100\n",
            "413/414 [============================>.] - ETA: 0s - loss: 0.3288 - accuracy: 0.8667"
          ]
        },
        {
          "output_type": "stream",
          "name": "stderr",
          "text": [
            "WARNING:tensorflow:Can save best model only with val_acc available, skipping.\n"
          ]
        },
        {
          "output_type": "stream",
          "name": "stdout",
          "text": [
            "\b\b\b\b\b\b\b\b\b\b\b\b\b\b\b\b\b\b\b\b\b\b\b\b\b\b\b\b\b\b\b\b\b\b\b\b\b\b\b\b\b\b\b\b\b\b\b\b\b\b\b\b\b\b\b\b\b\b\b\b\b\b\b\b\b\b\b\b\b\b\b\b\b\b\b\b\b\b\b\b\b\b\b\b\r414/414 [==============================] - 18s 43ms/step - loss: 0.3289 - accuracy: 0.8666 - val_loss: 0.3388 - val_accuracy: 0.8646\n",
            "Epoch 21/100\n",
            "414/414 [==============================] - ETA: 0s - loss: 0.3246 - accuracy: 0.8692"
          ]
        },
        {
          "output_type": "stream",
          "name": "stderr",
          "text": [
            "WARNING:tensorflow:Can save best model only with val_acc available, skipping.\n"
          ]
        },
        {
          "output_type": "stream",
          "name": "stdout",
          "text": [
            "\b\b\b\b\b\b\b\b\b\b\b\b\b\b\b\b\b\b\b\b\b\b\b\b\b\b\b\b\b\b\b\b\b\b\b\b\b\b\b\b\b\b\b\b\b\b\b\b\b\b\b\b\b\b\b\b\b\b\b\b\b\b\b\b\b\b\b\b\b\b\b\b\b\b\b\b\b\b\b\b\b\b\b\b\r414/414 [==============================] - 19s 46ms/step - loss: 0.3246 - accuracy: 0.8692 - val_loss: 0.3437 - val_accuracy: 0.8605\n",
            "Epoch 22/100\n",
            "414/414 [==============================] - ETA: 0s - loss: 0.3173 - accuracy: 0.8739"
          ]
        },
        {
          "output_type": "stream",
          "name": "stderr",
          "text": [
            "WARNING:tensorflow:Can save best model only with val_acc available, skipping.\n"
          ]
        },
        {
          "output_type": "stream",
          "name": "stdout",
          "text": [
            "\b\b\b\b\b\b\b\b\b\b\b\b\b\b\b\b\b\b\b\b\b\b\b\b\b\b\b\b\b\b\b\b\b\b\b\b\b\b\b\b\b\b\b\b\b\b\b\b\b\b\b\b\b\b\b\b\b\b\b\b\b\b\b\b\b\b\b\b\b\b\b\b\b\b\b\b\b\b\b\b\b\b\b\b\r414/414 [==============================] - 17s 41ms/step - loss: 0.3173 - accuracy: 0.8739 - val_loss: 0.3354 - val_accuracy: 0.8652\n",
            "Epoch 23/100\n",
            "414/414 [==============================] - ETA: 0s - loss: 0.3125 - accuracy: 0.8759"
          ]
        },
        {
          "output_type": "stream",
          "name": "stderr",
          "text": [
            "WARNING:tensorflow:Can save best model only with val_acc available, skipping.\n"
          ]
        },
        {
          "output_type": "stream",
          "name": "stdout",
          "text": [
            "\b\b\b\b\b\b\b\b\b\b\b\b\b\b\b\b\b\b\b\b\b\b\b\b\b\b\b\b\b\b\b\b\b\b\b\b\b\b\b\b\b\b\b\b\b\b\b\b\b\b\b\b\b\b\b\b\b\b\b\b\b\b\b\b\b\b\b\b\b\b\b\b\b\b\b\b\b\b\b\b\b\b\b\b\r414/414 [==============================] - 17s 41ms/step - loss: 0.3125 - accuracy: 0.8759 - val_loss: 0.3255 - val_accuracy: 0.8745\n",
            "Epoch 24/100\n",
            "414/414 [==============================] - ETA: 0s - loss: 0.3002 - accuracy: 0.8830"
          ]
        },
        {
          "output_type": "stream",
          "name": "stderr",
          "text": [
            "WARNING:tensorflow:Can save best model only with val_acc available, skipping.\n"
          ]
        },
        {
          "output_type": "stream",
          "name": "stdout",
          "text": [
            "\b\b\b\b\b\b\b\b\b\b\b\b\b\b\b\b\b\b\b\b\b\b\b\b\b\b\b\b\b\b\b\b\b\b\b\b\b\b\b\b\b\b\b\b\b\b\b\b\b\b\b\b\b\b\b\b\b\b\b\b\b\b\b\b\b\b\b\b\b\b\b\b\b\b\b\b\b\b\b\b\b\b\b\b\r414/414 [==============================] - 17s 41ms/step - loss: 0.3002 - accuracy: 0.8830 - val_loss: 0.3141 - val_accuracy: 0.8744\n",
            "Epoch 25/100\n",
            "413/414 [============================>.] - ETA: 0s - loss: 0.2983 - accuracy: 0.8833"
          ]
        },
        {
          "output_type": "stream",
          "name": "stderr",
          "text": [
            "WARNING:tensorflow:Can save best model only with val_acc available, skipping.\n"
          ]
        },
        {
          "output_type": "stream",
          "name": "stdout",
          "text": [
            "\b\b\b\b\b\b\b\b\b\b\b\b\b\b\b\b\b\b\b\b\b\b\b\b\b\b\b\b\b\b\b\b\b\b\b\b\b\b\b\b\b\b\b\b\b\b\b\b\b\b\b\b\b\b\b\b\b\b\b\b\b\b\b\b\b\b\b\b\b\b\b\b\b\b\b\b\b\b\b\b\b\b\b\b\r414/414 [==============================] - 17s 41ms/step - loss: 0.2985 - accuracy: 0.8833 - val_loss: 0.3277 - val_accuracy: 0.8698\n",
            "Epoch 26/100\n",
            "413/414 [============================>.] - ETA: 0s - loss: 0.2910 - accuracy: 0.8869"
          ]
        },
        {
          "output_type": "stream",
          "name": "stderr",
          "text": [
            "WARNING:tensorflow:Can save best model only with val_acc available, skipping.\n"
          ]
        },
        {
          "output_type": "stream",
          "name": "stdout",
          "text": [
            "\b\b\b\b\b\b\b\b\b\b\b\b\b\b\b\b\b\b\b\b\b\b\b\b\b\b\b\b\b\b\b\b\b\b\b\b\b\b\b\b\b\b\b\b\b\b\b\b\b\b\b\b\b\b\b\b\b\b\b\b\b\b\b\b\b\b\b\b\b\b\b\b\b\b\b\b\b\b\b\b\b\b\b\b\r414/414 [==============================] - 17s 41ms/step - loss: 0.2911 - accuracy: 0.8868 - val_loss: 0.3276 - val_accuracy: 0.8687\n",
            "Epoch 27/100\n",
            "413/414 [============================>.] - ETA: 0s - loss: 0.2898 - accuracy: 0.8860"
          ]
        },
        {
          "output_type": "stream",
          "name": "stderr",
          "text": [
            "WARNING:tensorflow:Can save best model only with val_acc available, skipping.\n"
          ]
        },
        {
          "output_type": "stream",
          "name": "stdout",
          "text": [
            "\b\b\b\b\b\b\b\b\b\b\b\b\b\b\b\b\b\b\b\b\b\b\b\b\b\b\b\b\b\b\b\b\b\b\b\b\b\b\b\b\b\b\b\b\b\b\b\b\b\b\b\b\b\b\b\b\b\b\b\b\b\b\b\b\b\b\b\b\b\b\b\b\b\b\b\b\b\b\b\b\b\b\b\b\r414/414 [==============================] - 17s 41ms/step - loss: 0.2898 - accuracy: 0.8860 - val_loss: 0.3298 - val_accuracy: 0.8675\n",
            "Epoch 28/100\n",
            "414/414 [==============================] - ETA: 0s - loss: 0.2823 - accuracy: 0.8897"
          ]
        },
        {
          "output_type": "stream",
          "name": "stderr",
          "text": [
            "WARNING:tensorflow:Can save best model only with val_acc available, skipping.\n"
          ]
        },
        {
          "output_type": "stream",
          "name": "stdout",
          "text": [
            "\b\b\b\b\b\b\b\b\b\b\b\b\b\b\b\b\b\b\b\b\b\b\b\b\b\b\b\b\b\b\b\b\b\b\b\b\b\b\b\b\b\b\b\b\b\b\b\b\b\b\b\b\b\b\b\b\b\b\b\b\b\b\b\b\b\b\b\b\b\b\b\b\b\b\b\b\b\b\b\b\b\b\b\b\r414/414 [==============================] - 17s 41ms/step - loss: 0.2823 - accuracy: 0.8897 - val_loss: 0.3133 - val_accuracy: 0.8800\n",
            "Epoch 29/100\n",
            "413/414 [============================>.] - ETA: 0s - loss: 0.2772 - accuracy: 0.8939"
          ]
        },
        {
          "output_type": "stream",
          "name": "stderr",
          "text": [
            "WARNING:tensorflow:Can save best model only with val_acc available, skipping.\n"
          ]
        },
        {
          "output_type": "stream",
          "name": "stdout",
          "text": [
            "\b\b\b\b\b\b\b\b\b\b\b\b\b\b\b\b\b\b\b\b\b\b\b\b\b\b\b\b\b\b\b\b\b\b\b\b\b\b\b\b\b\b\b\b\b\b\b\b\b\b\b\b\b\b\b\b\b\b\b\b\b\b\b\b\b\b\b\b\b\b\b\b\b\b\b\b\b\b\b\b\b\b\b\b\r414/414 [==============================] - 17s 41ms/step - loss: 0.2772 - accuracy: 0.8940 - val_loss: 0.3244 - val_accuracy: 0.8753\n",
            "Epoch 30/100\n",
            "414/414 [==============================] - ETA: 0s - loss: 0.2723 - accuracy: 0.8979"
          ]
        },
        {
          "output_type": "stream",
          "name": "stderr",
          "text": [
            "WARNING:tensorflow:Can save best model only with val_acc available, skipping.\n"
          ]
        },
        {
          "output_type": "stream",
          "name": "stdout",
          "text": [
            "\b\b\b\b\b\b\b\b\b\b\b\b\b\b\b\b\b\b\b\b\b\b\b\b\b\b\b\b\b\b\b\b\b\b\b\b\b\b\b\b\b\b\b\b\b\b\b\b\b\b\b\b\b\b\b\b\b\b\b\b\b\b\b\b\b\b\b\b\b\b\b\b\b\b\b\b\b\b\b\b\b\b\b\b\r414/414 [==============================] - 17s 41ms/step - loss: 0.2723 - accuracy: 0.8979 - val_loss: 0.3051 - val_accuracy: 0.8808\n",
            "Epoch 31/100\n",
            "413/414 [============================>.] - ETA: 0s - loss: 0.2771 - accuracy: 0.8928"
          ]
        },
        {
          "output_type": "stream",
          "name": "stderr",
          "text": [
            "WARNING:tensorflow:Can save best model only with val_acc available, skipping.\n"
          ]
        },
        {
          "output_type": "stream",
          "name": "stdout",
          "text": [
            "\b\b\b\b\b\b\b\b\b\b\b\b\b\b\b\b\b\b\b\b\b\b\b\b\b\b\b\b\b\b\b\b\b\b\b\b\b\b\b\b\b\b\b\b\b\b\b\b\b\b\b\b\b\b\b\b\b\b\b\b\b\b\b\b\b\b\b\b\b\b\b\b\b\b\b\b\b\b\b\b\b\b\b\b\r414/414 [==============================] - 17s 41ms/step - loss: 0.2771 - accuracy: 0.8928 - val_loss: 0.3047 - val_accuracy: 0.8895\n",
            "Epoch 32/100\n",
            "414/414 [==============================] - ETA: 0s - loss: 0.2639 - accuracy: 0.8983"
          ]
        },
        {
          "output_type": "stream",
          "name": "stderr",
          "text": [
            "WARNING:tensorflow:Can save best model only with val_acc available, skipping.\n"
          ]
        },
        {
          "output_type": "stream",
          "name": "stdout",
          "text": [
            "\b\b\b\b\b\b\b\b\b\b\b\b\b\b\b\b\b\b\b\b\b\b\b\b\b\b\b\b\b\b\b\b\b\b\b\b\b\b\b\b\b\b\b\b\b\b\b\b\b\b\b\b\b\b\b\b\b\b\b\b\b\b\b\b\b\b\b\b\b\b\b\b\b\b\b\b\b\b\b\b\b\b\b\b\r414/414 [==============================] - 17s 40ms/step - loss: 0.2639 - accuracy: 0.8983 - val_loss: 0.3035 - val_accuracy: 0.8848\n",
            "Epoch 33/100\n",
            "413/414 [============================>.] - ETA: 0s - loss: 0.2570 - accuracy: 0.9026"
          ]
        },
        {
          "output_type": "stream",
          "name": "stderr",
          "text": [
            "WARNING:tensorflow:Can save best model only with val_acc available, skipping.\n"
          ]
        },
        {
          "output_type": "stream",
          "name": "stdout",
          "text": [
            "\b\b\b\b\b\b\b\b\b\b\b\b\b\b\b\b\b\b\b\b\b\b\b\b\b\b\b\b\b\b\b\b\b\b\b\b\b\b\b\b\b\b\b\b\b\b\b\b\b\b\b\b\b\b\b\b\b\b\b\b\b\b\b\b\b\b\b\b\b\b\b\b\b\b\b\b\b\b\b\b\b\b\b\b\r414/414 [==============================] - 17s 40ms/step - loss: 0.2571 - accuracy: 0.9026 - val_loss: 0.2846 - val_accuracy: 0.8948\n",
            "Epoch 34/100\n",
            "414/414 [==============================] - ETA: 0s - loss: 0.2526 - accuracy: 0.9045"
          ]
        },
        {
          "output_type": "stream",
          "name": "stderr",
          "text": [
            "WARNING:tensorflow:Can save best model only with val_acc available, skipping.\n"
          ]
        },
        {
          "output_type": "stream",
          "name": "stdout",
          "text": [
            "\b\b\b\b\b\b\b\b\b\b\b\b\b\b\b\b\b\b\b\b\b\b\b\b\b\b\b\b\b\b\b\b\b\b\b\b\b\b\b\b\b\b\b\b\b\b\b\b\b\b\b\b\b\b\b\b\b\b\b\b\b\b\b\b\b\b\b\b\b\b\b\b\b\b\b\b\b\b\b\b\b\b\b\b\r414/414 [==============================] - 19s 45ms/step - loss: 0.2526 - accuracy: 0.9045 - val_loss: 0.2880 - val_accuracy: 0.8934\n",
            "Epoch 35/100\n",
            "413/414 [============================>.] - ETA: 0s - loss: 0.2506 - accuracy: 0.9070"
          ]
        },
        {
          "output_type": "stream",
          "name": "stderr",
          "text": [
            "WARNING:tensorflow:Can save best model only with val_acc available, skipping.\n"
          ]
        },
        {
          "output_type": "stream",
          "name": "stdout",
          "text": [
            "\b\b\b\b\b\b\b\b\b\b\b\b\b\b\b\b\b\b\b\b\b\b\b\b\b\b\b\b\b\b\b\b\b\b\b\b\b\b\b\b\b\b\b\b\b\b\b\b\b\b\b\b\b\b\b\b\b\b\b\b\b\b\b\b\b\b\b\b\b\b\b\b\b\b\b\b\b\b\b\b\b\b\b\b\r414/414 [==============================] - 17s 40ms/step - loss: 0.2505 - accuracy: 0.9070 - val_loss: 0.2856 - val_accuracy: 0.8967\n",
            "Epoch 36/100\n",
            "414/414 [==============================] - ETA: 0s - loss: 0.2430 - accuracy: 0.9105"
          ]
        },
        {
          "output_type": "stream",
          "name": "stderr",
          "text": [
            "WARNING:tensorflow:Can save best model only with val_acc available, skipping.\n"
          ]
        },
        {
          "output_type": "stream",
          "name": "stdout",
          "text": [
            "\b\b\b\b\b\b\b\b\b\b\b\b\b\b\b\b\b\b\b\b\b\b\b\b\b\b\b\b\b\b\b\b\b\b\b\b\b\b\b\b\b\b\b\b\b\b\b\b\b\b\b\b\b\b\b\b\b\b\b\b\b\b\b\b\b\b\b\b\b\b\b\b\b\b\b\b\b\b\b\b\b\b\b\b\r414/414 [==============================] - 17s 40ms/step - loss: 0.2430 - accuracy: 0.9105 - val_loss: 0.2961 - val_accuracy: 0.8949\n",
            "Epoch 37/100\n",
            "413/414 [============================>.] - ETA: 0s - loss: 0.2406 - accuracy: 0.9096"
          ]
        },
        {
          "output_type": "stream",
          "name": "stderr",
          "text": [
            "WARNING:tensorflow:Can save best model only with val_acc available, skipping.\n"
          ]
        },
        {
          "output_type": "stream",
          "name": "stdout",
          "text": [
            "\b\b\b\b\b\b\b\b\b\b\b\b\b\b\b\b\b\b\b\b\b\b\b\b\b\b\b\b\b\b\b\b\b\b\b\b\b\b\b\b\b\b\b\b\b\b\b\b\b\b\b\b\b\b\b\b\b\b\b\b\b\b\b\b\b\b\b\b\b\b\b\b\b\b\b\b\b\b\b\b\b\b\b\b\r414/414 [==============================] - 17s 41ms/step - loss: 0.2406 - accuracy: 0.9095 - val_loss: 0.2813 - val_accuracy: 0.8996\n",
            "Epoch 38/100\n",
            "414/414 [==============================] - ETA: 0s - loss: 0.2363 - accuracy: 0.9118"
          ]
        },
        {
          "output_type": "stream",
          "name": "stderr",
          "text": [
            "WARNING:tensorflow:Can save best model only with val_acc available, skipping.\n"
          ]
        },
        {
          "output_type": "stream",
          "name": "stdout",
          "text": [
            "\b\b\b\b\b\b\b\b\b\b\b\b\b\b\b\b\b\b\b\b\b\b\b\b\b\b\b\b\b\b\b\b\b\b\b\b\b\b\b\b\b\b\b\b\b\b\b\b\b\b\b\b\b\b\b\b\b\b\b\b\b\b\b\b\b\b\b\b\b\b\b\b\b\b\b\b\b\b\b\b\b\b\b\b\r414/414 [==============================] - 17s 41ms/step - loss: 0.2363 - accuracy: 0.9118 - val_loss: 0.2802 - val_accuracy: 0.8976\n",
            "Epoch 39/100\n",
            "413/414 [============================>.] - ETA: 0s - loss: 0.2366 - accuracy: 0.9126"
          ]
        },
        {
          "output_type": "stream",
          "name": "stderr",
          "text": [
            "WARNING:tensorflow:Can save best model only with val_acc available, skipping.\n"
          ]
        },
        {
          "output_type": "stream",
          "name": "stdout",
          "text": [
            "\b\b\b\b\b\b\b\b\b\b\b\b\b\b\b\b\b\b\b\b\b\b\b\b\b\b\b\b\b\b\b\b\b\b\b\b\b\b\b\b\b\b\b\b\b\b\b\b\b\b\b\b\b\b\b\b\b\b\b\b\b\b\b\b\b\b\b\b\b\b\b\b\b\b\b\b\b\b\b\b\b\b\b\b\r414/414 [==============================] - 18s 43ms/step - loss: 0.2365 - accuracy: 0.9127 - val_loss: 0.2784 - val_accuracy: 0.9009\n",
            "Epoch 40/100\n",
            "414/414 [==============================] - ETA: 0s - loss: 0.2216 - accuracy: 0.9187"
          ]
        },
        {
          "output_type": "stream",
          "name": "stderr",
          "text": [
            "WARNING:tensorflow:Can save best model only with val_acc available, skipping.\n"
          ]
        },
        {
          "output_type": "stream",
          "name": "stdout",
          "text": [
            "\b\b\b\b\b\b\b\b\b\b\b\b\b\b\b\b\b\b\b\b\b\b\b\b\b\b\b\b\b\b\b\b\b\b\b\b\b\b\b\b\b\b\b\b\b\b\b\b\b\b\b\b\b\b\b\b\b\b\b\b\b\b\b\b\b\b\b\b\b\b\b\b\b\b\b\b\b\b\b\b\b\b\b\b\r414/414 [==============================] - 17s 41ms/step - loss: 0.2216 - accuracy: 0.9187 - val_loss: 0.2811 - val_accuracy: 0.8994\n",
            "Epoch 41/100\n",
            "413/414 [============================>.] - ETA: 0s - loss: 0.2250 - accuracy: 0.9174"
          ]
        },
        {
          "output_type": "stream",
          "name": "stderr",
          "text": [
            "WARNING:tensorflow:Can save best model only with val_acc available, skipping.\n"
          ]
        },
        {
          "output_type": "stream",
          "name": "stdout",
          "text": [
            "\b\b\b\b\b\b\b\b\b\b\b\b\b\b\b\b\b\b\b\b\b\b\b\b\b\b\b\b\b\b\b\b\b\b\b\b\b\b\b\b\b\b\b\b\b\b\b\b\b\b\b\b\b\b\b\b\b\b\b\b\b\b\b\b\b\b\b\b\b\b\b\b\b\b\b\b\b\b\b\b\b\b\b\b\r414/414 [==============================] - 17s 41ms/step - loss: 0.2250 - accuracy: 0.9174 - val_loss: 0.2741 - val_accuracy: 0.9030\n",
            "Epoch 42/100\n",
            "413/414 [============================>.] - ETA: 0s - loss: 0.2213 - accuracy: 0.9198"
          ]
        },
        {
          "output_type": "stream",
          "name": "stderr",
          "text": [
            "WARNING:tensorflow:Can save best model only with val_acc available, skipping.\n"
          ]
        },
        {
          "output_type": "stream",
          "name": "stdout",
          "text": [
            "\b\b\b\b\b\b\b\b\b\b\b\b\b\b\b\b\b\b\b\b\b\b\b\b\b\b\b\b\b\b\b\b\b\b\b\b\b\b\b\b\b\b\b\b\b\b\b\b\b\b\b\b\b\b\b\b\b\b\b\b\b\b\b\b\b\b\b\b\b\b\b\b\b\b\b\b\b\b\b\b\b\b\b\b\r414/414 [==============================] - 17s 40ms/step - loss: 0.2212 - accuracy: 0.9198 - val_loss: 0.2886 - val_accuracy: 0.8975\n",
            "Epoch 43/100\n",
            "413/414 [============================>.] - ETA: 0s - loss: 0.2152 - accuracy: 0.9215"
          ]
        },
        {
          "output_type": "stream",
          "name": "stderr",
          "text": [
            "WARNING:tensorflow:Can save best model only with val_acc available, skipping.\n"
          ]
        },
        {
          "output_type": "stream",
          "name": "stdout",
          "text": [
            "\b\b\b\b\b\b\b\b\b\b\b\b\b\b\b\b\b\b\b\b\b\b\b\b\b\b\b\b\b\b\b\b\b\b\b\b\b\b\b\b\b\b\b\b\b\b\b\b\b\b\b\b\b\b\b\b\b\b\b\b\b\b\b\b\b\b\b\b\b\b\b\b\b\b\b\b\b\b\b\b\b\b\b\b\r414/414 [==============================] - 17s 40ms/step - loss: 0.2151 - accuracy: 0.9216 - val_loss: 0.3014 - val_accuracy: 0.8916\n",
            "Epoch 44/100\n",
            "414/414 [==============================] - ETA: 0s - loss: 0.2115 - accuracy: 0.9236"
          ]
        },
        {
          "output_type": "stream",
          "name": "stderr",
          "text": [
            "WARNING:tensorflow:Can save best model only with val_acc available, skipping.\n"
          ]
        },
        {
          "output_type": "stream",
          "name": "stdout",
          "text": [
            "\b\b\b\b\b\b\b\b\b\b\b\b\b\b\b\b\b\b\b\b\b\b\b\b\b\b\b\b\b\b\b\b\b\b\b\b\b\b\b\b\b\b\b\b\b\b\b\b\b\b\b\b\b\b\b\b\b\b\b\b\b\b\b\b\b\b\b\b\b\b\b\b\b\b\b\b\b\b\b\b\b\b\b\b\r414/414 [==============================] - 17s 41ms/step - loss: 0.2115 - accuracy: 0.9236 - val_loss: 0.2803 - val_accuracy: 0.9003\n",
            "Epoch 45/100\n",
            "414/414 [==============================] - ETA: 0s - loss: 0.2107 - accuracy: 0.9232"
          ]
        },
        {
          "output_type": "stream",
          "name": "stderr",
          "text": [
            "WARNING:tensorflow:Can save best model only with val_acc available, skipping.\n"
          ]
        },
        {
          "output_type": "stream",
          "name": "stdout",
          "text": [
            "\b\b\b\b\b\b\b\b\b\b\b\b\b\b\b\b\b\b\b\b\b\b\b\b\b\b\b\b\b\b\b\b\b\b\b\b\b\b\b\b\b\b\b\b\b\b\b\b\b\b\b\b\b\b\b\b\b\b\b\b\b\b\b\b\b\b\b\b\b\b\b\b\b\b\b\b\b\b\b\b\b\b\b\b\r414/414 [==============================] - 17s 40ms/step - loss: 0.2107 - accuracy: 0.9232 - val_loss: 0.2914 - val_accuracy: 0.8974\n",
            "Epoch 46/100\n",
            "414/414 [==============================] - ETA: 0s - loss: 0.2019 - accuracy: 0.9278"
          ]
        },
        {
          "output_type": "stream",
          "name": "stderr",
          "text": [
            "WARNING:tensorflow:Can save best model only with val_acc available, skipping.\n"
          ]
        },
        {
          "output_type": "stream",
          "name": "stdout",
          "text": [
            "\b\b\b\b\b\b\b\b\b\b\b\b\b\b\b\b\b\b\b\b\b\b\b\b\b\b\b\b\b\b\b\b\b\b\b\b\b\b\b\b\b\b\b\b\b\b\b\b\b\b\b\b\b\b\b\b\b\b\b\b\b\b\b\b\b\b\b\b\b\b\b\b\b\b\b\b\b\b\b\b\b\b\b\b\r414/414 [==============================] - 17s 40ms/step - loss: 0.2019 - accuracy: 0.9278 - val_loss: 0.2844 - val_accuracy: 0.9003\n",
            "Epoch 47/100\n",
            "414/414 [==============================] - ETA: 0s - loss: 0.2051 - accuracy: 0.9243"
          ]
        },
        {
          "output_type": "stream",
          "name": "stderr",
          "text": [
            "WARNING:tensorflow:Can save best model only with val_acc available, skipping.\n"
          ]
        },
        {
          "output_type": "stream",
          "name": "stdout",
          "text": [
            "\b\b\b\b\b\b\b\b\b\b\b\b\b\b\b\b\b\b\b\b\b\b\b\b\b\b\b\b\b\b\b\b\b\b\b\b\b\b\b\b\b\b\b\b\b\b\b\b\b\b\b\b\b\b\b\b\b\b\b\b\b\b\b\b\b\b\b\b\b\b\b\b\b\b\b\b\b\b\b\b\b\b\b\b\r414/414 [==============================] - 18s 42ms/step - loss: 0.2051 - accuracy: 0.9243 - val_loss: 0.3085 - val_accuracy: 0.8936\n",
            "Epoch 48/100\n",
            "413/414 [============================>.] - ETA: 0s - loss: 0.1952 - accuracy: 0.9304"
          ]
        },
        {
          "output_type": "stream",
          "name": "stderr",
          "text": [
            "WARNING:tensorflow:Can save best model only with val_acc available, skipping.\n"
          ]
        },
        {
          "output_type": "stream",
          "name": "stdout",
          "text": [
            "\b\b\b\b\b\b\b\b\b\b\b\b\b\b\b\b\b\b\b\b\b\b\b\b\b\b\b\b\b\b\b\b\b\b\b\b\b\b\b\b\b\b\b\b\b\b\b\b\b\b\b\b\b\b\b\b\b\b\b\b\b\b\b\b\b\b\b\b\b\b\b\b\b\b\b\b\b\b\b\b\b\b\b\b\r414/414 [==============================] - 18s 44ms/step - loss: 0.1951 - accuracy: 0.9304 - val_loss: 0.2855 - val_accuracy: 0.9022\n",
            "Epoch 49/100\n",
            "414/414 [==============================] - ETA: 0s - loss: 0.1885 - accuracy: 0.9330"
          ]
        },
        {
          "output_type": "stream",
          "name": "stderr",
          "text": [
            "WARNING:tensorflow:Can save best model only with val_acc available, skipping.\n"
          ]
        },
        {
          "output_type": "stream",
          "name": "stdout",
          "text": [
            "\b\b\b\b\b\b\b\b\b\b\b\b\b\b\b\b\b\b\b\b\b\b\b\b\b\b\b\b\b\b\b\b\b\b\b\b\b\b\b\b\b\b\b\b\b\b\b\b\b\b\b\b\b\b\b\b\b\b\b\b\b\b\b\b\b\b\b\b\b\b\b\b\b\b\b\b\b\b\b\b\b\b\b\b\r414/414 [==============================] - 17s 41ms/step - loss: 0.1885 - accuracy: 0.9330 - val_loss: 0.2765 - val_accuracy: 0.9066\n",
            "Epoch 50/100\n",
            "413/414 [============================>.] - ETA: 0s - loss: 0.1906 - accuracy: 0.9324"
          ]
        },
        {
          "output_type": "stream",
          "name": "stderr",
          "text": [
            "WARNING:tensorflow:Can save best model only with val_acc available, skipping.\n"
          ]
        },
        {
          "output_type": "stream",
          "name": "stdout",
          "text": [
            "\b\b\b\b\b\b\b\b\b\b\b\b\b\b\b\b\b\b\b\b\b\b\b\b\b\b\b\b\b\b\b\b\b\b\b\b\b\b\b\b\b\b\b\b\b\b\b\b\b\b\b\b\b\b\b\b\b\b\b\b\b\b\b\b\b\b\b\b\b\b\b\b\b\b\b\b\b\b\b\b\b\b\b\b\r414/414 [==============================] - 17s 42ms/step - loss: 0.1906 - accuracy: 0.9324 - val_loss: 0.2862 - val_accuracy: 0.9051\n",
            "Epoch 51/100\n",
            "414/414 [==============================] - ETA: 0s - loss: 0.1821 - accuracy: 0.9363"
          ]
        },
        {
          "output_type": "stream",
          "name": "stderr",
          "text": [
            "WARNING:tensorflow:Can save best model only with val_acc available, skipping.\n"
          ]
        },
        {
          "output_type": "stream",
          "name": "stdout",
          "text": [
            "\b\b\b\b\b\b\b\b\b\b\b\b\b\b\b\b\b\b\b\b\b\b\b\b\b\b\b\b\b\b\b\b\b\b\b\b\b\b\b\b\b\b\b\b\b\b\b\b\b\b\b\b\b\b\b\b\b\b\b\b\b\b\b\b\b\b\b\b\b\b\b\b\b\b\b\b\b\b\b\b\b\b\b\b\r414/414 [==============================] - 17s 42ms/step - loss: 0.1821 - accuracy: 0.9363 - val_loss: 0.2836 - val_accuracy: 0.9038\n",
            "Epoch 52/100\n",
            "414/414 [==============================] - ETA: 0s - loss: 0.1814 - accuracy: 0.9361"
          ]
        },
        {
          "output_type": "stream",
          "name": "stderr",
          "text": [
            "WARNING:tensorflow:Can save best model only with val_acc available, skipping.\n"
          ]
        },
        {
          "output_type": "stream",
          "name": "stdout",
          "text": [
            "\b\b\b\b\b\b\b\b\b\b\b\b\b\b\b\b\b\b\b\b\b\b\b\b\b\b\b\b\b\b\b\b\b\b\b\b\b\b\b\b\b\b\b\b\b\b\b\b\b\b\b\b\b\b\b\b\b\b\b\b\b\b\b\b\b\b\b\b\b\b\b\b\b\b\b\b\b\b\b\b\b\b\b\b\r414/414 [==============================] - 17s 41ms/step - loss: 0.1814 - accuracy: 0.9361 - val_loss: 0.2921 - val_accuracy: 0.9016\n",
            "Epoch 53/100\n",
            "413/414 [============================>.] - ETA: 0s - loss: 0.1950 - accuracy: 0.9309"
          ]
        },
        {
          "output_type": "stream",
          "name": "stderr",
          "text": [
            "WARNING:tensorflow:Can save best model only with val_acc available, skipping.\n"
          ]
        },
        {
          "output_type": "stream",
          "name": "stdout",
          "text": [
            "\b\b\b\b\b\b\b\b\b\b\b\b\b\b\b\b\b\b\b\b\b\b\b\b\b\b\b\b\b\b\b\b\b\b\b\b\b\b\b\b\b\b\b\b\b\b\b\b\b\b\b\b\b\b\b\b\b\b\b\b\b\b\b\b\b\b\b\b\b\b\b\b\b\b\b\b\b\b\b\b\b\b\b\b\r414/414 [==============================] - 17s 41ms/step - loss: 0.1949 - accuracy: 0.9310 - val_loss: 0.2865 - val_accuracy: 0.9047\n",
            "Epoch 54/100\n",
            "413/414 [============================>.] - ETA: 0s - loss: 0.1759 - accuracy: 0.9377"
          ]
        },
        {
          "output_type": "stream",
          "name": "stderr",
          "text": [
            "WARNING:tensorflow:Can save best model only with val_acc available, skipping.\n"
          ]
        },
        {
          "output_type": "stream",
          "name": "stdout",
          "text": [
            "\b\b\b\b\b\b\b\b\b\b\b\b\b\b\b\b\b\b\b\b\b\b\b\b\b\b\b\b\b\b\b\b\b\b\b\b\b\b\b\b\b\b\b\b\b\b\b\b\b\b\b\b\b\b\b\b\b\b\b\b\b\b\b\b\b\b\b\b\b\b\b\b\b\b\b\b\b\b\b\b\b\b\b\b\r414/414 [==============================] - 17s 41ms/step - loss: 0.1760 - accuracy: 0.9377 - val_loss: 0.2801 - val_accuracy: 0.9088\n",
            "Epoch 55/100\n",
            "414/414 [==============================] - ETA: 0s - loss: 0.1815 - accuracy: 0.9358"
          ]
        },
        {
          "output_type": "stream",
          "name": "stderr",
          "text": [
            "WARNING:tensorflow:Can save best model only with val_acc available, skipping.\n"
          ]
        },
        {
          "output_type": "stream",
          "name": "stdout",
          "text": [
            "\b\b\b\b\b\b\b\b\b\b\b\b\b\b\b\b\b\b\b\b\b\b\b\b\b\b\b\b\b\b\b\b\b\b\b\b\b\b\b\b\b\b\b\b\b\b\b\b\b\b\b\b\b\b\b\b\b\b\b\b\b\b\b\b\b\b\b\b\b\b\b\b\b\b\b\b\b\b\b\b\b\b\b\b\r414/414 [==============================] - 17s 41ms/step - loss: 0.1815 - accuracy: 0.9358 - val_loss: 0.2893 - val_accuracy: 0.9053\n",
            "Epoch 56/100\n",
            "414/414 [==============================] - ETA: 0s - loss: 0.1717 - accuracy: 0.9393"
          ]
        },
        {
          "output_type": "stream",
          "name": "stderr",
          "text": [
            "WARNING:tensorflow:Can save best model only with val_acc available, skipping.\n"
          ]
        },
        {
          "output_type": "stream",
          "name": "stdout",
          "text": [
            "\b\b\b\b\b\b\b\b\b\b\b\b\b\b\b\b\b\b\b\b\b\b\b\b\b\b\b\b\b\b\b\b\b\b\b\b\b\b\b\b\b\b\b\b\b\b\b\b\b\b\b\b\b\b\b\b\b\b\b\b\b\b\b\b\b\b\b\b\b\b\b\b\b\b\b\b\b\b\b\b\b\b\b\b\r414/414 [==============================] - 18s 43ms/step - loss: 0.1717 - accuracy: 0.9393 - val_loss: 0.2944 - val_accuracy: 0.9007\n",
            "Epoch 57/100\n",
            "413/414 [============================>.] - ETA: 0s - loss: 0.1642 - accuracy: 0.9415"
          ]
        },
        {
          "output_type": "stream",
          "name": "stderr",
          "text": [
            "WARNING:tensorflow:Can save best model only with val_acc available, skipping.\n"
          ]
        },
        {
          "output_type": "stream",
          "name": "stdout",
          "text": [
            "\b\b\b\b\b\b\b\b\b\b\b\b\b\b\b\b\b\b\b\b\b\b\b\b\b\b\b\b\b\b\b\b\b\b\b\b\b\b\b\b\b\b\b\b\b\b\b\b\b\b\b\b\b\b\b\b\b\b\b\b\b\b\b\b\b\b\b\b\b\b\b\b\b\b\b\b\b\b\b\b\b\b\b\b\r414/414 [==============================] - 17s 41ms/step - loss: 0.1644 - accuracy: 0.9415 - val_loss: 0.2945 - val_accuracy: 0.9009\n",
            "Epoch 58/100\n",
            "413/414 [============================>.] - ETA: 0s - loss: 0.1639 - accuracy: 0.9430"
          ]
        },
        {
          "output_type": "stream",
          "name": "stderr",
          "text": [
            "WARNING:tensorflow:Can save best model only with val_acc available, skipping.\n"
          ]
        },
        {
          "output_type": "stream",
          "name": "stdout",
          "text": [
            "\b\b\b\b\b\b\b\b\b\b\b\b\b\b\b\b\b\b\b\b\b\b\b\b\b\b\b\b\b\b\b\b\b\b\b\b\b\b\b\b\b\b\b\b\b\b\b\b\b\b\b\b\b\b\b\b\b\b\b\b\b\b\b\b\b\b\b\b\b\b\b\b\b\b\b\b\b\b\b\b\b\b\b\b\r414/414 [==============================] - 17s 41ms/step - loss: 0.1638 - accuracy: 0.9430 - val_loss: 0.2832 - val_accuracy: 0.9082\n",
            "Epoch 59/100\n",
            "413/414 [============================>.] - ETA: 0s - loss: 0.1591 - accuracy: 0.9443"
          ]
        },
        {
          "output_type": "stream",
          "name": "stderr",
          "text": [
            "WARNING:tensorflow:Can save best model only with val_acc available, skipping.\n"
          ]
        },
        {
          "output_type": "stream",
          "name": "stdout",
          "text": [
            "\b\b\b\b\b\b\b\b\b\b\b\b\b\b\b\b\b\b\b\b\b\b\b\b\b\b\b\b\b\b\b\b\b\b\b\b\b\b\b\b\b\b\b\b\b\b\b\b\b\b\b\b\b\b\b\b\b\b\b\b\b\b\b\b\b\b\b\b\b\b\b\b\b\b\b\b\b\b\b\b\b\b\b\b\r414/414 [==============================] - 17s 41ms/step - loss: 0.1591 - accuracy: 0.9442 - val_loss: 0.2864 - val_accuracy: 0.9071\n",
            "Epoch 60/100\n",
            "413/414 [============================>.] - ETA: 0s - loss: 0.1583 - accuracy: 0.9447"
          ]
        },
        {
          "output_type": "stream",
          "name": "stderr",
          "text": [
            "WARNING:tensorflow:Can save best model only with val_acc available, skipping.\n"
          ]
        },
        {
          "output_type": "stream",
          "name": "stdout",
          "text": [
            "\b\b\b\b\b\b\b\b\b\b\b\b\b\b\b\b\b\b\b\b\b\b\b\b\b\b\b\b\b\b\b\b\b\b\b\b\b\b\b\b\b\b\b\b\b\b\b\b\b\b\b\b\b\b\b\b\b\b\b\b\b\b\b\b\b\b\b\b\b\b\b\b\b\b\b\b\b\b\b\b\b\b\b\b\r414/414 [==============================] - 19s 46ms/step - loss: 0.1582 - accuracy: 0.9448 - val_loss: 0.2841 - val_accuracy: 0.9085\n",
            "Epoch 61/100\n",
            "413/414 [============================>.] - ETA: 0s - loss: 0.1588 - accuracy: 0.9441"
          ]
        },
        {
          "output_type": "stream",
          "name": "stderr",
          "text": [
            "WARNING:tensorflow:Can save best model only with val_acc available, skipping.\n"
          ]
        },
        {
          "output_type": "stream",
          "name": "stdout",
          "text": [
            "\b\b\b\b\b\b\b\b\b\b\b\b\b\b\b\b\b\b\b\b\b\b\b\b\b\b\b\b\b\b\b\b\b\b\b\b\b\b\b\b\b\b\b\b\b\b\b\b\b\b\b\b\b\b\b\b\b\b\b\b\b\b\b\b\b\b\b\b\b\b\b\b\b\b\b\b\b\b\b\b\b\b\b\b\r414/414 [==============================] - 17s 41ms/step - loss: 0.1588 - accuracy: 0.9440 - val_loss: 0.2911 - val_accuracy: 0.9057\n",
            "Epoch 62/100\n",
            "414/414 [==============================] - ETA: 0s - loss: 0.1633 - accuracy: 0.9427"
          ]
        },
        {
          "output_type": "stream",
          "name": "stderr",
          "text": [
            "WARNING:tensorflow:Can save best model only with val_acc available, skipping.\n"
          ]
        },
        {
          "output_type": "stream",
          "name": "stdout",
          "text": [
            "\b\b\b\b\b\b\b\b\b\b\b\b\b\b\b\b\b\b\b\b\b\b\b\b\b\b\b\b\b\b\b\b\b\b\b\b\b\b\b\b\b\b\b\b\b\b\b\b\b\b\b\b\b\b\b\b\b\b\b\b\b\b\b\b\b\b\b\b\b\b\b\b\b\b\b\b\b\b\b\b\b\b\b\b\r414/414 [==============================] - 17s 41ms/step - loss: 0.1633 - accuracy: 0.9427 - val_loss: 0.2927 - val_accuracy: 0.9108\n",
            "Epoch 63/100\n",
            "414/414 [==============================] - ETA: 0s - loss: 0.1498 - accuracy: 0.9468"
          ]
        },
        {
          "output_type": "stream",
          "name": "stderr",
          "text": [
            "WARNING:tensorflow:Can save best model only with val_acc available, skipping.\n"
          ]
        },
        {
          "output_type": "stream",
          "name": "stdout",
          "text": [
            "\b\b\b\b\b\b\b\b\b\b\b\b\b\b\b\b\b\b\b\b\b\b\b\b\b\b\b\b\b\b\b\b\b\b\b\b\b\b\b\b\b\b\b\b\b\b\b\b\b\b\b\b\b\b\b\b\b\b\b\b\b\b\b\b\b\b\b\b\b\b\b\b\b\b\b\b\b\b\b\b\b\b\b\b\r414/414 [==============================] - 17s 41ms/step - loss: 0.1498 - accuracy: 0.9468 - val_loss: 0.3005 - val_accuracy: 0.9068\n",
            "Epoch 64/100\n",
            "413/414 [============================>.] - ETA: 0s - loss: 0.1492 - accuracy: 0.9473"
          ]
        },
        {
          "output_type": "stream",
          "name": "stderr",
          "text": [
            "WARNING:tensorflow:Can save best model only with val_acc available, skipping.\n"
          ]
        },
        {
          "output_type": "stream",
          "name": "stdout",
          "text": [
            "\b\b\b\b\b\b\b\b\b\b\b\b\b\b\b\b\b\b\b\b\b\b\b\b\b\b\b\b\b\b\b\b\b\b\b\b\b\b\b\b\b\b\b\b\b\b\b\b\b\b\b\b\b\b\b\b\b\b\b\b\b\b\b\b\b\b\b\b\b\b\b\b\b\b\b\b\b\b\b\b\b\b\b\b\r414/414 [==============================] - 17s 41ms/step - loss: 0.1491 - accuracy: 0.9473 - val_loss: 0.3636 - val_accuracy: 0.8831\n",
            "Epoch 65/100\n",
            "413/414 [============================>.] - ETA: 0s - loss: 0.1528 - accuracy: 0.9448"
          ]
        },
        {
          "output_type": "stream",
          "name": "stderr",
          "text": [
            "WARNING:tensorflow:Can save best model only with val_acc available, skipping.\n"
          ]
        },
        {
          "output_type": "stream",
          "name": "stdout",
          "text": [
            "\b\b\b\b\b\b\b\b\b\b\b\b\b\b\b\b\b\b\b\b\b\b\b\b\b\b\b\b\b\b\b\b\b\b\b\b\b\b\b\b\b\b\b\b\b\b\b\b\b\b\b\b\b\b\b\b\b\b\b\b\b\b\b\b\b\b\b\b\b\b\b\b\b\b\b\b\b\b\b\b\b\b\b\b\r414/414 [==============================] - 17s 41ms/step - loss: 0.1529 - accuracy: 0.9448 - val_loss: 0.2961 - val_accuracy: 0.9106\n",
            "Epoch 66/100\n",
            "414/414 [==============================] - ETA: 0s - loss: 0.1499 - accuracy: 0.9470"
          ]
        },
        {
          "output_type": "stream",
          "name": "stderr",
          "text": [
            "WARNING:tensorflow:Can save best model only with val_acc available, skipping.\n"
          ]
        },
        {
          "output_type": "stream",
          "name": "stdout",
          "text": [
            "\b\b\b\b\b\b\b\b\b\b\b\b\b\b\b\b\b\b\b\b\b\b\b\b\b\b\b\b\b\b\b\b\b\b\b\b\b\b\b\b\b\b\b\b\b\b\b\b\b\b\b\b\b\b\b\b\b\b\b\b\b\b\b\b\b\b\b\b\b\b\b\b\b\b\b\b\b\b\b\b\b\b\b\b\r414/414 [==============================] - 17s 41ms/step - loss: 0.1499 - accuracy: 0.9470 - val_loss: 0.3149 - val_accuracy: 0.9022\n",
            "Epoch 67/100\n",
            "414/414 [==============================] - ETA: 0s - loss: 0.1396 - accuracy: 0.9518"
          ]
        },
        {
          "output_type": "stream",
          "name": "stderr",
          "text": [
            "WARNING:tensorflow:Can save best model only with val_acc available, skipping.\n"
          ]
        },
        {
          "output_type": "stream",
          "name": "stdout",
          "text": [
            "\b\b\b\b\b\b\b\b\b\b\b\b\b\b\b\b\b\b\b\b\b\b\b\b\b\b\b\b\b\b\b\b\b\b\b\b\b\b\b\b\b\b\b\b\b\b\b\b\b\b\b\b\b\b\b\b\b\b\b\b\b\b\b\b\b\b\b\b\b\b\b\b\b\b\b\b\b\b\b\b\b\b\b\b\r414/414 [==============================] - 17s 41ms/step - loss: 0.1396 - accuracy: 0.9518 - val_loss: 0.3115 - val_accuracy: 0.9026\n",
            "Epoch 68/100\n",
            "414/414 [==============================] - ETA: 0s - loss: 0.1408 - accuracy: 0.9497"
          ]
        },
        {
          "output_type": "stream",
          "name": "stderr",
          "text": [
            "WARNING:tensorflow:Can save best model only with val_acc available, skipping.\n"
          ]
        },
        {
          "output_type": "stream",
          "name": "stdout",
          "text": [
            "\b\b\b\b\b\b\b\b\b\b\b\b\b\b\b\b\b\b\b\b\b\b\b\b\b\b\b\b\b\b\b\b\b\b\b\b\b\b\b\b\b\b\b\b\b\b\b\b\b\b\b\b\b\b\b\b\b\b\b\b\b\b\b\b\b\b\b\b\b\b\b\b\b\b\b\b\b\b\b\b\b\b\b\b\r414/414 [==============================] - 17s 41ms/step - loss: 0.1408 - accuracy: 0.9497 - val_loss: 0.3017 - val_accuracy: 0.9077\n",
            "Epoch 69/100\n",
            "414/414 [==============================] - ETA: 0s - loss: 0.1377 - accuracy: 0.9517"
          ]
        },
        {
          "output_type": "stream",
          "name": "stderr",
          "text": [
            "WARNING:tensorflow:Can save best model only with val_acc available, skipping.\n"
          ]
        },
        {
          "output_type": "stream",
          "name": "stdout",
          "text": [
            "\b\b\b\b\b\b\b\b\b\b\b\b\b\b\b\b\b\b\b\b\b\b\b\b\b\b\b\b\b\b\b\b\b\b\b\b\b\b\b\b\b\b\b\b\b\b\b\b\b\b\b\b\b\b\b\b\b\b\b\b\b\b\b\b\b\b\b\b\b\b\b\b\b\b\b\b\b\b\b\b\b\b\b\b\r414/414 [==============================] - 17s 41ms/step - loss: 0.1377 - accuracy: 0.9517 - val_loss: 0.2982 - val_accuracy: 0.9090\n",
            "Epoch 70/100\n",
            "414/414 [==============================] - ETA: 0s - loss: 0.1532 - accuracy: 0.9463"
          ]
        },
        {
          "output_type": "stream",
          "name": "stderr",
          "text": [
            "WARNING:tensorflow:Can save best model only with val_acc available, skipping.\n"
          ]
        },
        {
          "output_type": "stream",
          "name": "stdout",
          "text": [
            "\b\b\b\b\b\b\b\b\b\b\b\b\b\b\b\b\b\b\b\b\b\b\b\b\b\b\b\b\b\b\b\b\b\b\b\b\b\b\b\b\b\b\b\b\b\b\b\b\b\b\b\b\b\b\b\b\b\b\b\b\b\b\b\b\b\b\b\b\b\b\b\b\b\b\b\b\b\b\b\b\b\b\b\b\r414/414 [==============================] - 17s 41ms/step - loss: 0.1532 - accuracy: 0.9463 - val_loss: 0.3089 - val_accuracy: 0.9094\n",
            "Epoch 71/100\n",
            "414/414 [==============================] - ETA: 0s - loss: 0.1424 - accuracy: 0.9501"
          ]
        },
        {
          "output_type": "stream",
          "name": "stderr",
          "text": [
            "WARNING:tensorflow:Can save best model only with val_acc available, skipping.\n"
          ]
        },
        {
          "output_type": "stream",
          "name": "stdout",
          "text": [
            "\b\b\b\b\b\b\b\b\b\b\b\b\b\b\b\b\b\b\b\b\b\b\b\b\b\b\b\b\b\b\b\b\b\b\b\b\b\b\b\b\b\b\b\b\b\b\b\b\b\b\b\b\b\b\b\b\b\b\b\b\b\b\b\b\b\b\b\b\b\b\b\b\b\b\b\b\b\b\b\b\b\b\b\b\r414/414 [==============================] - 17s 41ms/step - loss: 0.1424 - accuracy: 0.9501 - val_loss: 0.3092 - val_accuracy: 0.9077\n",
            "Epoch 72/100\n",
            "413/414 [============================>.] - ETA: 0s - loss: 0.1345 - accuracy: 0.9519"
          ]
        },
        {
          "output_type": "stream",
          "name": "stderr",
          "text": [
            "WARNING:tensorflow:Can save best model only with val_acc available, skipping.\n"
          ]
        },
        {
          "output_type": "stream",
          "name": "stdout",
          "text": [
            "\b\b\b\b\b\b\b\b\b\b\b\b\b\b\b\b\b\b\b\b\b\b\b\b\b\b\b\b\b\b\b\b\b\b\b\b\b\b\b\b\b\b\b\b\b\b\b\b\b\b\b\b\b\b\b\b\b\b\b\b\b\b\b\b\b\b\b\b\b\b\b\b\b\b\b\b\b\b\b\b\b\b\b\b\r414/414 [==============================] - 17s 41ms/step - loss: 0.1345 - accuracy: 0.9519 - val_loss: 0.3070 - val_accuracy: 0.9106\n",
            "Epoch 73/100\n",
            "413/414 [============================>.] - ETA: 0s - loss: 0.1234 - accuracy: 0.9570"
          ]
        },
        {
          "output_type": "stream",
          "name": "stderr",
          "text": [
            "WARNING:tensorflow:Can save best model only with val_acc available, skipping.\n"
          ]
        },
        {
          "output_type": "stream",
          "name": "stdout",
          "text": [
            "\b\b\b\b\b\b\b\b\b\b\b\b\b\b\b\b\b\b\b\b\b\b\b\b\b\b\b\b\b\b\b\b\b\b\b\b\b\b\b\b\b\b\b\b\b\b\b\b\b\b\b\b\b\b\b\b\b\b\b\b\b\b\b\b\b\b\b\b\b\b\b\b\b\b\b\b\b\b\b\b\b\b\b\b\r414/414 [==============================] - 19s 47ms/step - loss: 0.1234 - accuracy: 0.9571 - val_loss: 0.3258 - val_accuracy: 0.9075\n",
            "Epoch 74/100\n",
            "414/414 [==============================] - ETA: 0s - loss: 0.1338 - accuracy: 0.9528"
          ]
        },
        {
          "output_type": "stream",
          "name": "stderr",
          "text": [
            "WARNING:tensorflow:Can save best model only with val_acc available, skipping.\n"
          ]
        },
        {
          "output_type": "stream",
          "name": "stdout",
          "text": [
            "\b\b\b\b\b\b\b\b\b\b\b\b\b\b\b\b\b\b\b\b\b\b\b\b\b\b\b\b\b\b\b\b\b\b\b\b\b\b\b\b\b\b\b\b\b\b\b\b\b\b\b\b\b\b\b\b\b\b\b\b\b\b\b\b\b\b\b\b\b\b\b\b\b\b\b\b\b\b\b\b\b\b\b\b\r414/414 [==============================] - 18s 43ms/step - loss: 0.1338 - accuracy: 0.9528 - val_loss: 0.3269 - val_accuracy: 0.9055\n",
            "Epoch 75/100\n",
            "414/414 [==============================] - ETA: 0s - loss: 0.1375 - accuracy: 0.9512"
          ]
        },
        {
          "output_type": "stream",
          "name": "stderr",
          "text": [
            "WARNING:tensorflow:Can save best model only with val_acc available, skipping.\n"
          ]
        },
        {
          "output_type": "stream",
          "name": "stdout",
          "text": [
            "\b\b\b\b\b\b\b\b\b\b\b\b\b\b\b\b\b\b\b\b\b\b\b\b\b\b\b\b\b\b\b\b\b\b\b\b\b\b\b\b\b\b\b\b\b\b\b\b\b\b\b\b\b\b\b\b\b\b\b\b\b\b\b\b\b\b\b\b\b\b\b\b\b\b\b\b\b\b\b\b\b\b\b\b\r414/414 [==============================] - 17s 41ms/step - loss: 0.1375 - accuracy: 0.9512 - val_loss: 0.3254 - val_accuracy: 0.9058\n",
            "Epoch 76/100\n",
            "413/414 [============================>.] - ETA: 0s - loss: 0.1246 - accuracy: 0.9554"
          ]
        },
        {
          "output_type": "stream",
          "name": "stderr",
          "text": [
            "WARNING:tensorflow:Can save best model only with val_acc available, skipping.\n"
          ]
        },
        {
          "output_type": "stream",
          "name": "stdout",
          "text": [
            "\b\b\b\b\b\b\b\b\b\b\b\b\b\b\b\b\b\b\b\b\b\b\b\b\b\b\b\b\b\b\b\b\b\b\b\b\b\b\b\b\b\b\b\b\b\b\b\b\b\b\b\b\b\b\b\b\b\b\b\b\b\b\b\b\b\b\b\b\b\b\b\b\b\b\b\b\b\b\b\b\b\b\b\b\r414/414 [==============================] - 17s 41ms/step - loss: 0.1246 - accuracy: 0.9554 - val_loss: 0.3287 - val_accuracy: 0.9035\n",
            "Epoch 77/100\n",
            "414/414 [==============================] - ETA: 0s - loss: 0.1202 - accuracy: 0.9578"
          ]
        },
        {
          "output_type": "stream",
          "name": "stderr",
          "text": [
            "WARNING:tensorflow:Can save best model only with val_acc available, skipping.\n"
          ]
        },
        {
          "output_type": "stream",
          "name": "stdout",
          "text": [
            "\b\b\b\b\b\b\b\b\b\b\b\b\b\b\b\b\b\b\b\b\b\b\b\b\b\b\b\b\b\b\b\b\b\b\b\b\b\b\b\b\b\b\b\b\b\b\b\b\b\b\b\b\b\b\b\b\b\b\b\b\b\b\b\b\b\b\b\b\b\b\b\b\b\b\b\b\b\b\b\b\b\b\b\b\r414/414 [==============================] - 17s 41ms/step - loss: 0.1202 - accuracy: 0.9578 - val_loss: 0.3199 - val_accuracy: 0.9100\n",
            "Epoch 78/100\n",
            "413/414 [============================>.] - ETA: 0s - loss: 0.1285 - accuracy: 0.9537"
          ]
        },
        {
          "output_type": "stream",
          "name": "stderr",
          "text": [
            "WARNING:tensorflow:Can save best model only with val_acc available, skipping.\n"
          ]
        },
        {
          "output_type": "stream",
          "name": "stdout",
          "text": [
            "\b\b\b\b\b\b\b\b\b\b\b\b\b\b\b\b\b\b\b\b\b\b\b\b\b\b\b\b\b\b\b\b\b\b\b\b\b\b\b\b\b\b\b\b\b\b\b\b\b\b\b\b\b\b\b\b\b\b\b\b\b\b\b\b\b\b\b\b\b\b\b\b\b\b\b\b\b\b\b\b\b\b\b\b\r414/414 [==============================] - 17s 41ms/step - loss: 0.1284 - accuracy: 0.9537 - val_loss: 0.3251 - val_accuracy: 0.9050\n",
            "Epoch 79/100\n",
            "413/414 [============================>.] - ETA: 0s - loss: 0.1290 - accuracy: 0.9545"
          ]
        },
        {
          "output_type": "stream",
          "name": "stderr",
          "text": [
            "WARNING:tensorflow:Can save best model only with val_acc available, skipping.\n"
          ]
        },
        {
          "output_type": "stream",
          "name": "stdout",
          "text": [
            "\b\b\b\b\b\b\b\b\b\b\b\b\b\b\b\b\b\b\b\b\b\b\b\b\b\b\b\b\b\b\b\b\b\b\b\b\b\b\b\b\b\b\b\b\b\b\b\b\b\b\b\b\b\b\b\b\b\b\b\b\b\b\b\b\b\b\b\b\b\b\b\b\b\b\b\b\b\b\b\b\b\b\b\b\r414/414 [==============================] - 17s 41ms/step - loss: 0.1290 - accuracy: 0.9545 - val_loss: 0.3343 - val_accuracy: 0.9041\n",
            "Epoch 80/100\n",
            "414/414 [==============================] - ETA: 0s - loss: 0.1218 - accuracy: 0.9569"
          ]
        },
        {
          "output_type": "stream",
          "name": "stderr",
          "text": [
            "WARNING:tensorflow:Can save best model only with val_acc available, skipping.\n"
          ]
        },
        {
          "output_type": "stream",
          "name": "stdout",
          "text": [
            "\b\b\b\b\b\b\b\b\b\b\b\b\b\b\b\b\b\b\b\b\b\b\b\b\b\b\b\b\b\b\b\b\b\b\b\b\b\b\b\b\b\b\b\b\b\b\b\b\b\b\b\b\b\b\b\b\b\b\b\b\b\b\b\b\b\b\b\b\b\b\b\b\b\b\b\b\b\b\b\b\b\b\b\b\r414/414 [==============================] - 17s 41ms/step - loss: 0.1218 - accuracy: 0.9569 - val_loss: 0.3259 - val_accuracy: 0.9035\n",
            "Epoch 81/100\n",
            "414/414 [==============================] - ETA: 0s - loss: 0.1188 - accuracy: 0.9578"
          ]
        },
        {
          "output_type": "stream",
          "name": "stderr",
          "text": [
            "WARNING:tensorflow:Can save best model only with val_acc available, skipping.\n"
          ]
        },
        {
          "output_type": "stream",
          "name": "stdout",
          "text": [
            "\b\b\b\b\b\b\b\b\b\b\b\b\b\b\b\b\b\b\b\b\b\b\b\b\b\b\b\b\b\b\b\b\b\b\b\b\b\b\b\b\b\b\b\b\b\b\b\b\b\b\b\b\b\b\b\b\b\b\b\b\b\b\b\b\b\b\b\b\b\b\b\b\b\b\b\b\b\b\b\b\b\b\b\b\r414/414 [==============================] - 17s 41ms/step - loss: 0.1188 - accuracy: 0.9578 - val_loss: 0.3122 - val_accuracy: 0.9111\n",
            "Epoch 82/100\n",
            "414/414 [==============================] - ETA: 0s - loss: 0.1146 - accuracy: 0.9590"
          ]
        },
        {
          "output_type": "stream",
          "name": "stderr",
          "text": [
            "WARNING:tensorflow:Can save best model only with val_acc available, skipping.\n"
          ]
        },
        {
          "output_type": "stream",
          "name": "stdout",
          "text": [
            "\b\b\b\b\b\b\b\b\b\b\b\b\b\b\b\b\b\b\b\b\b\b\b\b\b\b\b\b\b\b\b\b\b\b\b\b\b\b\b\b\b\b\b\b\b\b\b\b\b\b\b\b\b\b\b\b\b\b\b\b\b\b\b\b\b\b\b\b\b\b\b\b\b\b\b\b\b\b\b\b\b\b\b\b\r414/414 [==============================] - 17s 41ms/step - loss: 0.1146 - accuracy: 0.9590 - val_loss: 0.3277 - val_accuracy: 0.9111\n",
            "Epoch 83/100\n",
            "413/414 [============================>.] - ETA: 0s - loss: 0.1253 - accuracy: 0.9562"
          ]
        },
        {
          "output_type": "stream",
          "name": "stderr",
          "text": [
            "WARNING:tensorflow:Can save best model only with val_acc available, skipping.\n"
          ]
        },
        {
          "output_type": "stream",
          "name": "stdout",
          "text": [
            "\b\b\b\b\b\b\b\b\b\b\b\b\b\b\b\b\b\b\b\b\b\b\b\b\b\b\b\b\b\b\b\b\b\b\b\b\b\b\b\b\b\b\b\b\b\b\b\b\b\b\b\b\b\b\b\b\b\b\b\b\b\b\b\b\b\b\b\b\b\b\b\b\b\b\b\b\b\b\b\b\b\b\b\b\r414/414 [==============================] - 17s 41ms/step - loss: 0.1253 - accuracy: 0.9562 - val_loss: 0.3365 - val_accuracy: 0.9076\n",
            "Epoch 84/100\n",
            "413/414 [============================>.] - ETA: 0s - loss: 0.1153 - accuracy: 0.9591"
          ]
        },
        {
          "output_type": "stream",
          "name": "stderr",
          "text": [
            "WARNING:tensorflow:Can save best model only with val_acc available, skipping.\n"
          ]
        },
        {
          "output_type": "stream",
          "name": "stdout",
          "text": [
            "\b\b\b\b\b\b\b\b\b\b\b\b\b\b\b\b\b\b\b\b\b\b\b\b\b\b\b\b\b\b\b\b\b\b\b\b\b\b\b\b\b\b\b\b\b\b\b\b\b\b\b\b\b\b\b\b\b\b\b\b\b\b\b\b\b\b\b\b\b\b\b\b\b\b\b\b\b\b\b\b\b\b\b\b\r414/414 [==============================] - 17s 41ms/step - loss: 0.1153 - accuracy: 0.9592 - val_loss: 0.3328 - val_accuracy: 0.9116\n",
            "Epoch 85/100\n",
            "414/414 [==============================] - ETA: 0s - loss: 0.1076 - accuracy: 0.9621"
          ]
        },
        {
          "output_type": "stream",
          "name": "stderr",
          "text": [
            "WARNING:tensorflow:Can save best model only with val_acc available, skipping.\n"
          ]
        },
        {
          "output_type": "stream",
          "name": "stdout",
          "text": [
            "\b\b\b\b\b\b\b\b\b\b\b\b\b\b\b\b\b\b\b\b\b\b\b\b\b\b\b\b\b\b\b\b\b\b\b\b\b\b\b\b\b\b\b\b\b\b\b\b\b\b\b\b\b\b\b\b\b\b\b\b\b\b\b\b\b\b\b\b\b\b\b\b\b\b\b\b\b\b\b\b\b\b\b\b\r414/414 [==============================] - 17s 41ms/step - loss: 0.1076 - accuracy: 0.9621 - val_loss: 0.3206 - val_accuracy: 0.9119\n",
            "Epoch 86/100\n",
            "414/414 [==============================] - ETA: 0s - loss: 0.1145 - accuracy: 0.9606"
          ]
        },
        {
          "output_type": "stream",
          "name": "stderr",
          "text": [
            "WARNING:tensorflow:Can save best model only with val_acc available, skipping.\n"
          ]
        },
        {
          "output_type": "stream",
          "name": "stdout",
          "text": [
            "\b\b\b\b\b\b\b\b\b\b\b\b\b\b\b\b\b\b\b\b\b\b\b\b\b\b\b\b\b\b\b\b\b\b\b\b\b\b\b\b\b\b\b\b\b\b\b\b\b\b\b\b\b\b\b\b\b\b\b\b\b\b\b\b\b\b\b\b\b\b\b\b\b\b\b\b\b\b\b\b\b\b\b\b\r414/414 [==============================] - 18s 43ms/step - loss: 0.1145 - accuracy: 0.9606 - val_loss: 0.3303 - val_accuracy: 0.9080\n",
            "Epoch 87/100\n",
            "414/414 [==============================] - ETA: 0s - loss: 0.1241 - accuracy: 0.9553"
          ]
        },
        {
          "output_type": "stream",
          "name": "stderr",
          "text": [
            "WARNING:tensorflow:Can save best model only with val_acc available, skipping.\n"
          ]
        },
        {
          "output_type": "stream",
          "name": "stdout",
          "text": [
            "\b\b\b\b\b\b\b\b\b\b\b\b\b\b\b\b\b\b\b\b\b\b\b\b\b\b\b\b\b\b\b\b\b\b\b\b\b\b\b\b\b\b\b\b\b\b\b\b\b\b\b\b\b\b\b\b\b\b\b\b\b\b\b\b\b\b\b\b\b\b\b\b\b\b\b\b\b\b\b\b\b\b\b\b\r414/414 [==============================] - 18s 44ms/step - loss: 0.1241 - accuracy: 0.9553 - val_loss: 0.3391 - val_accuracy: 0.9080\n",
            "Epoch 88/100\n",
            "414/414 [==============================] - ETA: 0s - loss: 0.1075 - accuracy: 0.9635"
          ]
        },
        {
          "output_type": "stream",
          "name": "stderr",
          "text": [
            "WARNING:tensorflow:Can save best model only with val_acc available, skipping.\n"
          ]
        },
        {
          "output_type": "stream",
          "name": "stdout",
          "text": [
            "\b\b\b\b\b\b\b\b\b\b\b\b\b\b\b\b\b\b\b\b\b\b\b\b\b\b\b\b\b\b\b\b\b\b\b\b\b\b\b\b\b\b\b\b\b\b\b\b\b\b\b\b\b\b\b\b\b\b\b\b\b\b\b\b\b\b\b\b\b\b\b\b\b\b\b\b\b\b\b\b\b\b\b\b\r414/414 [==============================] - 17s 41ms/step - loss: 0.1075 - accuracy: 0.9635 - val_loss: 0.3304 - val_accuracy: 0.9101\n",
            "Epoch 89/100\n",
            "414/414 [==============================] - ETA: 0s - loss: 0.1013 - accuracy: 0.9654"
          ]
        },
        {
          "output_type": "stream",
          "name": "stderr",
          "text": [
            "WARNING:tensorflow:Can save best model only with val_acc available, skipping.\n"
          ]
        },
        {
          "output_type": "stream",
          "name": "stdout",
          "text": [
            "\b\b\b\b\b\b\b\b\b\b\b\b\b\b\b\b\b\b\b\b\b\b\b\b\b\b\b\b\b\b\b\b\b\b\b\b\b\b\b\b\b\b\b\b\b\b\b\b\b\b\b\b\b\b\b\b\b\b\b\b\b\b\b\b\b\b\b\b\b\b\b\b\b\b\b\b\b\b\b\b\b\b\b\b\r414/414 [==============================] - 17s 41ms/step - loss: 0.1013 - accuracy: 0.9654 - val_loss: 0.3378 - val_accuracy: 0.9123\n",
            "Epoch 90/100\n",
            "413/414 [============================>.] - ETA: 0s - loss: 0.1209 - accuracy: 0.9569"
          ]
        },
        {
          "output_type": "stream",
          "name": "stderr",
          "text": [
            "WARNING:tensorflow:Can save best model only with val_acc available, skipping.\n"
          ]
        },
        {
          "output_type": "stream",
          "name": "stdout",
          "text": [
            "\b\b\b\b\b\b\b\b\b\b\b\b\b\b\b\b\b\b\b\b\b\b\b\b\b\b\b\b\b\b\b\b\b\b\b\b\b\b\b\b\b\b\b\b\b\b\b\b\b\b\b\b\b\b\b\b\b\b\b\b\b\b\b\b\b\b\b\b\b\b\b\b\b\b\b\b\b\b\b\b\b\b\b\b\r414/414 [==============================] - 17s 41ms/step - loss: 0.1208 - accuracy: 0.9569 - val_loss: 0.3531 - val_accuracy: 0.9038\n",
            "Epoch 91/100\n",
            "414/414 [==============================] - ETA: 0s - loss: 0.1183 - accuracy: 0.9593"
          ]
        },
        {
          "output_type": "stream",
          "name": "stderr",
          "text": [
            "WARNING:tensorflow:Can save best model only with val_acc available, skipping.\n"
          ]
        },
        {
          "output_type": "stream",
          "name": "stdout",
          "text": [
            "\b\b\b\b\b\b\b\b\b\b\b\b\b\b\b\b\b\b\b\b\b\b\b\b\b\b\b\b\b\b\b\b\b\b\b\b\b\b\b\b\b\b\b\b\b\b\b\b\b\b\b\b\b\b\b\b\b\b\b\b\b\b\b\b\b\b\b\b\b\b\b\b\b\b\b\b\b\b\b\b\b\b\b\b\r414/414 [==============================] - 17s 41ms/step - loss: 0.1183 - accuracy: 0.9593 - val_loss: 0.3482 - val_accuracy: 0.9050\n",
            "Epoch 92/100\n",
            "413/414 [============================>.] - ETA: 0s - loss: 0.1020 - accuracy: 0.9640"
          ]
        },
        {
          "output_type": "stream",
          "name": "stderr",
          "text": [
            "WARNING:tensorflow:Can save best model only with val_acc available, skipping.\n"
          ]
        },
        {
          "output_type": "stream",
          "name": "stdout",
          "text": [
            "\b\b\b\b\b\b\b\b\b\b\b\b\b\b\b\b\b\b\b\b\b\b\b\b\b\b\b\b\b\b\b\b\b\b\b\b\b\b\b\b\b\b\b\b\b\b\b\b\b\b\b\b\b\b\b\b\b\b\b\b\b\b\b\b\b\b\b\b\b\b\b\b\b\b\b\b\b\b\b\b\b\b\b\b\r414/414 [==============================] - 18s 43ms/step - loss: 0.1020 - accuracy: 0.9640 - val_loss: 0.3362 - val_accuracy: 0.9099\n",
            "Epoch 93/100\n",
            "413/414 [============================>.] - ETA: 0s - loss: 0.1106 - accuracy: 0.9617"
          ]
        },
        {
          "output_type": "stream",
          "name": "stderr",
          "text": [
            "WARNING:tensorflow:Can save best model only with val_acc available, skipping.\n"
          ]
        },
        {
          "output_type": "stream",
          "name": "stdout",
          "text": [
            "\b\b\b\b\b\b\b\b\b\b\b\b\b\b\b\b\b\b\b\b\b\b\b\b\b\b\b\b\b\b\b\b\b\b\b\b\b\b\b\b\b\b\b\b\b\b\b\b\b\b\b\b\b\b\b\b\b\b\b\b\b\b\b\b\b\b\b\b\b\b\b\b\b\b\b\b\b\b\b\b\b\b\b\b\r414/414 [==============================] - 17s 41ms/step - loss: 0.1107 - accuracy: 0.9617 - val_loss: 0.3555 - val_accuracy: 0.9086\n",
            "Epoch 94/100\n",
            "413/414 [============================>.] - ETA: 0s - loss: 0.1004 - accuracy: 0.9646"
          ]
        },
        {
          "output_type": "stream",
          "name": "stderr",
          "text": [
            "WARNING:tensorflow:Can save best model only with val_acc available, skipping.\n"
          ]
        },
        {
          "output_type": "stream",
          "name": "stdout",
          "text": [
            "\b\b\b\b\b\b\b\b\b\b\b\b\b\b\b\b\b\b\b\b\b\b\b\b\b\b\b\b\b\b\b\b\b\b\b\b\b\b\b\b\b\b\b\b\b\b\b\b\b\b\b\b\b\b\b\b\b\b\b\b\b\b\b\b\b\b\b\b\b\b\b\b\b\b\b\b\b\b\b\b\b\b\b\b\r414/414 [==============================] - 17s 41ms/step - loss: 0.1005 - accuracy: 0.9646 - val_loss: 0.3458 - val_accuracy: 0.9137\n",
            "Epoch 95/100\n",
            "414/414 [==============================] - ETA: 0s - loss: 0.0967 - accuracy: 0.9660"
          ]
        },
        {
          "output_type": "stream",
          "name": "stderr",
          "text": [
            "WARNING:tensorflow:Can save best model only with val_acc available, skipping.\n"
          ]
        },
        {
          "output_type": "stream",
          "name": "stdout",
          "text": [
            "\b\b\b\b\b\b\b\b\b\b\b\b\b\b\b\b\b\b\b\b\b\b\b\b\b\b\b\b\b\b\b\b\b\b\b\b\b\b\b\b\b\b\b\b\b\b\b\b\b\b\b\b\b\b\b\b\b\b\b\b\b\b\b\b\b\b\b\b\b\b\b\b\b\b\b\b\b\b\b\b\b\b\b\b\r414/414 [==============================] - 17s 41ms/step - loss: 0.0967 - accuracy: 0.9660 - val_loss: 0.3413 - val_accuracy: 0.9136\n",
            "Epoch 96/100\n",
            "414/414 [==============================] - ETA: 0s - loss: 0.1069 - accuracy: 0.9619"
          ]
        },
        {
          "output_type": "stream",
          "name": "stderr",
          "text": [
            "WARNING:tensorflow:Can save best model only with val_acc available, skipping.\n"
          ]
        },
        {
          "output_type": "stream",
          "name": "stdout",
          "text": [
            "\b\b\b\b\b\b\b\b\b\b\b\b\b\b\b\b\b\b\b\b\b\b\b\b\b\b\b\b\b\b\b\b\b\b\b\b\b\b\b\b\b\b\b\b\b\b\b\b\b\b\b\b\b\b\b\b\b\b\b\b\b\b\b\b\b\b\b\b\b\b\b\b\b\b\b\b\b\b\b\b\b\b\b\b\r414/414 [==============================] - 17s 41ms/step - loss: 0.1069 - accuracy: 0.9619 - val_loss: 0.3608 - val_accuracy: 0.9099\n",
            "Epoch 97/100\n",
            "413/414 [============================>.] - ETA: 0s - loss: 0.1163 - accuracy: 0.9587"
          ]
        },
        {
          "output_type": "stream",
          "name": "stderr",
          "text": [
            "WARNING:tensorflow:Can save best model only with val_acc available, skipping.\n"
          ]
        },
        {
          "output_type": "stream",
          "name": "stdout",
          "text": [
            "\b\b\b\b\b\b\b\b\b\b\b\b\b\b\b\b\b\b\b\b\b\b\b\b\b\b\b\b\b\b\b\b\b\b\b\b\b\b\b\b\b\b\b\b\b\b\b\b\b\b\b\b\b\b\b\b\b\b\b\b\b\b\b\b\b\b\b\b\b\b\b\b\b\b\b\b\b\b\b\b\b\b\b\b\r414/414 [==============================] - 17s 41ms/step - loss: 0.1163 - accuracy: 0.9587 - val_loss: 0.3723 - val_accuracy: 0.8974\n",
            "Epoch 98/100\n",
            "413/414 [============================>.] - ETA: 0s - loss: 0.1050 - accuracy: 0.9633"
          ]
        },
        {
          "output_type": "stream",
          "name": "stderr",
          "text": [
            "WARNING:tensorflow:Can save best model only with val_acc available, skipping.\n"
          ]
        },
        {
          "output_type": "stream",
          "name": "stdout",
          "text": [
            "\b\b\b\b\b\b\b\b\b\b\b\b\b\b\b\b\b\b\b\b\b\b\b\b\b\b\b\b\b\b\b\b\b\b\b\b\b\b\b\b\b\b\b\b\b\b\b\b\b\b\b\b\b\b\b\b\b\b\b\b\b\b\b\b\b\b\b\b\b\b\b\b\b\b\b\b\b\b\b\b\b\b\b\b\r414/414 [==============================] - 17s 41ms/step - loss: 0.1049 - accuracy: 0.9633 - val_loss: 0.3512 - val_accuracy: 0.9057\n",
            "Epoch 99/100\n",
            "413/414 [============================>.] - ETA: 0s - loss: 0.0950 - accuracy: 0.9663"
          ]
        },
        {
          "output_type": "stream",
          "name": "stderr",
          "text": [
            "WARNING:tensorflow:Can save best model only with val_acc available, skipping.\n"
          ]
        },
        {
          "output_type": "stream",
          "name": "stdout",
          "text": [
            "\b\b\b\b\b\b\b\b\b\b\b\b\b\b\b\b\b\b\b\b\b\b\b\b\b\b\b\b\b\b\b\b\b\b\b\b\b\b\b\b\b\b\b\b\b\b\b\b\b\b\b\b\b\b\b\b\b\b\b\b\b\b\b\b\b\b\b\b\b\b\b\b\b\b\b\b\b\b\b\b\b\b\b\b\r414/414 [==============================] - 17s 41ms/step - loss: 0.0950 - accuracy: 0.9664 - val_loss: 0.3523 - val_accuracy: 0.9089\n",
            "Epoch 100/100\n",
            "414/414 [==============================] - ETA: 0s - loss: 0.0994 - accuracy: 0.9650"
          ]
        },
        {
          "output_type": "stream",
          "name": "stderr",
          "text": [
            "WARNING:tensorflow:Can save best model only with val_acc available, skipping.\n"
          ]
        },
        {
          "output_type": "stream",
          "name": "stdout",
          "text": [
            "\b\b\b\b\b\b\b\b\b\b\b\b\b\b\b\b\b\b\b\b\b\b\b\b\b\b\b\b\b\b\b\b\b\b\b\b\b\b\b\b\b\b\b\b\b\b\b\b\b\b\b\b\b\b\b\b\b\b\b\b\b\b\b\b\b\b\b\b\b\b\b\b\b\b\b\b\b\b\b\b\b\b\b\b\r414/414 [==============================] - 19s 46ms/step - loss: 0.0994 - accuracy: 0.9650 - val_loss: 0.3686 - val_accuracy: 0.9039\n"
          ]
        },
        {
          "output_type": "execute_result",
          "data": {
            "text/plain": [
              "<keras.callbacks.History at 0x7f84134af590>"
            ]
          },
          "metadata": {},
          "execution_count": 27
        }
      ]
    },
    {
      "cell_type": "code",
      "source": [
        "import matplotlib.pyplot as plt\n",
        "print(model.history.history.keys())\n",
        "plt.plot(model.history.history['loss'])\n",
        "plt.plot(model.history.history['accuracy'])\n",
        "plt.plot(model.history.history['val_loss'])\n",
        "plt.plot(model.history.history['val_accuracy'])\n",
        "plt.legend()\n",
        "plt.show()"
      ],
      "metadata": {
        "id": "fI1-zux0WTmm"
      },
      "execution_count": null,
      "outputs": []
    },
    {
      "cell_type": "code",
      "source": [
        "model.evaluate(x_test,y_test)"
      ],
      "metadata": {
        "colab": {
          "base_uri": "https://localhost:8080/"
        },
        "id": "N9TSYe1iXC_Y",
        "outputId": "9987ccac-f13e-420c-c097-5e92701db48c"
      },
      "execution_count": 37,
      "outputs": [
        {
          "output_type": "stream",
          "name": "stdout",
          "text": [
            "277/277 [==============================] - 5s 17ms/step - loss: 0.3686 - accuracy: 0.9039\n"
          ]
        },
        {
          "output_type": "execute_result",
          "data": {
            "text/plain": [
              "[0.36855560541152954, 0.9039069414138794]"
            ]
          },
          "metadata": {},
          "execution_count": 37
        }
      ]
    },
    {
      "cell_type": "code",
      "source": [
        "def encoded_sequence(padded_str,mapping):\n",
        "  encoded_seq = []\n",
        "  for char in padded_str:\n",
        "    encoded_seq.append(int(mapping[char]))\n",
        "  return encoded_seq\n",
        "\n",
        "def predict_gender(model,m_name):\n",
        "  m_name = m_name.lower()\n",
        "  encoded_seq = encoded_sequence(zero_padding(m_name),mapping)\n",
        "  np_encoded_seq = np.array(encoded_seq).reshape(1,20,1)\n",
        "  confidence = model.predict(np_encoded_seq)[0]\n",
        "  confidence = list(confidence)\n",
        "  if(confidence.index(max(confidence)) == 0):\n",
        "    return m_name.upper() + \" -> Female \" + str(round(max(confidence)*100)) + \"%\"\n",
        "  else:\n",
        "    return m_name.upper() + \" -> Male \" + str(round(max(confidence)*100)) + \"%\""
      ],
      "metadata": {
        "id": "JKvtsiEqXWFQ"
      },
      "execution_count": 108,
      "outputs": []
    },
    {
      "cell_type": "code",
      "source": [
        "names = [\"PK Adhya Kumari\",\"Aarvi Saxena KK\",\"Ahaana\",\"Bela Caio\",\"Dhara\",\"Diya Mirza\",\"Prisha Upadhyay\",\"Aanya Pandey\",\"Hari Mehta\",\"Hans Hanthi\",\"Jagan Mohan\",\"Jai Shree\",\"Kala Bagga\",\"Kamal Hasan\",\"Kanan Gill\",\"Milan\",\"Rahul Kumar\",\"Tarak\",\"Aatma Ram\",\"Vihaan Jain\",\"Wali Rehmani\"]\n",
        "for name in names:\n",
        "  print(predict_gender(model,name))"
      ],
      "metadata": {
        "colab": {
          "base_uri": "https://localhost:8080/"
        },
        "id": "YcVtAruWZy84",
        "outputId": "439c1716-47f0-4c3e-bf6a-de09eb010e13"
      },
      "execution_count": 127,
      "outputs": [
        {
          "output_type": "stream",
          "name": "stdout",
          "text": [
            "PK ADHYA KUMARI -> Female 85%\n",
            "AARVI SAXENA KK -> Female 100%\n",
            "AHAANA -> Female 97%\n",
            "BELA CAIO -> Female 100%\n",
            "DHARA -> Female 97%\n",
            "DIYA MIRZA -> Female 100%\n",
            "PRISHA UPADHYAY -> Female 90%\n",
            "AANYA PANDEY -> Female 96%\n",
            "HARI MEHTA -> Female 96%\n",
            "HANS HANTHI -> Male 77%\n",
            "JAGAN MOHAN -> Male 100%\n",
            "JAI SHREE -> Male 69%\n",
            "KALA BAGGA -> Female 57%\n",
            "KAMAL HASAN -> Male 100%\n",
            "KANAN GILL -> Male 100%\n",
            "MILAN -> Male 95%\n",
            "RAHUL KUMAR -> Male 100%\n",
            "TARAK -> Female 81%\n",
            "AATMA RAM -> Male 100%\n",
            "VIHAAN JAIN -> Male 99%\n",
            "WALI REHMANI -> Male 76%\n"
          ]
        }
      ]
    }
  ]
}