{
  "nbformat": 4,
  "nbformat_minor": 0,
  "metadata": {
    "colab": {
      "name": "Male_vs_Female_Name_Classifier.ipynb",
      "provenance": [],
      "collapsed_sections": []
    },
    "kernelspec": {
      "name": "python3",
      "display_name": "Python 3"
    },
    "language_info": {
      "name": "python"
    },
    "accelerator": "GPU",
    "gpuClass": "standard"
  },
  "cells": [
    {
      "cell_type": "code",
      "execution_count": 1,
      "metadata": {
        "id": "JZ9_dN1eEaAc"
      },
      "outputs": [],
      "source": [
        "import torch\n",
        "import torch.nn as nn\n",
        "import pandas as pd \n",
        "from torchtext.vocab import vocab\n",
        "from collections import Counter\n",
        "from sklearn.metrics import f1_score\n",
        "from torchvision import transforms, utils\n",
        "from torch.utils.data import Dataset, DataLoader\n",
        "from sklearn.metrics import accuracy_score\n",
        "from sklearn.metrics import  confusion_matrix\n",
        "import numpy as np"
      ]
    },
    {
      "cell_type": "code",
      "source": [
        "male_names = pd.read_csv(r'https://gist.githubusercontent.com/mbejda/7f86ca901fe41bc14a63/raw/38adb475c14a3f44df9999c1541f3a72f472b30d/Indian-Male-Names.csv')\n",
        "female_names = pd.read_csv(r'https://gist.githubusercontent.com/mbejda/9b93c7545c9dd93060bd/raw/b582593330765df3ccaae6f641f8cddc16f1e879/Indian-Female-Names.csv')\n",
        "names_df = male_names.append(female_names)\n",
        "names_df.to_csv(\"indian_names.csv\", index= False )\n",
        "names_df = pd.read_csv(\"indian_names.csv\")"
      ],
      "metadata": {
        "id": "92WYEQWXQGuT"
      },
      "execution_count": 2,
      "outputs": []
    },
    {
      "cell_type": "code",
      "source": [
        "names_np = names_df.to_numpy()"
      ],
      "metadata": {
        "id": "b34zhpzOf4Dm"
      },
      "execution_count": 3,
      "outputs": []
    },
    {
      "cell_type": "code",
      "source": [
        "import math\n",
        "#remove nan values\n",
        "def remove_nan_entries(names_np):\n",
        "  nan_entry = []\n",
        "  for i in range(len(names_np)):\n",
        "    try:\n",
        "        if(math.isnan(names_np[i][0])):\n",
        "            nan_entry.append(i)\n",
        "    except:\n",
        "        pass\n",
        "  if(nan_entry != []):\n",
        "    names_np=np.delete(names_np,np.array(nan_entry),axis=0)\n",
        "  return names_np\n",
        "\n",
        "#remove nan values\n",
        "def clip_names_with_length_more_than_th(names_np,th=20):\n",
        "  entry =[]\n",
        "  for i in range(len(names_np)):\n",
        "    try:\n",
        "        if(len(names_np[i][0])>th):\n",
        "            entry.append(i)\n",
        "    except:\n",
        "        pass\n",
        "  if(entry != []):\n",
        "    names_np=np.delete(names_np,np.array(entry),axis=0)\n",
        "  return names_np\n",
        "\n",
        "#remove nan values\n",
        "def zero_padding(m_name,th=20):\n",
        "  return (th-len(m_name))//2*'0'+ m_name+(th-len(m_name))//2*'0'+len(m_name)%2*'0'\n",
        "\n",
        "#remove nan values\n",
        "def padding_to_make_consant_length(names_np):\n",
        "  for i in range(len(names_np)):\n",
        "    names_np[i][0] = zero_padding(names_np[i][0])\n",
        "  return names_np\n",
        "\n",
        "names_np = remove_nan_entries(names_np)\n",
        "names_np = clip_names_with_length_more_than_th(names_np)\n",
        "names_np = padding_to_make_consant_length(names_np)"
      ],
      "metadata": {
        "id": "8nOsqxu5NIaP"
      },
      "execution_count": 4,
      "outputs": []
    },
    {
      "cell_type": "code",
      "source": [
        "# Padding to make constant length\n",
        "for i in range(len(names_np)):\n",
        "    try:\n",
        "        if(len(names_np[i][0])<20):\n",
        "            names_np[i][0]=(20-len(names_np[i][0]))//2*'0'+names_np[i][0]+(20-len(names_np[i][0]))//2*'0'+len(names_np[i][0])%2*'0'\n",
        "    except:\n",
        "        pass\n",
        "x=names_np[:,0]\n",
        "y=names_np[:,1:2]"
      ],
      "metadata": {
        "id": "kJ50-osmiSfY"
      },
      "execution_count": 5,
      "outputs": []
    },
    {
      "cell_type": "code",
      "source": [
        "jn = \"\"\n",
        "for entry in x:\n",
        "  jn = jn + str(entry)"
      ],
      "metadata": {
        "id": "ESru9FO9g_8W"
      },
      "execution_count": 6,
      "outputs": []
    },
    {
      "cell_type": "code",
      "source": [
        "from sklearn.preprocessing import LabelEncoder,OneHotEncoder\n",
        "from sklearn.model_selection import train_test_split\n",
        "lbl=LabelEncoder()\n",
        "one=OneHotEncoder()\n",
        "\n",
        "y=lbl.fit_transform(y)\n",
        "y=one.fit_transform(y.reshape(len(y),1)).toarray()"
      ],
      "metadata": {
        "colab": {
          "base_uri": "https://localhost:8080/"
        },
        "id": "ZwlzAM3RhSyA",
        "outputId": "cc2fbeca-0a10-4fbe-cd5c-54db36237426"
      },
      "execution_count": 7,
      "outputs": [
        {
          "output_type": "stream",
          "name": "stderr",
          "text": [
            "/usr/local/lib/python3.7/dist-packages/sklearn/preprocessing/_label.py:115: DataConversionWarning: A column-vector y was passed when a 1d array was expected. Please change the shape of y to (n_samples, ), for example using ravel().\n",
            "  y = column_or_1d(y, warn=True)\n"
          ]
        }
      ]
    },
    {
      "cell_type": "code",
      "source": [
        "create_own_mapping = False\n",
        "if(create_own_mapping == True):\n",
        "  chars = sorted(list(set(jn)))\n",
        "  mapping = dict((c, i) for i, c in enumerate(chars))\n",
        "else:\n",
        "  mapping = {'\\t': 0, ' ': 1, '$': 2, '&': 3, '(': 4, ')': 5, ',': 6, '-': 7, '.': 8, '/': 9, '0': 10, '1': 11, '2': 12, '4': 13, '8': 14, '@': 15, '[': 16, '`': 17, 'a': 18, 'b': 19, 'c': 20, 'd': 21, 'e': 22, 'f': 23, 'g': 24, 'h': 25, 'i': 26, 'j': 27, 'k': 28, 'l': 29, 'm': 30, 'n': 31, 'o': 32, 'p': 33, 'q': 34, 'r': 35, 's': 36, 't': 37, 'u': 38, 'v': 39, 'w': 40, 'x': 41, 'y': 42, 'z': 43, 'ì': 44, 'ं': 45, 'अ': 46, 'आ': 47, 'इ': 48, 'ई': 49, 'उ': 50, 'ऐ': 51, 'क': 52, 'ख': 53, 'ग': 54, 'च': 55, 'छ': 56, 'ज': 57, 'ट': 58, 'ण': 59, 'त': 60, 'द': 61, 'ध': 62, 'न': 63, 'प': 64, 'फ': 65, 'ब': 66, 'भ': 67, 'म': 68, 'य': 69, 'र': 70, 'ल': 71, 'व': 72, 'श': 73, 'ष': 74, 'स': 75, 'ह': 76, '़': 77, 'ा': 78, 'ि': 79, 'ी': 80, 'ु': 81, 'ू': 82, 'े': 83, 'ै': 84, 'ो': 85, '्': 86, '\\u200d': 87, '�': 88}"
      ],
      "metadata": {
        "id": "6qGrjbOGhg6p"
      },
      "execution_count": 8,
      "outputs": []
    },
    {
      "cell_type": "code",
      "source": [
        "names = []\n",
        "for line in x:\n",
        "  encoded_seq = []\n",
        "  for char in line:\n",
        "    encoded_seq.append(int(mapping[char]))\n",
        "  names.append(encoded_seq)"
      ],
      "metadata": {
        "id": "jg6otCKwLoCX"
      },
      "execution_count": 9,
      "outputs": []
    },
    {
      "cell_type": "code",
      "source": [
        "x=np.array(names).reshape(len(names),20,1)"
      ],
      "metadata": {
        "id": "nNYTf50swqmG"
      },
      "execution_count": 10,
      "outputs": []
    },
    {
      "cell_type": "code",
      "source": [
        "print(x.shape,y.shape)"
      ],
      "metadata": {
        "colab": {
          "base_uri": "https://localhost:8080/"
        },
        "id": "A68BsTyOidEk",
        "outputId": "92e27d7c-98b1-49ea-bd3f-47b7c77f19a8"
      },
      "execution_count": 11,
      "outputs": [
        {
          "output_type": "stream",
          "name": "stdout",
          "text": [
            "(29517, 20, 1) (29517, 2)\n"
          ]
        }
      ]
    },
    {
      "cell_type": "code",
      "source": [
        "x_train,x_test,y_train,y_test = train_test_split(x,y,test_size=0.3,random_state=42)"
      ],
      "metadata": {
        "id": "Lmna3i-yY2UL"
      },
      "execution_count": 12,
      "outputs": []
    },
    {
      "cell_type": "code",
      "source": [
        "#Model\n",
        "from keras.layers import Input, Dense,LSTM\n",
        "from keras.models import Model\n",
        "inp = Input(shape=(20,1))\n",
        "lstm_1 = LSTM(150,return_sequences=True)(inp)\n",
        "lstm_2 = LSTM(100,return_sequences=True)(lstm_1)\n",
        "lstm_3 = LSTM(50,return_sequences=True)(lstm_2)\n",
        "lstm_4 = LSTM(30)(lstm_3)\n",
        "out = Dense(2,activation='softmax')(lstm_4)\n",
        "\n",
        "model = Model(inp,out)\n",
        "print(model.summary())"
      ],
      "metadata": {
        "colab": {
          "base_uri": "https://localhost:8080/"
        },
        "id": "wsvCyT4zNwnI",
        "outputId": "55a2ebba-2554-487c-e6cf-f5b48159d7bf"
      },
      "execution_count": 18,
      "outputs": [
        {
          "output_type": "stream",
          "name": "stdout",
          "text": [
            "Model: \"model_4\"\n",
            "_________________________________________________________________\n",
            " Layer (type)                Output Shape              Param #   \n",
            "=================================================================\n",
            " input_6 (InputLayer)        [(None, 20, 1)]           0         \n",
            "                                                                 \n",
            " lstm_23 (LSTM)              (None, 20, 150)           91200     \n",
            "                                                                 \n",
            " lstm_24 (LSTM)              (None, 20, 100)           100400    \n",
            "                                                                 \n",
            " lstm_25 (LSTM)              (None, 20, 50)            30200     \n",
            "                                                                 \n",
            " lstm_26 (LSTM)              (None, 30)                9720      \n",
            "                                                                 \n",
            " dense_4 (Dense)             (None, 2)                 62        \n",
            "                                                                 \n",
            "=================================================================\n",
            "Total params: 231,582\n",
            "Trainable params: 231,582\n",
            "Non-trainable params: 0\n",
            "_________________________________________________________________\n",
            "None\n"
          ]
        }
      ]
    },
    {
      "cell_type": "code",
      "source": [
        "from keras.callbacks import ModelCheckpoint\n",
        "model.compile(optimizer=\"Adam\",loss=\"categorical_crossentropy\",metrics=[\"accuracy\"])\n",
        "checkpoint = ModelCheckpoint('best_weights.hdf5', monitor='val_acc', verbose=1, save_best_only=True, mode='max')\n",
        "model.fit(x_train,y_train,batch_size=50,epochs=100,verbose=1,callbacks=[checkpoint],validation_data=(x_test,y_test))"
      ],
      "metadata": {
        "colab": {
          "base_uri": "https://localhost:8080/"
        },
        "id": "Dy_exMS4Obfq",
        "outputId": "5f9ed866-7995-4a39-9dba-5585dbe3d4a8"
      },
      "execution_count": 19,
      "outputs": [
        {
          "output_type": "stream",
          "name": "stdout",
          "text": [
            "Epoch 1/100\n",
            "413/414 [============================>.] - ETA: 0s - loss: 0.6153 - accuracy: 0.6550"
          ]
        },
        {
          "output_type": "stream",
          "name": "stderr",
          "text": [
            "WARNING:tensorflow:Can save best model only with val_acc available, skipping.\n"
          ]
        },
        {
          "output_type": "stream",
          "name": "stdout",
          "text": [
            "\b\b\b\b\b\b\b\b\b\b\b\b\b\b\b\b\b\b\b\b\b\b\b\b\b\b\b\b\b\b\b\b\b\b\b\b\b\b\b\b\b\b\b\b\b\b\b\b\b\b\b\b\b\b\b\b\b\b\b\b\b\b\b\b\b\b\b\b\b\b\b\b\b\b\b\b\b\b\b\b\b\b\b\b\r414/414 [==============================] - 17s 16ms/step - loss: 0.6154 - accuracy: 0.6550 - val_loss: 0.5684 - val_accuracy: 0.7047\n",
            "Epoch 2/100\n",
            "414/414 [==============================] - ETA: 0s - loss: 0.5249 - accuracy: 0.7251"
          ]
        },
        {
          "output_type": "stream",
          "name": "stderr",
          "text": [
            "WARNING:tensorflow:Can save best model only with val_acc available, skipping.\n"
          ]
        },
        {
          "output_type": "stream",
          "name": "stdout",
          "text": [
            "\b\b\b\b\b\b\b\b\b\b\b\b\b\b\b\b\b\b\b\b\b\b\b\b\b\b\b\b\b\b\b\b\b\b\b\b\b\b\b\b\b\b\b\b\b\b\b\b\b\b\b\b\b\b\b\b\b\b\b\b\b\b\b\b\b\b\b\b\b\b\b\b\b\b\b\b\b\b\b\b\b\b\b\b\r414/414 [==============================] - 9s 22ms/step - loss: 0.5249 - accuracy: 0.7251 - val_loss: 0.5078 - val_accuracy: 0.7355\n",
            "Epoch 3/100\n",
            "409/414 [============================>.] - ETA: 0s - loss: 0.4935 - accuracy: 0.7358"
          ]
        },
        {
          "output_type": "stream",
          "name": "stderr",
          "text": [
            "WARNING:tensorflow:Can save best model only with val_acc available, skipping.\n"
          ]
        },
        {
          "output_type": "stream",
          "name": "stdout",
          "text": [
            "\b\b\b\b\b\b\b\b\b\b\b\b\b\b\b\b\b\b\b\b\b\b\b\b\b\b\b\b\b\b\b\b\b\b\b\b\b\b\b\b\b\b\b\b\b\b\b\b\b\b\b\b\b\b\b\b\b\b\b\b\b\b\b\b\b\b\b\b\b\b\b\b\b\b\b\b\b\b\b\b\b\b\b\b\r414/414 [==============================] - 6s 15ms/step - loss: 0.4939 - accuracy: 0.7355 - val_loss: 0.4823 - val_accuracy: 0.7555\n",
            "Epoch 4/100\n",
            "413/414 [============================>.] - ETA: 0s - loss: 0.4711 - accuracy: 0.7547"
          ]
        },
        {
          "output_type": "stream",
          "name": "stderr",
          "text": [
            "WARNING:tensorflow:Can save best model only with val_acc available, skipping.\n"
          ]
        },
        {
          "output_type": "stream",
          "name": "stdout",
          "text": [
            "\b\b\b\b\b\b\b\b\b\b\b\b\b\b\b\b\b\b\b\b\b\b\b\b\b\b\b\b\b\b\b\b\b\b\b\b\b\b\b\b\b\b\b\b\b\b\b\b\b\b\b\b\b\b\b\b\b\b\b\b\b\b\b\b\b\b\b\b\b\b\b\b\b\b\b\b\b\b\b\b\b\b\b\b\r414/414 [==============================] - 5s 12ms/step - loss: 0.4711 - accuracy: 0.7546 - val_loss: 0.4572 - val_accuracy: 0.7778\n",
            "Epoch 5/100\n",
            "412/414 [============================>.] - ETA: 0s - loss: 0.4473 - accuracy: 0.7764"
          ]
        },
        {
          "output_type": "stream",
          "name": "stderr",
          "text": [
            "WARNING:tensorflow:Can save best model only with val_acc available, skipping.\n"
          ]
        },
        {
          "output_type": "stream",
          "name": "stdout",
          "text": [
            "\b\b\b\b\b\b\b\b\b\b\b\b\b\b\b\b\b\b\b\b\b\b\b\b\b\b\b\b\b\b\b\b\b\b\b\b\b\b\b\b\b\b\b\b\b\b\b\b\b\b\b\b\b\b\b\b\b\b\b\b\b\b\b\b\b\b\b\b\b\b\b\b\b\b\b\b\b\b\b\b\b\b\b\b\r414/414 [==============================] - 5s 12ms/step - loss: 0.4472 - accuracy: 0.7764 - val_loss: 0.4522 - val_accuracy: 0.7795\n",
            "Epoch 6/100\n",
            "413/414 [============================>.] - ETA: 0s - loss: 0.4233 - accuracy: 0.7964"
          ]
        },
        {
          "output_type": "stream",
          "name": "stderr",
          "text": [
            "WARNING:tensorflow:Can save best model only with val_acc available, skipping.\n"
          ]
        },
        {
          "output_type": "stream",
          "name": "stdout",
          "text": [
            "\b\b\b\b\b\b\b\b\b\b\b\b\b\b\b\b\b\b\b\b\b\b\b\b\b\b\b\b\b\b\b\b\b\b\b\b\b\b\b\b\b\b\b\b\b\b\b\b\b\b\b\b\b\b\b\b\b\b\b\b\b\b\b\b\b\b\b\b\b\b\b\b\b\b\b\b\b\b\b\b\b\b\b\b\r414/414 [==============================] - 5s 12ms/step - loss: 0.4233 - accuracy: 0.7965 - val_loss: 0.4247 - val_accuracy: 0.7960\n",
            "Epoch 7/100\n",
            "409/414 [============================>.] - ETA: 0s - loss: 0.3958 - accuracy: 0.8177"
          ]
        },
        {
          "output_type": "stream",
          "name": "stderr",
          "text": [
            "WARNING:tensorflow:Can save best model only with val_acc available, skipping.\n"
          ]
        },
        {
          "output_type": "stream",
          "name": "stdout",
          "text": [
            "\b\b\b\b\b\b\b\b\b\b\b\b\b\b\b\b\b\b\b\b\b\b\b\b\b\b\b\b\b\b\b\b\b\b\b\b\b\b\b\b\b\b\b\b\b\b\b\b\b\b\b\b\b\b\b\b\b\b\b\b\b\b\b\b\b\b\b\b\b\b\b\b\b\b\b\b\b\b\b\b\b\b\b\b\r414/414 [==============================] - 5s 12ms/step - loss: 0.3963 - accuracy: 0.8176 - val_loss: 0.4243 - val_accuracy: 0.7928\n",
            "Epoch 8/100\n",
            "411/414 [============================>.] - ETA: 0s - loss: 0.3618 - accuracy: 0.8459"
          ]
        },
        {
          "output_type": "stream",
          "name": "stderr",
          "text": [
            "WARNING:tensorflow:Can save best model only with val_acc available, skipping.\n"
          ]
        },
        {
          "output_type": "stream",
          "name": "stdout",
          "text": [
            "\b\b\b\b\b\b\b\b\b\b\b\b\b\b\b\b\b\b\b\b\b\b\b\b\b\b\b\b\b\b\b\b\b\b\b\b\b\b\b\b\b\b\b\b\b\b\b\b\b\b\b\b\b\b\b\b\b\b\b\b\b\b\b\b\b\b\b\b\b\b\b\b\b\b\b\b\b\b\b\b\b\b\b\b\r414/414 [==============================] - 5s 12ms/step - loss: 0.3617 - accuracy: 0.8460 - val_loss: 0.3547 - val_accuracy: 0.8622\n",
            "Epoch 9/100\n",
            "411/414 [============================>.] - ETA: 0s - loss: 0.3436 - accuracy: 0.8600"
          ]
        },
        {
          "output_type": "stream",
          "name": "stderr",
          "text": [
            "WARNING:tensorflow:Can save best model only with val_acc available, skipping.\n"
          ]
        },
        {
          "output_type": "stream",
          "name": "stdout",
          "text": [
            "\b\b\b\b\b\b\b\b\b\b\b\b\b\b\b\b\b\b\b\b\b\b\b\b\b\b\b\b\b\b\b\b\b\b\b\b\b\b\b\b\b\b\b\b\b\b\b\b\b\b\b\b\b\b\b\b\b\b\b\b\b\b\b\b\b\b\b\b\b\b\b\b\b\b\b\b\b\b\b\b\b\b\b\b\r414/414 [==============================] - 5s 12ms/step - loss: 0.3437 - accuracy: 0.8599 - val_loss: 0.3389 - val_accuracy: 0.8652\n",
            "Epoch 10/100\n",
            "410/414 [============================>.] - ETA: 0s - loss: 0.3192 - accuracy: 0.8724"
          ]
        },
        {
          "output_type": "stream",
          "name": "stderr",
          "text": [
            "WARNING:tensorflow:Can save best model only with val_acc available, skipping.\n"
          ]
        },
        {
          "output_type": "stream",
          "name": "stdout",
          "text": [
            "\b\b\b\b\b\b\b\b\b\b\b\b\b\b\b\b\b\b\b\b\b\b\b\b\b\b\b\b\b\b\b\b\b\b\b\b\b\b\b\b\b\b\b\b\b\b\b\b\b\b\b\b\b\b\b\b\b\b\b\b\b\b\b\b\b\b\b\b\b\b\b\b\b\b\b\b\b\b\b\b\b\b\b\b\r414/414 [==============================] - 5s 12ms/step - loss: 0.3194 - accuracy: 0.8725 - val_loss: 0.3256 - val_accuracy: 0.8759\n",
            "Epoch 11/100\n",
            "410/414 [============================>.] - ETA: 0s - loss: 0.3152 - accuracy: 0.8740"
          ]
        },
        {
          "output_type": "stream",
          "name": "stderr",
          "text": [
            "WARNING:tensorflow:Can save best model only with val_acc available, skipping.\n"
          ]
        },
        {
          "output_type": "stream",
          "name": "stdout",
          "text": [
            "\b\b\b\b\b\b\b\b\b\b\b\b\b\b\b\b\b\b\b\b\b\b\b\b\b\b\b\b\b\b\b\b\b\b\b\b\b\b\b\b\b\b\b\b\b\b\b\b\b\b\b\b\b\b\b\b\b\b\b\b\b\b\b\b\b\b\b\b\b\b\b\b\b\b\b\b\b\b\b\b\b\b\b\b\r414/414 [==============================] - 5s 12ms/step - loss: 0.3148 - accuracy: 0.8743 - val_loss: 0.3206 - val_accuracy: 0.8773\n",
            "Epoch 12/100\n",
            "412/414 [============================>.] - ETA: 0s - loss: 0.2974 - accuracy: 0.8845"
          ]
        },
        {
          "output_type": "stream",
          "name": "stderr",
          "text": [
            "WARNING:tensorflow:Can save best model only with val_acc available, skipping.\n"
          ]
        },
        {
          "output_type": "stream",
          "name": "stdout",
          "text": [
            "\b\b\b\b\b\b\b\b\b\b\b\b\b\b\b\b\b\b\b\b\b\b\b\b\b\b\b\b\b\b\b\b\b\b\b\b\b\b\b\b\b\b\b\b\b\b\b\b\b\b\b\b\b\b\b\b\b\b\b\b\b\b\b\b\b\b\b\b\b\b\b\b\b\b\b\b\b\b\b\b\b\b\b\b\r414/414 [==============================] - 5s 12ms/step - loss: 0.2974 - accuracy: 0.8844 - val_loss: 0.3101 - val_accuracy: 0.8765\n",
            "Epoch 13/100\n",
            "409/414 [============================>.] - ETA: 0s - loss: 0.2881 - accuracy: 0.8885"
          ]
        },
        {
          "output_type": "stream",
          "name": "stderr",
          "text": [
            "WARNING:tensorflow:Can save best model only with val_acc available, skipping.\n"
          ]
        },
        {
          "output_type": "stream",
          "name": "stdout",
          "text": [
            "\b\b\b\b\b\b\b\b\b\b\b\b\b\b\b\b\b\b\b\b\b\b\b\b\b\b\b\b\b\b\b\b\b\b\b\b\b\b\b\b\b\b\b\b\b\b\b\b\b\b\b\b\b\b\b\b\b\b\b\b\b\b\b\b\b\b\b\b\b\b\b\b\b\b\b\b\b\b\b\b\b\b\b\b\r414/414 [==============================] - 5s 12ms/step - loss: 0.2877 - accuracy: 0.8886 - val_loss: 0.3095 - val_accuracy: 0.8805\n",
            "Epoch 14/100\n",
            "411/414 [============================>.] - ETA: 0s - loss: 0.2773 - accuracy: 0.8943"
          ]
        },
        {
          "output_type": "stream",
          "name": "stderr",
          "text": [
            "WARNING:tensorflow:Can save best model only with val_acc available, skipping.\n"
          ]
        },
        {
          "output_type": "stream",
          "name": "stdout",
          "text": [
            "\b\b\b\b\b\b\b\b\b\b\b\b\b\b\b\b\b\b\b\b\b\b\b\b\b\b\b\b\b\b\b\b\b\b\b\b\b\b\b\b\b\b\b\b\b\b\b\b\b\b\b\b\b\b\b\b\b\b\b\b\b\b\b\b\b\b\b\b\b\b\b\b\b\b\b\b\b\b\b\b\b\b\b\b\r414/414 [==============================] - 5s 12ms/step - loss: 0.2773 - accuracy: 0.8942 - val_loss: 0.2943 - val_accuracy: 0.8844\n",
            "Epoch 15/100\n",
            "412/414 [============================>.] - ETA: 0s - loss: 0.2676 - accuracy: 0.8977"
          ]
        },
        {
          "output_type": "stream",
          "name": "stderr",
          "text": [
            "WARNING:tensorflow:Can save best model only with val_acc available, skipping.\n"
          ]
        },
        {
          "output_type": "stream",
          "name": "stdout",
          "text": [
            "\b\b\b\b\b\b\b\b\b\b\b\b\b\b\b\b\b\b\b\b\b\b\b\b\b\b\b\b\b\b\b\b\b\b\b\b\b\b\b\b\b\b\b\b\b\b\b\b\b\b\b\b\b\b\b\b\b\b\b\b\b\b\b\b\b\b\b\b\b\b\b\b\b\b\b\b\b\b\b\b\b\b\b\b\r414/414 [==============================] - 5s 12ms/step - loss: 0.2677 - accuracy: 0.8977 - val_loss: 0.2998 - val_accuracy: 0.8849\n",
            "Epoch 16/100\n",
            "414/414 [==============================] - ETA: 0s - loss: 0.2574 - accuracy: 0.9033"
          ]
        },
        {
          "output_type": "stream",
          "name": "stderr",
          "text": [
            "WARNING:tensorflow:Can save best model only with val_acc available, skipping.\n"
          ]
        },
        {
          "output_type": "stream",
          "name": "stdout",
          "text": [
            "\b\b\b\b\b\b\b\b\b\b\b\b\b\b\b\b\b\b\b\b\b\b\b\b\b\b\b\b\b\b\b\b\b\b\b\b\b\b\b\b\b\b\b\b\b\b\b\b\b\b\b\b\b\b\b\b\b\b\b\b\b\b\b\b\b\b\b\b\b\b\b\b\b\b\b\b\b\b\b\b\b\b\b\b\r414/414 [==============================] - 5s 12ms/step - loss: 0.2574 - accuracy: 0.9033 - val_loss: 0.2957 - val_accuracy: 0.8815\n",
            "Epoch 17/100\n",
            "409/414 [============================>.] - ETA: 0s - loss: 0.2480 - accuracy: 0.9067"
          ]
        },
        {
          "output_type": "stream",
          "name": "stderr",
          "text": [
            "WARNING:tensorflow:Can save best model only with val_acc available, skipping.\n"
          ]
        },
        {
          "output_type": "stream",
          "name": "stdout",
          "text": [
            "\b\b\b\b\b\b\b\b\b\b\b\b\b\b\b\b\b\b\b\b\b\b\b\b\b\b\b\b\b\b\b\b\b\b\b\b\b\b\b\b\b\b\b\b\b\b\b\b\b\b\b\b\b\b\b\b\b\b\b\b\b\b\b\b\b\b\b\b\b\b\b\b\b\b\b\b\b\b\b\b\b\b\b\b\r414/414 [==============================] - 5s 12ms/step - loss: 0.2472 - accuracy: 0.9072 - val_loss: 0.2832 - val_accuracy: 0.8952\n",
            "Epoch 18/100\n",
            "409/414 [============================>.] - ETA: 0s - loss: 0.2440 - accuracy: 0.9077"
          ]
        },
        {
          "output_type": "stream",
          "name": "stderr",
          "text": [
            "WARNING:tensorflow:Can save best model only with val_acc available, skipping.\n"
          ]
        },
        {
          "output_type": "stream",
          "name": "stdout",
          "text": [
            "\b\b\b\b\b\b\b\b\b\b\b\b\b\b\b\b\b\b\b\b\b\b\b\b\b\b\b\b\b\b\b\b\b\b\b\b\b\b\b\b\b\b\b\b\b\b\b\b\b\b\b\b\b\b\b\b\b\b\b\b\b\b\b\b\b\b\b\b\b\b\b\b\b\b\b\b\b\b\b\b\b\b\b\b\r414/414 [==============================] - 5s 12ms/step - loss: 0.2441 - accuracy: 0.9077 - val_loss: 0.2844 - val_accuracy: 0.8941\n",
            "Epoch 19/100\n",
            "411/414 [============================>.] - ETA: 0s - loss: 0.2346 - accuracy: 0.9118"
          ]
        },
        {
          "output_type": "stream",
          "name": "stderr",
          "text": [
            "WARNING:tensorflow:Can save best model only with val_acc available, skipping.\n"
          ]
        },
        {
          "output_type": "stream",
          "name": "stdout",
          "text": [
            "\b\b\b\b\b\b\b\b\b\b\b\b\b\b\b\b\b\b\b\b\b\b\b\b\b\b\b\b\b\b\b\b\b\b\b\b\b\b\b\b\b\b\b\b\b\b\b\b\b\b\b\b\b\b\b\b\b\b\b\b\b\b\b\b\b\b\b\b\b\b\b\b\b\b\b\b\b\b\b\b\b\b\b\b\r414/414 [==============================] - 5s 12ms/step - loss: 0.2345 - accuracy: 0.9118 - val_loss: 0.2812 - val_accuracy: 0.8977\n",
            "Epoch 20/100\n",
            "411/414 [============================>.] - ETA: 0s - loss: 0.2307 - accuracy: 0.9127"
          ]
        },
        {
          "output_type": "stream",
          "name": "stderr",
          "text": [
            "WARNING:tensorflow:Can save best model only with val_acc available, skipping.\n"
          ]
        },
        {
          "output_type": "stream",
          "name": "stdout",
          "text": [
            "\b\b\b\b\b\b\b\b\b\b\b\b\b\b\b\b\b\b\b\b\b\b\b\b\b\b\b\b\b\b\b\b\b\b\b\b\b\b\b\b\b\b\b\b\b\b\b\b\b\b\b\b\b\b\b\b\b\b\b\b\b\b\b\b\b\b\b\b\b\b\b\b\b\b\b\b\b\b\b\b\b\b\b\b\r414/414 [==============================] - 5s 12ms/step - loss: 0.2305 - accuracy: 0.9126 - val_loss: 0.2815 - val_accuracy: 0.8977\n",
            "Epoch 21/100\n",
            "413/414 [============================>.] - ETA: 0s - loss: 0.2192 - accuracy: 0.9199"
          ]
        },
        {
          "output_type": "stream",
          "name": "stderr",
          "text": [
            "WARNING:tensorflow:Can save best model only with val_acc available, skipping.\n"
          ]
        },
        {
          "output_type": "stream",
          "name": "stdout",
          "text": [
            "\b\b\b\b\b\b\b\b\b\b\b\b\b\b\b\b\b\b\b\b\b\b\b\b\b\b\b\b\b\b\b\b\b\b\b\b\b\b\b\b\b\b\b\b\b\b\b\b\b\b\b\b\b\b\b\b\b\b\b\b\b\b\b\b\b\b\b\b\b\b\b\b\b\b\b\b\b\b\b\b\b\b\b\b\r414/414 [==============================] - 5s 12ms/step - loss: 0.2193 - accuracy: 0.9198 - val_loss: 0.3174 - val_accuracy: 0.8780\n",
            "Epoch 22/100\n",
            "414/414 [==============================] - ETA: 0s - loss: 0.2119 - accuracy: 0.9227"
          ]
        },
        {
          "output_type": "stream",
          "name": "stderr",
          "text": [
            "WARNING:tensorflow:Can save best model only with val_acc available, skipping.\n"
          ]
        },
        {
          "output_type": "stream",
          "name": "stdout",
          "text": [
            "\b\b\b\b\b\b\b\b\b\b\b\b\b\b\b\b\b\b\b\b\b\b\b\b\b\b\b\b\b\b\b\b\b\b\b\b\b\b\b\b\b\b\b\b\b\b\b\b\b\b\b\b\b\b\b\b\b\b\b\b\b\b\b\b\b\b\b\b\b\b\b\b\b\b\b\b\b\b\b\b\b\b\b\b\r414/414 [==============================] - 6s 14ms/step - loss: 0.2119 - accuracy: 0.9227 - val_loss: 0.2737 - val_accuracy: 0.8994\n",
            "Epoch 23/100\n",
            "413/414 [============================>.] - ETA: 0s - loss: 0.2057 - accuracy: 0.9231"
          ]
        },
        {
          "output_type": "stream",
          "name": "stderr",
          "text": [
            "WARNING:tensorflow:Can save best model only with val_acc available, skipping.\n"
          ]
        },
        {
          "output_type": "stream",
          "name": "stdout",
          "text": [
            "\b\b\b\b\b\b\b\b\b\b\b\b\b\b\b\b\b\b\b\b\b\b\b\b\b\b\b\b\b\b\b\b\b\b\b\b\b\b\b\b\b\b\b\b\b\b\b\b\b\b\b\b\b\b\b\b\b\b\b\b\b\b\b\b\b\b\b\b\b\b\b\b\b\b\b\b\b\b\b\b\b\b\b\b\r414/414 [==============================] - 5s 12ms/step - loss: 0.2057 - accuracy: 0.9230 - val_loss: 0.2738 - val_accuracy: 0.9040\n",
            "Epoch 24/100\n",
            "412/414 [============================>.] - ETA: 0s - loss: 0.1981 - accuracy: 0.9276"
          ]
        },
        {
          "output_type": "stream",
          "name": "stderr",
          "text": [
            "WARNING:tensorflow:Can save best model only with val_acc available, skipping.\n"
          ]
        },
        {
          "output_type": "stream",
          "name": "stdout",
          "text": [
            "\b\b\b\b\b\b\b\b\b\b\b\b\b\b\b\b\b\b\b\b\b\b\b\b\b\b\b\b\b\b\b\b\b\b\b\b\b\b\b\b\b\b\b\b\b\b\b\b\b\b\b\b\b\b\b\b\b\b\b\b\b\b\b\b\b\b\b\b\b\b\b\b\b\b\b\b\b\b\b\b\b\b\b\b\r414/414 [==============================] - 5s 12ms/step - loss: 0.1979 - accuracy: 0.9277 - val_loss: 0.2685 - val_accuracy: 0.9064\n",
            "Epoch 25/100\n",
            "411/414 [============================>.] - ETA: 0s - loss: 0.1931 - accuracy: 0.9300"
          ]
        },
        {
          "output_type": "stream",
          "name": "stderr",
          "text": [
            "WARNING:tensorflow:Can save best model only with val_acc available, skipping.\n"
          ]
        },
        {
          "output_type": "stream",
          "name": "stdout",
          "text": [
            "\b\b\b\b\b\b\b\b\b\b\b\b\b\b\b\b\b\b\b\b\b\b\b\b\b\b\b\b\b\b\b\b\b\b\b\b\b\b\b\b\b\b\b\b\b\b\b\b\b\b\b\b\b\b\b\b\b\b\b\b\b\b\b\b\b\b\b\b\b\b\b\b\b\b\b\b\b\b\b\b\b\b\b\b\r414/414 [==============================] - 5s 12ms/step - loss: 0.1933 - accuracy: 0.9299 - val_loss: 0.2843 - val_accuracy: 0.8970\n",
            "Epoch 26/100\n",
            "413/414 [============================>.] - ETA: 0s - loss: 0.1883 - accuracy: 0.9298"
          ]
        },
        {
          "output_type": "stream",
          "name": "stderr",
          "text": [
            "WARNING:tensorflow:Can save best model only with val_acc available, skipping.\n"
          ]
        },
        {
          "output_type": "stream",
          "name": "stdout",
          "text": [
            "\b\b\b\b\b\b\b\b\b\b\b\b\b\b\b\b\b\b\b\b\b\b\b\b\b\b\b\b\b\b\b\b\b\b\b\b\b\b\b\b\b\b\b\b\b\b\b\b\b\b\b\b\b\b\b\b\b\b\b\b\b\b\b\b\b\b\b\b\b\b\b\b\b\b\b\b\b\b\b\b\b\b\b\b\r414/414 [==============================] - 5s 12ms/step - loss: 0.1882 - accuracy: 0.9299 - val_loss: 0.2769 - val_accuracy: 0.9006\n",
            "Epoch 27/100\n",
            "409/414 [============================>.] - ETA: 0s - loss: 0.1791 - accuracy: 0.9348"
          ]
        },
        {
          "output_type": "stream",
          "name": "stderr",
          "text": [
            "WARNING:tensorflow:Can save best model only with val_acc available, skipping.\n"
          ]
        },
        {
          "output_type": "stream",
          "name": "stdout",
          "text": [
            "\b\b\b\b\b\b\b\b\b\b\b\b\b\b\b\b\b\b\b\b\b\b\b\b\b\b\b\b\b\b\b\b\b\b\b\b\b\b\b\b\b\b\b\b\b\b\b\b\b\b\b\b\b\b\b\b\b\b\b\b\b\b\b\b\b\b\b\b\b\b\b\b\b\b\b\b\b\b\b\b\b\b\b\b\r414/414 [==============================] - 5s 12ms/step - loss: 0.1787 - accuracy: 0.9349 - val_loss: 0.2865 - val_accuracy: 0.9026\n",
            "Epoch 28/100\n",
            "413/414 [============================>.] - ETA: 0s - loss: 0.1765 - accuracy: 0.9372"
          ]
        },
        {
          "output_type": "stream",
          "name": "stderr",
          "text": [
            "WARNING:tensorflow:Can save best model only with val_acc available, skipping.\n"
          ]
        },
        {
          "output_type": "stream",
          "name": "stdout",
          "text": [
            "\b\b\b\b\b\b\b\b\b\b\b\b\b\b\b\b\b\b\b\b\b\b\b\b\b\b\b\b\b\b\b\b\b\b\b\b\b\b\b\b\b\b\b\b\b\b\b\b\b\b\b\b\b\b\b\b\b\b\b\b\b\b\b\b\b\b\b\b\b\b\b\b\b\b\b\b\b\b\b\b\b\b\b\b\r414/414 [==============================] - 5s 12ms/step - loss: 0.1765 - accuracy: 0.9372 - val_loss: 0.2639 - val_accuracy: 0.9084\n",
            "Epoch 29/100\n",
            "409/414 [============================>.] - ETA: 0s - loss: 0.1712 - accuracy: 0.9398"
          ]
        },
        {
          "output_type": "stream",
          "name": "stderr",
          "text": [
            "WARNING:tensorflow:Can save best model only with val_acc available, skipping.\n"
          ]
        },
        {
          "output_type": "stream",
          "name": "stdout",
          "text": [
            "\b\b\b\b\b\b\b\b\b\b\b\b\b\b\b\b\b\b\b\b\b\b\b\b\b\b\b\b\b\b\b\b\b\b\b\b\b\b\b\b\b\b\b\b\b\b\b\b\b\b\b\b\b\b\b\b\b\b\b\b\b\b\b\b\b\b\b\b\b\b\b\b\b\b\b\b\b\b\b\b\b\b\b\b\r414/414 [==============================] - 5s 12ms/step - loss: 0.1710 - accuracy: 0.9397 - val_loss: 0.2824 - val_accuracy: 0.9011\n",
            "Epoch 30/100\n",
            "411/414 [============================>.] - ETA: 0s - loss: 0.1655 - accuracy: 0.9404"
          ]
        },
        {
          "output_type": "stream",
          "name": "stderr",
          "text": [
            "WARNING:tensorflow:Can save best model only with val_acc available, skipping.\n"
          ]
        },
        {
          "output_type": "stream",
          "name": "stdout",
          "text": [
            "\b\b\b\b\b\b\b\b\b\b\b\b\b\b\b\b\b\b\b\b\b\b\b\b\b\b\b\b\b\b\b\b\b\b\b\b\b\b\b\b\b\b\b\b\b\b\b\b\b\b\b\b\b\b\b\b\b\b\b\b\b\b\b\b\b\b\b\b\b\b\b\b\b\b\b\b\b\b\b\b\b\b\b\b\r414/414 [==============================] - 5s 12ms/step - loss: 0.1652 - accuracy: 0.9404 - val_loss: 0.2815 - val_accuracy: 0.9046\n",
            "Epoch 31/100\n",
            "412/414 [============================>.] - ETA: 0s - loss: 0.1583 - accuracy: 0.9436"
          ]
        },
        {
          "output_type": "stream",
          "name": "stderr",
          "text": [
            "WARNING:tensorflow:Can save best model only with val_acc available, skipping.\n"
          ]
        },
        {
          "output_type": "stream",
          "name": "stdout",
          "text": [
            "\b\b\b\b\b\b\b\b\b\b\b\b\b\b\b\b\b\b\b\b\b\b\b\b\b\b\b\b\b\b\b\b\b\b\b\b\b\b\b\b\b\b\b\b\b\b\b\b\b\b\b\b\b\b\b\b\b\b\b\b\b\b\b\b\b\b\b\b\b\b\b\b\b\b\b\b\b\b\b\b\b\b\b\b\r414/414 [==============================] - 5s 12ms/step - loss: 0.1584 - accuracy: 0.9437 - val_loss: 0.2870 - val_accuracy: 0.9045\n",
            "Epoch 32/100\n",
            "413/414 [============================>.] - ETA: 0s - loss: 0.1578 - accuracy: 0.9420"
          ]
        },
        {
          "output_type": "stream",
          "name": "stderr",
          "text": [
            "WARNING:tensorflow:Can save best model only with val_acc available, skipping.\n"
          ]
        },
        {
          "output_type": "stream",
          "name": "stdout",
          "text": [
            "\b\b\b\b\b\b\b\b\b\b\b\b\b\b\b\b\b\b\b\b\b\b\b\b\b\b\b\b\b\b\b\b\b\b\b\b\b\b\b\b\b\b\b\b\b\b\b\b\b\b\b\b\b\b\b\b\b\b\b\b\b\b\b\b\b\b\b\b\b\b\b\b\b\b\b\b\b\b\b\b\b\b\b\b\r414/414 [==============================] - 5s 13ms/step - loss: 0.1577 - accuracy: 0.9421 - val_loss: 0.2852 - val_accuracy: 0.9102\n",
            "Epoch 33/100\n",
            "411/414 [============================>.] - ETA: 0s - loss: 0.1541 - accuracy: 0.9447"
          ]
        },
        {
          "output_type": "stream",
          "name": "stderr",
          "text": [
            "WARNING:tensorflow:Can save best model only with val_acc available, skipping.\n"
          ]
        },
        {
          "output_type": "stream",
          "name": "stdout",
          "text": [
            "\b\b\b\b\b\b\b\b\b\b\b\b\b\b\b\b\b\b\b\b\b\b\b\b\b\b\b\b\b\b\b\b\b\b\b\b\b\b\b\b\b\b\b\b\b\b\b\b\b\b\b\b\b\b\b\b\b\b\b\b\b\b\b\b\b\b\b\b\b\b\b\b\b\b\b\b\b\b\b\b\b\b\b\b\r414/414 [==============================] - 5s 12ms/step - loss: 0.1539 - accuracy: 0.9448 - val_loss: 0.2855 - val_accuracy: 0.9073\n",
            "Epoch 34/100\n",
            "410/414 [============================>.] - ETA: 0s - loss: 0.1458 - accuracy: 0.9480"
          ]
        },
        {
          "output_type": "stream",
          "name": "stderr",
          "text": [
            "WARNING:tensorflow:Can save best model only with val_acc available, skipping.\n"
          ]
        },
        {
          "output_type": "stream",
          "name": "stdout",
          "text": [
            "\b\b\b\b\b\b\b\b\b\b\b\b\b\b\b\b\b\b\b\b\b\b\b\b\b\b\b\b\b\b\b\b\b\b\b\b\b\b\b\b\b\b\b\b\b\b\b\b\b\b\b\b\b\b\b\b\b\b\b\b\b\b\b\b\b\b\b\b\b\b\b\b\b\b\b\b\b\b\b\b\b\b\b\b\r414/414 [==============================] - 5s 12ms/step - loss: 0.1463 - accuracy: 0.9478 - val_loss: 0.2853 - val_accuracy: 0.9072\n",
            "Epoch 35/100\n",
            "413/414 [============================>.] - ETA: 0s - loss: 0.1424 - accuracy: 0.9486"
          ]
        },
        {
          "output_type": "stream",
          "name": "stderr",
          "text": [
            "WARNING:tensorflow:Can save best model only with val_acc available, skipping.\n"
          ]
        },
        {
          "output_type": "stream",
          "name": "stdout",
          "text": [
            "\b\b\b\b\b\b\b\b\b\b\b\b\b\b\b\b\b\b\b\b\b\b\b\b\b\b\b\b\b\b\b\b\b\b\b\b\b\b\b\b\b\b\b\b\b\b\b\b\b\b\b\b\b\b\b\b\b\b\b\b\b\b\b\b\b\b\b\b\b\b\b\b\b\b\b\b\b\b\b\b\b\b\b\b\r414/414 [==============================] - 5s 12ms/step - loss: 0.1424 - accuracy: 0.9486 - val_loss: 0.2875 - val_accuracy: 0.9080\n",
            "Epoch 36/100\n",
            "410/414 [============================>.] - ETA: 0s - loss: 0.1369 - accuracy: 0.9520"
          ]
        },
        {
          "output_type": "stream",
          "name": "stderr",
          "text": [
            "WARNING:tensorflow:Can save best model only with val_acc available, skipping.\n"
          ]
        },
        {
          "output_type": "stream",
          "name": "stdout",
          "text": [
            "\b\b\b\b\b\b\b\b\b\b\b\b\b\b\b\b\b\b\b\b\b\b\b\b\b\b\b\b\b\b\b\b\b\b\b\b\b\b\b\b\b\b\b\b\b\b\b\b\b\b\b\b\b\b\b\b\b\b\b\b\b\b\b\b\b\b\b\b\b\b\b\b\b\b\b\b\b\b\b\b\b\b\b\b\r414/414 [==============================] - 5s 12ms/step - loss: 0.1368 - accuracy: 0.9520 - val_loss: 0.3089 - val_accuracy: 0.9001\n",
            "Epoch 37/100\n",
            "410/414 [============================>.] - ETA: 0s - loss: 0.1279 - accuracy: 0.9556"
          ]
        },
        {
          "output_type": "stream",
          "name": "stderr",
          "text": [
            "WARNING:tensorflow:Can save best model only with val_acc available, skipping.\n"
          ]
        },
        {
          "output_type": "stream",
          "name": "stdout",
          "text": [
            "\b\b\b\b\b\b\b\b\b\b\b\b\b\b\b\b\b\b\b\b\b\b\b\b\b\b\b\b\b\b\b\b\b\b\b\b\b\b\b\b\b\b\b\b\b\b\b\b\b\b\b\b\b\b\b\b\b\b\b\b\b\b\b\b\b\b\b\b\b\b\b\b\b\b\b\b\b\b\b\b\b\b\b\b\r414/414 [==============================] - 5s 13ms/step - loss: 0.1280 - accuracy: 0.9556 - val_loss: 0.3051 - val_accuracy: 0.9090\n",
            "Epoch 38/100\n",
            "411/414 [============================>.] - ETA: 0s - loss: 0.1421 - accuracy: 0.9487"
          ]
        },
        {
          "output_type": "stream",
          "name": "stderr",
          "text": [
            "WARNING:tensorflow:Can save best model only with val_acc available, skipping.\n"
          ]
        },
        {
          "output_type": "stream",
          "name": "stdout",
          "text": [
            "\b\b\b\b\b\b\b\b\b\b\b\b\b\b\b\b\b\b\b\b\b\b\b\b\b\b\b\b\b\b\b\b\b\b\b\b\b\b\b\b\b\b\b\b\b\b\b\b\b\b\b\b\b\b\b\b\b\b\b\b\b\b\b\b\b\b\b\b\b\b\b\b\b\b\b\b\b\b\b\b\b\b\b\b\r414/414 [==============================] - 5s 12ms/step - loss: 0.1424 - accuracy: 0.9486 - val_loss: 0.2995 - val_accuracy: 0.9107\n",
            "Epoch 39/100\n",
            "411/414 [============================>.] - ETA: 0s - loss: 0.1387 - accuracy: 0.9495"
          ]
        },
        {
          "output_type": "stream",
          "name": "stderr",
          "text": [
            "WARNING:tensorflow:Can save best model only with val_acc available, skipping.\n"
          ]
        },
        {
          "output_type": "stream",
          "name": "stdout",
          "text": [
            "\b\b\b\b\b\b\b\b\b\b\b\b\b\b\b\b\b\b\b\b\b\b\b\b\b\b\b\b\b\b\b\b\b\b\b\b\b\b\b\b\b\b\b\b\b\b\b\b\b\b\b\b\b\b\b\b\b\b\b\b\b\b\b\b\b\b\b\b\b\b\b\b\b\b\b\b\b\b\b\b\b\b\b\b\r414/414 [==============================] - 5s 12ms/step - loss: 0.1387 - accuracy: 0.9495 - val_loss: 0.3015 - val_accuracy: 0.9076\n",
            "Epoch 40/100\n",
            "411/414 [============================>.] - ETA: 0s - loss: 0.1158 - accuracy: 0.9595"
          ]
        },
        {
          "output_type": "stream",
          "name": "stderr",
          "text": [
            "WARNING:tensorflow:Can save best model only with val_acc available, skipping.\n"
          ]
        },
        {
          "output_type": "stream",
          "name": "stdout",
          "text": [
            "\b\b\b\b\b\b\b\b\b\b\b\b\b\b\b\b\b\b\b\b\b\b\b\b\b\b\b\b\b\b\b\b\b\b\b\b\b\b\b\b\b\b\b\b\b\b\b\b\b\b\b\b\b\b\b\b\b\b\b\b\b\b\b\b\b\b\b\b\b\b\b\b\b\b\b\b\b\b\b\b\b\b\b\b\r414/414 [==============================] - 5s 12ms/step - loss: 0.1159 - accuracy: 0.9595 - val_loss: 0.3240 - val_accuracy: 0.9047\n",
            "Epoch 41/100\n",
            "413/414 [============================>.] - ETA: 0s - loss: 0.1170 - accuracy: 0.9584"
          ]
        },
        {
          "output_type": "stream",
          "name": "stderr",
          "text": [
            "WARNING:tensorflow:Can save best model only with val_acc available, skipping.\n"
          ]
        },
        {
          "output_type": "stream",
          "name": "stdout",
          "text": [
            "\b\b\b\b\b\b\b\b\b\b\b\b\b\b\b\b\b\b\b\b\b\b\b\b\b\b\b\b\b\b\b\b\b\b\b\b\b\b\b\b\b\b\b\b\b\b\b\b\b\b\b\b\b\b\b\b\b\b\b\b\b\b\b\b\b\b\b\b\b\b\b\b\b\b\b\b\b\b\b\b\b\b\b\b\r414/414 [==============================] - 5s 12ms/step - loss: 0.1169 - accuracy: 0.9584 - val_loss: 0.3251 - val_accuracy: 0.9055\n",
            "Epoch 42/100\n",
            "409/414 [============================>.] - ETA: 0s - loss: 0.1329 - accuracy: 0.9530"
          ]
        },
        {
          "output_type": "stream",
          "name": "stderr",
          "text": [
            "WARNING:tensorflow:Can save best model only with val_acc available, skipping.\n"
          ]
        },
        {
          "output_type": "stream",
          "name": "stdout",
          "text": [
            "\b\b\b\b\b\b\b\b\b\b\b\b\b\b\b\b\b\b\b\b\b\b\b\b\b\b\b\b\b\b\b\b\b\b\b\b\b\b\b\b\b\b\b\b\b\b\b\b\b\b\b\b\b\b\b\b\b\b\b\b\b\b\b\b\b\b\b\b\b\b\b\b\b\b\b\b\b\b\b\b\b\b\b\b\r414/414 [==============================] - 5s 12ms/step - loss: 0.1330 - accuracy: 0.9529 - val_loss: 0.3192 - val_accuracy: 0.9058\n",
            "Epoch 43/100\n",
            "412/414 [============================>.] - ETA: 0s - loss: 0.1151 - accuracy: 0.9583"
          ]
        },
        {
          "output_type": "stream",
          "name": "stderr",
          "text": [
            "WARNING:tensorflow:Can save best model only with val_acc available, skipping.\n"
          ]
        },
        {
          "output_type": "stream",
          "name": "stdout",
          "text": [
            "\b\b\b\b\b\b\b\b\b\b\b\b\b\b\b\b\b\b\b\b\b\b\b\b\b\b\b\b\b\b\b\b\b\b\b\b\b\b\b\b\b\b\b\b\b\b\b\b\b\b\b\b\b\b\b\b\b\b\b\b\b\b\b\b\b\b\b\b\b\b\b\b\b\b\b\b\b\b\b\b\b\b\b\b\r414/414 [==============================] - 5s 12ms/step - loss: 0.1150 - accuracy: 0.9583 - val_loss: 0.3298 - val_accuracy: 0.9075\n",
            "Epoch 44/100\n",
            "412/414 [============================>.] - ETA: 0s - loss: 0.1167 - accuracy: 0.9585"
          ]
        },
        {
          "output_type": "stream",
          "name": "stderr",
          "text": [
            "WARNING:tensorflow:Can save best model only with val_acc available, skipping.\n"
          ]
        },
        {
          "output_type": "stream",
          "name": "stdout",
          "text": [
            "\b\b\b\b\b\b\b\b\b\b\b\b\b\b\b\b\b\b\b\b\b\b\b\b\b\b\b\b\b\b\b\b\b\b\b\b\b\b\b\b\b\b\b\b\b\b\b\b\b\b\b\b\b\b\b\b\b\b\b\b\b\b\b\b\b\b\b\b\b\b\b\b\b\b\b\b\b\b\b\b\b\b\b\b\r414/414 [==============================] - 5s 12ms/step - loss: 0.1168 - accuracy: 0.9585 - val_loss: 0.3106 - val_accuracy: 0.9058\n",
            "Epoch 45/100\n",
            "410/414 [============================>.] - ETA: 0s - loss: 0.1194 - accuracy: 0.9569"
          ]
        },
        {
          "output_type": "stream",
          "name": "stderr",
          "text": [
            "WARNING:tensorflow:Can save best model only with val_acc available, skipping.\n"
          ]
        },
        {
          "output_type": "stream",
          "name": "stdout",
          "text": [
            "\b\b\b\b\b\b\b\b\b\b\b\b\b\b\b\b\b\b\b\b\b\b\b\b\b\b\b\b\b\b\b\b\b\b\b\b\b\b\b\b\b\b\b\b\b\b\b\b\b\b\b\b\b\b\b\b\b\b\b\b\b\b\b\b\b\b\b\b\b\b\b\b\b\b\b\b\b\b\b\b\b\b\b\b\r414/414 [==============================] - 5s 12ms/step - loss: 0.1203 - accuracy: 0.9564 - val_loss: 0.3219 - val_accuracy: 0.9093\n",
            "Epoch 46/100\n",
            "412/414 [============================>.] - ETA: 0s - loss: 0.1101 - accuracy: 0.9610"
          ]
        },
        {
          "output_type": "stream",
          "name": "stderr",
          "text": [
            "WARNING:tensorflow:Can save best model only with val_acc available, skipping.\n"
          ]
        },
        {
          "output_type": "stream",
          "name": "stdout",
          "text": [
            "\b\b\b\b\b\b\b\b\b\b\b\b\b\b\b\b\b\b\b\b\b\b\b\b\b\b\b\b\b\b\b\b\b\b\b\b\b\b\b\b\b\b\b\b\b\b\b\b\b\b\b\b\b\b\b\b\b\b\b\b\b\b\b\b\b\b\b\b\b\b\b\b\b\b\b\b\b\b\b\b\b\b\b\b\r414/414 [==============================] - 5s 12ms/step - loss: 0.1101 - accuracy: 0.9609 - val_loss: 0.3121 - val_accuracy: 0.9032\n",
            "Epoch 47/100\n",
            "409/414 [============================>.] - ETA: 0s - loss: 0.1140 - accuracy: 0.9588"
          ]
        },
        {
          "output_type": "stream",
          "name": "stderr",
          "text": [
            "WARNING:tensorflow:Can save best model only with val_acc available, skipping.\n"
          ]
        },
        {
          "output_type": "stream",
          "name": "stdout",
          "text": [
            "\b\b\b\b\b\b\b\b\b\b\b\b\b\b\b\b\b\b\b\b\b\b\b\b\b\b\b\b\b\b\b\b\b\b\b\b\b\b\b\b\b\b\b\b\b\b\b\b\b\b\b\b\b\b\b\b\b\b\b\b\b\b\b\b\b\b\b\b\b\b\b\b\b\b\b\b\b\b\b\b\b\b\b\b\r414/414 [==============================] - 5s 12ms/step - loss: 0.1137 - accuracy: 0.9589 - val_loss: 0.3211 - val_accuracy: 0.9121\n",
            "Epoch 48/100\n",
            "410/414 [============================>.] - ETA: 0s - loss: 0.1092 - accuracy: 0.9603"
          ]
        },
        {
          "output_type": "stream",
          "name": "stderr",
          "text": [
            "WARNING:tensorflow:Can save best model only with val_acc available, skipping.\n"
          ]
        },
        {
          "output_type": "stream",
          "name": "stdout",
          "text": [
            "\b\b\b\b\b\b\b\b\b\b\b\b\b\b\b\b\b\b\b\b\b\b\b\b\b\b\b\b\b\b\b\b\b\b\b\b\b\b\b\b\b\b\b\b\b\b\b\b\b\b\b\b\b\b\b\b\b\b\b\b\b\b\b\b\b\b\b\b\b\b\b\b\b\b\b\b\b\b\b\b\b\b\b\b\r414/414 [==============================] - 7s 16ms/step - loss: 0.1092 - accuracy: 0.9603 - val_loss: 0.3184 - val_accuracy: 0.9070\n",
            "Epoch 49/100\n",
            "409/414 [============================>.] - ETA: 0s - loss: 0.1005 - accuracy: 0.9638"
          ]
        },
        {
          "output_type": "stream",
          "name": "stderr",
          "text": [
            "WARNING:tensorflow:Can save best model only with val_acc available, skipping.\n"
          ]
        },
        {
          "output_type": "stream",
          "name": "stdout",
          "text": [
            "\b\b\b\b\b\b\b\b\b\b\b\b\b\b\b\b\b\b\b\b\b\b\b\b\b\b\b\b\b\b\b\b\b\b\b\b\b\b\b\b\b\b\b\b\b\b\b\b\b\b\b\b\b\b\b\b\b\b\b\b\b\b\b\b\b\b\b\b\b\b\b\b\b\b\b\b\b\b\b\b\b\b\b\b\r414/414 [==============================] - 5s 12ms/step - loss: 0.1001 - accuracy: 0.9639 - val_loss: 0.3402 - val_accuracy: 0.9062\n",
            "Epoch 50/100\n",
            "410/414 [============================>.] - ETA: 0s - loss: 0.1078 - accuracy: 0.9630"
          ]
        },
        {
          "output_type": "stream",
          "name": "stderr",
          "text": [
            "WARNING:tensorflow:Can save best model only with val_acc available, skipping.\n"
          ]
        },
        {
          "output_type": "stream",
          "name": "stdout",
          "text": [
            "\b\b\b\b\b\b\b\b\b\b\b\b\b\b\b\b\b\b\b\b\b\b\b\b\b\b\b\b\b\b\b\b\b\b\b\b\b\b\b\b\b\b\b\b\b\b\b\b\b\b\b\b\b\b\b\b\b\b\b\b\b\b\b\b\b\b\b\b\b\b\b\b\b\b\b\b\b\b\b\b\b\b\b\b\r414/414 [==============================] - 5s 12ms/step - loss: 0.1080 - accuracy: 0.9630 - val_loss: 0.3417 - val_accuracy: 0.9088\n",
            "Epoch 51/100\n",
            "412/414 [============================>.] - ETA: 0s - loss: 0.1031 - accuracy: 0.9615"
          ]
        },
        {
          "output_type": "stream",
          "name": "stderr",
          "text": [
            "WARNING:tensorflow:Can save best model only with val_acc available, skipping.\n"
          ]
        },
        {
          "output_type": "stream",
          "name": "stdout",
          "text": [
            "\b\b\b\b\b\b\b\b\b\b\b\b\b\b\b\b\b\b\b\b\b\b\b\b\b\b\b\b\b\b\b\b\b\b\b\b\b\b\b\b\b\b\b\b\b\b\b\b\b\b\b\b\b\b\b\b\b\b\b\b\b\b\b\b\b\b\b\b\b\b\b\b\b\b\b\b\b\b\b\b\b\b\b\b\r414/414 [==============================] - 5s 12ms/step - loss: 0.1029 - accuracy: 0.9616 - val_loss: 0.3444 - val_accuracy: 0.9088\n",
            "Epoch 52/100\n",
            "412/414 [============================>.] - ETA: 0s - loss: 0.1082 - accuracy: 0.9620"
          ]
        },
        {
          "output_type": "stream",
          "name": "stderr",
          "text": [
            "WARNING:tensorflow:Can save best model only with val_acc available, skipping.\n"
          ]
        },
        {
          "output_type": "stream",
          "name": "stdout",
          "text": [
            "\b\b\b\b\b\b\b\b\b\b\b\b\b\b\b\b\b\b\b\b\b\b\b\b\b\b\b\b\b\b\b\b\b\b\b\b\b\b\b\b\b\b\b\b\b\b\b\b\b\b\b\b\b\b\b\b\b\b\b\b\b\b\b\b\b\b\b\b\b\b\b\b\b\b\b\b\b\b\b\b\b\b\b\b\r414/414 [==============================] - 5s 12ms/step - loss: 0.1090 - accuracy: 0.9616 - val_loss: 0.3552 - val_accuracy: 0.9086\n",
            "Epoch 53/100\n",
            "414/414 [==============================] - ETA: 0s - loss: 0.1075 - accuracy: 0.9615"
          ]
        },
        {
          "output_type": "stream",
          "name": "stderr",
          "text": [
            "WARNING:tensorflow:Can save best model only with val_acc available, skipping.\n"
          ]
        },
        {
          "output_type": "stream",
          "name": "stdout",
          "text": [
            "\b\b\b\b\b\b\b\b\b\b\b\b\b\b\b\b\b\b\b\b\b\b\b\b\b\b\b\b\b\b\b\b\b\b\b\b\b\b\b\b\b\b\b\b\b\b\b\b\b\b\b\b\b\b\b\b\b\b\b\b\b\b\b\b\b\b\b\b\b\b\b\b\b\b\b\b\b\b\b\b\b\b\b\b\r414/414 [==============================] - 5s 12ms/step - loss: 0.1075 - accuracy: 0.9615 - val_loss: 0.3474 - val_accuracy: 0.9067\n",
            "Epoch 54/100\n",
            "414/414 [==============================] - ETA: 0s - loss: 0.0988 - accuracy: 0.9656"
          ]
        },
        {
          "output_type": "stream",
          "name": "stderr",
          "text": [
            "WARNING:tensorflow:Can save best model only with val_acc available, skipping.\n"
          ]
        },
        {
          "output_type": "stream",
          "name": "stdout",
          "text": [
            "\b\b\b\b\b\b\b\b\b\b\b\b\b\b\b\b\b\b\b\b\b\b\b\b\b\b\b\b\b\b\b\b\b\b\b\b\b\b\b\b\b\b\b\b\b\b\b\b\b\b\b\b\b\b\b\b\b\b\b\b\b\b\b\b\b\b\b\b\b\b\b\b\b\b\b\b\b\b\b\b\b\b\b\b\r414/414 [==============================] - 5s 12ms/step - loss: 0.0988 - accuracy: 0.9656 - val_loss: 0.3592 - val_accuracy: 0.9119\n",
            "Epoch 55/100\n",
            "414/414 [==============================] - ETA: 0s - loss: 0.0986 - accuracy: 0.9649"
          ]
        },
        {
          "output_type": "stream",
          "name": "stderr",
          "text": [
            "WARNING:tensorflow:Can save best model only with val_acc available, skipping.\n"
          ]
        },
        {
          "output_type": "stream",
          "name": "stdout",
          "text": [
            "\b\b\b\b\b\b\b\b\b\b\b\b\b\b\b\b\b\b\b\b\b\b\b\b\b\b\b\b\b\b\b\b\b\b\b\b\b\b\b\b\b\b\b\b\b\b\b\b\b\b\b\b\b\b\b\b\b\b\b\b\b\b\b\b\b\b\b\b\b\b\b\b\b\b\b\b\b\b\b\b\b\b\b\b\r414/414 [==============================] - 6s 13ms/step - loss: 0.0986 - accuracy: 0.9649 - val_loss: 0.3534 - val_accuracy: 0.9007\n",
            "Epoch 56/100\n",
            "411/414 [============================>.] - ETA: 0s - loss: 0.1044 - accuracy: 0.9633"
          ]
        },
        {
          "output_type": "stream",
          "name": "stderr",
          "text": [
            "WARNING:tensorflow:Can save best model only with val_acc available, skipping.\n"
          ]
        },
        {
          "output_type": "stream",
          "name": "stdout",
          "text": [
            "\b\b\b\b\b\b\b\b\b\b\b\b\b\b\b\b\b\b\b\b\b\b\b\b\b\b\b\b\b\b\b\b\b\b\b\b\b\b\b\b\b\b\b\b\b\b\b\b\b\b\b\b\b\b\b\b\b\b\b\b\b\b\b\b\b\b\b\b\b\b\b\b\b\b\b\b\b\b\b\b\b\b\b\b\r414/414 [==============================] - 5s 12ms/step - loss: 0.1042 - accuracy: 0.9632 - val_loss: 0.3506 - val_accuracy: 0.9082\n",
            "Epoch 57/100\n",
            "410/414 [============================>.] - ETA: 0s - loss: 0.1129 - accuracy: 0.9595"
          ]
        },
        {
          "output_type": "stream",
          "name": "stderr",
          "text": [
            "WARNING:tensorflow:Can save best model only with val_acc available, skipping.\n"
          ]
        },
        {
          "output_type": "stream",
          "name": "stdout",
          "text": [
            "\b\b\b\b\b\b\b\b\b\b\b\b\b\b\b\b\b\b\b\b\b\b\b\b\b\b\b\b\b\b\b\b\b\b\b\b\b\b\b\b\b\b\b\b\b\b\b\b\b\b\b\b\b\b\b\b\b\b\b\b\b\b\b\b\b\b\b\b\b\b\b\b\b\b\b\b\b\b\b\b\b\b\b\b\r414/414 [==============================] - 5s 12ms/step - loss: 0.1128 - accuracy: 0.9596 - val_loss: 0.3360 - val_accuracy: 0.9094\n",
            "Epoch 58/100\n",
            "413/414 [============================>.] - ETA: 0s - loss: 0.0951 - accuracy: 0.9668"
          ]
        },
        {
          "output_type": "stream",
          "name": "stderr",
          "text": [
            "WARNING:tensorflow:Can save best model only with val_acc available, skipping.\n"
          ]
        },
        {
          "output_type": "stream",
          "name": "stdout",
          "text": [
            "\b\b\b\b\b\b\b\b\b\b\b\b\b\b\b\b\b\b\b\b\b\b\b\b\b\b\b\b\b\b\b\b\b\b\b\b\b\b\b\b\b\b\b\b\b\b\b\b\b\b\b\b\b\b\b\b\b\b\b\b\b\b\b\b\b\b\b\b\b\b\b\b\b\b\b\b\b\b\b\b\b\b\b\b\r414/414 [==============================] - 5s 13ms/step - loss: 0.0951 - accuracy: 0.9668 - val_loss: 0.3754 - val_accuracy: 0.9088\n",
            "Epoch 59/100\n",
            "414/414 [==============================] - ETA: 0s - loss: 0.0904 - accuracy: 0.9678"
          ]
        },
        {
          "output_type": "stream",
          "name": "stderr",
          "text": [
            "WARNING:tensorflow:Can save best model only with val_acc available, skipping.\n"
          ]
        },
        {
          "output_type": "stream",
          "name": "stdout",
          "text": [
            "\b\b\b\b\b\b\b\b\b\b\b\b\b\b\b\b\b\b\b\b\b\b\b\b\b\b\b\b\b\b\b\b\b\b\b\b\b\b\b\b\b\b\b\b\b\b\b\b\b\b\b\b\b\b\b\b\b\b\b\b\b\b\b\b\b\b\b\b\b\b\b\b\b\b\b\b\b\b\b\b\b\b\b\b\r414/414 [==============================] - 5s 12ms/step - loss: 0.0904 - accuracy: 0.9678 - val_loss: 0.3720 - val_accuracy: 0.9126\n",
            "Epoch 60/100\n",
            "413/414 [============================>.] - ETA: 0s - loss: 0.0983 - accuracy: 0.9654"
          ]
        },
        {
          "output_type": "stream",
          "name": "stderr",
          "text": [
            "WARNING:tensorflow:Can save best model only with val_acc available, skipping.\n"
          ]
        },
        {
          "output_type": "stream",
          "name": "stdout",
          "text": [
            "\b\b\b\b\b\b\b\b\b\b\b\b\b\b\b\b\b\b\b\b\b\b\b\b\b\b\b\b\b\b\b\b\b\b\b\b\b\b\b\b\b\b\b\b\b\b\b\b\b\b\b\b\b\b\b\b\b\b\b\b\b\b\b\b\b\b\b\b\b\b\b\b\b\b\b\b\b\b\b\b\b\b\b\b\r414/414 [==============================] - 5s 12ms/step - loss: 0.0983 - accuracy: 0.9654 - val_loss: 0.3601 - val_accuracy: 0.9096\n",
            "Epoch 61/100\n",
            "411/414 [============================>.] - ETA: 0s - loss: 0.0920 - accuracy: 0.9687"
          ]
        },
        {
          "output_type": "stream",
          "name": "stderr",
          "text": [
            "WARNING:tensorflow:Can save best model only with val_acc available, skipping.\n"
          ]
        },
        {
          "output_type": "stream",
          "name": "stdout",
          "text": [
            "\b\b\b\b\b\b\b\b\b\b\b\b\b\b\b\b\b\b\b\b\b\b\b\b\b\b\b\b\b\b\b\b\b\b\b\b\b\b\b\b\b\b\b\b\b\b\b\b\b\b\b\b\b\b\b\b\b\b\b\b\b\b\b\b\b\b\b\b\b\b\b\b\b\b\b\b\b\b\b\b\b\b\b\b\r414/414 [==============================] - 5s 12ms/step - loss: 0.0917 - accuracy: 0.9688 - val_loss: 0.3626 - val_accuracy: 0.9128\n",
            "Epoch 62/100\n",
            "409/414 [============================>.] - ETA: 0s - loss: 0.0897 - accuracy: 0.9684"
          ]
        },
        {
          "output_type": "stream",
          "name": "stderr",
          "text": [
            "WARNING:tensorflow:Can save best model only with val_acc available, skipping.\n"
          ]
        },
        {
          "output_type": "stream",
          "name": "stdout",
          "text": [
            "\b\b\b\b\b\b\b\b\b\b\b\b\b\b\b\b\b\b\b\b\b\b\b\b\b\b\b\b\b\b\b\b\b\b\b\b\b\b\b\b\b\b\b\b\b\b\b\b\b\b\b\b\b\b\b\b\b\b\b\b\b\b\b\b\b\b\b\b\b\b\b\b\b\b\b\b\b\b\b\b\b\b\b\b\r414/414 [==============================] - 5s 12ms/step - loss: 0.0898 - accuracy: 0.9684 - val_loss: 0.3512 - val_accuracy: 0.9101\n",
            "Epoch 63/100\n",
            "411/414 [============================>.] - ETA: 0s - loss: 0.0830 - accuracy: 0.9700"
          ]
        },
        {
          "output_type": "stream",
          "name": "stderr",
          "text": [
            "WARNING:tensorflow:Can save best model only with val_acc available, skipping.\n"
          ]
        },
        {
          "output_type": "stream",
          "name": "stdout",
          "text": [
            "\b\b\b\b\b\b\b\b\b\b\b\b\b\b\b\b\b\b\b\b\b\b\b\b\b\b\b\b\b\b\b\b\b\b\b\b\b\b\b\b\b\b\b\b\b\b\b\b\b\b\b\b\b\b\b\b\b\b\b\b\b\b\b\b\b\b\b\b\b\b\b\b\b\b\b\b\b\b\b\b\b\b\b\b\r414/414 [==============================] - 5s 12ms/step - loss: 0.0834 - accuracy: 0.9699 - val_loss: 0.3665 - val_accuracy: 0.9132\n",
            "Epoch 64/100\n",
            "414/414 [==============================] - ETA: 0s - loss: 0.0985 - accuracy: 0.9650"
          ]
        },
        {
          "output_type": "stream",
          "name": "stderr",
          "text": [
            "WARNING:tensorflow:Can save best model only with val_acc available, skipping.\n"
          ]
        },
        {
          "output_type": "stream",
          "name": "stdout",
          "text": [
            "\b\b\b\b\b\b\b\b\b\b\b\b\b\b\b\b\b\b\b\b\b\b\b\b\b\b\b\b\b\b\b\b\b\b\b\b\b\b\b\b\b\b\b\b\b\b\b\b\b\b\b\b\b\b\b\b\b\b\b\b\b\b\b\b\b\b\b\b\b\b\b\b\b\b\b\b\b\b\b\b\b\b\b\b\r414/414 [==============================] - 5s 12ms/step - loss: 0.0985 - accuracy: 0.9650 - val_loss: 0.3509 - val_accuracy: 0.9114\n",
            "Epoch 65/100\n",
            "411/414 [============================>.] - ETA: 0s - loss: 0.0808 - accuracy: 0.9713"
          ]
        },
        {
          "output_type": "stream",
          "name": "stderr",
          "text": [
            "WARNING:tensorflow:Can save best model only with val_acc available, skipping.\n"
          ]
        },
        {
          "output_type": "stream",
          "name": "stdout",
          "text": [
            "\b\b\b\b\b\b\b\b\b\b\b\b\b\b\b\b\b\b\b\b\b\b\b\b\b\b\b\b\b\b\b\b\b\b\b\b\b\b\b\b\b\b\b\b\b\b\b\b\b\b\b\b\b\b\b\b\b\b\b\b\b\b\b\b\b\b\b\b\b\b\b\b\b\b\b\b\b\b\b\b\b\b\b\b\r414/414 [==============================] - 5s 12ms/step - loss: 0.0809 - accuracy: 0.9713 - val_loss: 0.3874 - val_accuracy: 0.9084\n",
            "Epoch 66/100\n",
            "414/414 [==============================] - ETA: 0s - loss: 0.0908 - accuracy: 0.9672"
          ]
        },
        {
          "output_type": "stream",
          "name": "stderr",
          "text": [
            "WARNING:tensorflow:Can save best model only with val_acc available, skipping.\n"
          ]
        },
        {
          "output_type": "stream",
          "name": "stdout",
          "text": [
            "\b\b\b\b\b\b\b\b\b\b\b\b\b\b\b\b\b\b\b\b\b\b\b\b\b\b\b\b\b\b\b\b\b\b\b\b\b\b\b\b\b\b\b\b\b\b\b\b\b\b\b\b\b\b\b\b\b\b\b\b\b\b\b\b\b\b\b\b\b\b\b\b\b\b\b\b\b\b\b\b\b\b\b\b\r414/414 [==============================] - 5s 12ms/step - loss: 0.0908 - accuracy: 0.9672 - val_loss: 0.3656 - val_accuracy: 0.9066\n",
            "Epoch 67/100\n",
            "414/414 [==============================] - ETA: 0s - loss: 0.0822 - accuracy: 0.9717"
          ]
        },
        {
          "output_type": "stream",
          "name": "stderr",
          "text": [
            "WARNING:tensorflow:Can save best model only with val_acc available, skipping.\n"
          ]
        },
        {
          "output_type": "stream",
          "name": "stdout",
          "text": [
            "\b\b\b\b\b\b\b\b\b\b\b\b\b\b\b\b\b\b\b\b\b\b\b\b\b\b\b\b\b\b\b\b\b\b\b\b\b\b\b\b\b\b\b\b\b\b\b\b\b\b\b\b\b\b\b\b\b\b\b\b\b\b\b\b\b\b\b\b\b\b\b\b\b\b\b\b\b\b\b\b\b\b\b\b\r414/414 [==============================] - 5s 12ms/step - loss: 0.0822 - accuracy: 0.9717 - val_loss: 0.3619 - val_accuracy: 0.9136\n",
            "Epoch 68/100\n",
            "410/414 [============================>.] - ETA: 0s - loss: 0.0944 - accuracy: 0.9657"
          ]
        },
        {
          "output_type": "stream",
          "name": "stderr",
          "text": [
            "WARNING:tensorflow:Can save best model only with val_acc available, skipping.\n"
          ]
        },
        {
          "output_type": "stream",
          "name": "stdout",
          "text": [
            "\b\b\b\b\b\b\b\b\b\b\b\b\b\b\b\b\b\b\b\b\b\b\b\b\b\b\b\b\b\b\b\b\b\b\b\b\b\b\b\b\b\b\b\b\b\b\b\b\b\b\b\b\b\b\b\b\b\b\b\b\b\b\b\b\b\b\b\b\b\b\b\b\b\b\b\b\b\b\b\b\b\b\b\b\r414/414 [==============================] - 5s 12ms/step - loss: 0.0942 - accuracy: 0.9658 - val_loss: 0.3617 - val_accuracy: 0.9125\n",
            "Epoch 69/100\n",
            "413/414 [============================>.] - ETA: 0s - loss: 0.0907 - accuracy: 0.9669"
          ]
        },
        {
          "output_type": "stream",
          "name": "stderr",
          "text": [
            "WARNING:tensorflow:Can save best model only with val_acc available, skipping.\n"
          ]
        },
        {
          "output_type": "stream",
          "name": "stdout",
          "text": [
            "\b\b\b\b\b\b\b\b\b\b\b\b\b\b\b\b\b\b\b\b\b\b\b\b\b\b\b\b\b\b\b\b\b\b\b\b\b\b\b\b\b\b\b\b\b\b\b\b\b\b\b\b\b\b\b\b\b\b\b\b\b\b\b\b\b\b\b\b\b\b\b\b\b\b\b\b\b\b\b\b\b\b\b\b\r414/414 [==============================] - 9s 21ms/step - loss: 0.0906 - accuracy: 0.9669 - val_loss: 0.3574 - val_accuracy: 0.9058\n",
            "Epoch 70/100\n",
            "412/414 [============================>.] - ETA: 0s - loss: 0.0846 - accuracy: 0.9692"
          ]
        },
        {
          "output_type": "stream",
          "name": "stderr",
          "text": [
            "WARNING:tensorflow:Can save best model only with val_acc available, skipping.\n"
          ]
        },
        {
          "output_type": "stream",
          "name": "stdout",
          "text": [
            "\b\b\b\b\b\b\b\b\b\b\b\b\b\b\b\b\b\b\b\b\b\b\b\b\b\b\b\b\b\b\b\b\b\b\b\b\b\b\b\b\b\b\b\b\b\b\b\b\b\b\b\b\b\b\b\b\b\b\b\b\b\b\b\b\b\b\b\b\b\b\b\b\b\b\b\b\b\b\b\b\b\b\b\b\r414/414 [==============================] - 10s 23ms/step - loss: 0.0846 - accuracy: 0.9691 - val_loss: 0.3569 - val_accuracy: 0.9063\n",
            "Epoch 71/100\n",
            "413/414 [============================>.] - ETA: 0s - loss: 0.0877 - accuracy: 0.9690"
          ]
        },
        {
          "output_type": "stream",
          "name": "stderr",
          "text": [
            "WARNING:tensorflow:Can save best model only with val_acc available, skipping.\n"
          ]
        },
        {
          "output_type": "stream",
          "name": "stdout",
          "text": [
            "\b\b\b\b\b\b\b\b\b\b\b\b\b\b\b\b\b\b\b\b\b\b\b\b\b\b\b\b\b\b\b\b\b\b\b\b\b\b\b\b\b\b\b\b\b\b\b\b\b\b\b\b\b\b\b\b\b\b\b\b\b\b\b\b\b\b\b\b\b\b\b\b\b\b\b\b\b\b\b\b\b\b\b\b\r414/414 [==============================] - 5s 12ms/step - loss: 0.0877 - accuracy: 0.9690 - val_loss: 0.3568 - val_accuracy: 0.9066\n",
            "Epoch 72/100\n",
            "410/414 [============================>.] - ETA: 0s - loss: 0.0864 - accuracy: 0.9688"
          ]
        },
        {
          "output_type": "stream",
          "name": "stderr",
          "text": [
            "WARNING:tensorflow:Can save best model only with val_acc available, skipping.\n"
          ]
        },
        {
          "output_type": "stream",
          "name": "stdout",
          "text": [
            "\b\b\b\b\b\b\b\b\b\b\b\b\b\b\b\b\b\b\b\b\b\b\b\b\b\b\b\b\b\b\b\b\b\b\b\b\b\b\b\b\b\b\b\b\b\b\b\b\b\b\b\b\b\b\b\b\b\b\b\b\b\b\b\b\b\b\b\b\b\b\b\b\b\b\b\b\b\b\b\b\b\b\b\b\r414/414 [==============================] - 5s 12ms/step - loss: 0.0868 - accuracy: 0.9687 - val_loss: 0.3679 - val_accuracy: 0.9096\n",
            "Epoch 73/100\n",
            "413/414 [============================>.] - ETA: 0s - loss: 0.0820 - accuracy: 0.9708"
          ]
        },
        {
          "output_type": "stream",
          "name": "stderr",
          "text": [
            "WARNING:tensorflow:Can save best model only with val_acc available, skipping.\n"
          ]
        },
        {
          "output_type": "stream",
          "name": "stdout",
          "text": [
            "\b\b\b\b\b\b\b\b\b\b\b\b\b\b\b\b\b\b\b\b\b\b\b\b\b\b\b\b\b\b\b\b\b\b\b\b\b\b\b\b\b\b\b\b\b\b\b\b\b\b\b\b\b\b\b\b\b\b\b\b\b\b\b\b\b\b\b\b\b\b\b\b\b\b\b\b\b\b\b\b\b\b\b\b\r414/414 [==============================] - 5s 12ms/step - loss: 0.0821 - accuracy: 0.9708 - val_loss: 0.3854 - val_accuracy: 0.9102\n",
            "Epoch 74/100\n",
            "412/414 [============================>.] - ETA: 0s - loss: 0.0951 - accuracy: 0.9672"
          ]
        },
        {
          "output_type": "stream",
          "name": "stderr",
          "text": [
            "WARNING:tensorflow:Can save best model only with val_acc available, skipping.\n"
          ]
        },
        {
          "output_type": "stream",
          "name": "stdout",
          "text": [
            "\b\b\b\b\b\b\b\b\b\b\b\b\b\b\b\b\b\b\b\b\b\b\b\b\b\b\b\b\b\b\b\b\b\b\b\b\b\b\b\b\b\b\b\b\b\b\b\b\b\b\b\b\b\b\b\b\b\b\b\b\b\b\b\b\b\b\b\b\b\b\b\b\b\b\b\b\b\b\b\b\b\b\b\b\r414/414 [==============================] - 5s 12ms/step - loss: 0.0952 - accuracy: 0.9672 - val_loss: 0.3590 - val_accuracy: 0.9099\n",
            "Epoch 75/100\n",
            "413/414 [============================>.] - ETA: 0s - loss: 0.0839 - accuracy: 0.9703"
          ]
        },
        {
          "output_type": "stream",
          "name": "stderr",
          "text": [
            "WARNING:tensorflow:Can save best model only with val_acc available, skipping.\n"
          ]
        },
        {
          "output_type": "stream",
          "name": "stdout",
          "text": [
            "\b\b\b\b\b\b\b\b\b\b\b\b\b\b\b\b\b\b\b\b\b\b\b\b\b\b\b\b\b\b\b\b\b\b\b\b\b\b\b\b\b\b\b\b\b\b\b\b\b\b\b\b\b\b\b\b\b\b\b\b\b\b\b\b\b\b\b\b\b\b\b\b\b\b\b\b\b\b\b\b\b\b\b\b\r414/414 [==============================] - 5s 12ms/step - loss: 0.0838 - accuracy: 0.9703 - val_loss: 0.3886 - val_accuracy: 0.9072\n",
            "Epoch 76/100\n",
            "409/414 [============================>.] - ETA: 0s - loss: 0.0825 - accuracy: 0.9708"
          ]
        },
        {
          "output_type": "stream",
          "name": "stderr",
          "text": [
            "WARNING:tensorflow:Can save best model only with val_acc available, skipping.\n"
          ]
        },
        {
          "output_type": "stream",
          "name": "stdout",
          "text": [
            "\b\b\b\b\b\b\b\b\b\b\b\b\b\b\b\b\b\b\b\b\b\b\b\b\b\b\b\b\b\b\b\b\b\b\b\b\b\b\b\b\b\b\b\b\b\b\b\b\b\b\b\b\b\b\b\b\b\b\b\b\b\b\b\b\b\b\b\b\b\b\b\b\b\b\b\b\b\b\b\b\b\b\b\b\r414/414 [==============================] - 5s 12ms/step - loss: 0.0825 - accuracy: 0.9709 - val_loss: 0.3836 - val_accuracy: 0.9048\n",
            "Epoch 77/100\n",
            "410/414 [============================>.] - ETA: 0s - loss: 0.0795 - accuracy: 0.9711"
          ]
        },
        {
          "output_type": "stream",
          "name": "stderr",
          "text": [
            "WARNING:tensorflow:Can save best model only with val_acc available, skipping.\n"
          ]
        },
        {
          "output_type": "stream",
          "name": "stdout",
          "text": [
            "\b\b\b\b\b\b\b\b\b\b\b\b\b\b\b\b\b\b\b\b\b\b\b\b\b\b\b\b\b\b\b\b\b\b\b\b\b\b\b\b\b\b\b\b\b\b\b\b\b\b\b\b\b\b\b\b\b\b\b\b\b\b\b\b\b\b\b\b\b\b\b\b\b\b\b\b\b\b\b\b\b\b\b\b\r414/414 [==============================] - 5s 12ms/step - loss: 0.0794 - accuracy: 0.9711 - val_loss: 0.4034 - val_accuracy: 0.9072\n",
            "Epoch 78/100\n",
            "409/414 [============================>.] - ETA: 0s - loss: 0.0903 - accuracy: 0.9688"
          ]
        },
        {
          "output_type": "stream",
          "name": "stderr",
          "text": [
            "WARNING:tensorflow:Can save best model only with val_acc available, skipping.\n"
          ]
        },
        {
          "output_type": "stream",
          "name": "stdout",
          "text": [
            "\b\b\b\b\b\b\b\b\b\b\b\b\b\b\b\b\b\b\b\b\b\b\b\b\b\b\b\b\b\b\b\b\b\b\b\b\b\b\b\b\b\b\b\b\b\b\b\b\b\b\b\b\b\b\b\b\b\b\b\b\b\b\b\b\b\b\b\b\b\b\b\b\b\b\b\b\b\b\b\b\b\b\b\b\r414/414 [==============================] - 5s 12ms/step - loss: 0.0899 - accuracy: 0.9689 - val_loss: 0.3747 - val_accuracy: 0.9110\n",
            "Epoch 79/100\n",
            "413/414 [============================>.] - ETA: 0s - loss: 0.0799 - accuracy: 0.9719"
          ]
        },
        {
          "output_type": "stream",
          "name": "stderr",
          "text": [
            "WARNING:tensorflow:Can save best model only with val_acc available, skipping.\n"
          ]
        },
        {
          "output_type": "stream",
          "name": "stdout",
          "text": [
            "\b\b\b\b\b\b\b\b\b\b\b\b\b\b\b\b\b\b\b\b\b\b\b\b\b\b\b\b\b\b\b\b\b\b\b\b\b\b\b\b\b\b\b\b\b\b\b\b\b\b\b\b\b\b\b\b\b\b\b\b\b\b\b\b\b\b\b\b\b\b\b\b\b\b\b\b\b\b\b\b\b\b\b\b\r414/414 [==============================] - 5s 12ms/step - loss: 0.0799 - accuracy: 0.9719 - val_loss: 0.3701 - val_accuracy: 0.9129\n",
            "Epoch 80/100\n",
            "411/414 [============================>.] - ETA: 0s - loss: 0.0728 - accuracy: 0.9740"
          ]
        },
        {
          "output_type": "stream",
          "name": "stderr",
          "text": [
            "WARNING:tensorflow:Can save best model only with val_acc available, skipping.\n"
          ]
        },
        {
          "output_type": "stream",
          "name": "stdout",
          "text": [
            "\b\b\b\b\b\b\b\b\b\b\b\b\b\b\b\b\b\b\b\b\b\b\b\b\b\b\b\b\b\b\b\b\b\b\b\b\b\b\b\b\b\b\b\b\b\b\b\b\b\b\b\b\b\b\b\b\b\b\b\b\b\b\b\b\b\b\b\b\b\b\b\b\b\b\b\b\b\b\b\b\b\b\b\b\r414/414 [==============================] - 5s 12ms/step - loss: 0.0728 - accuracy: 0.9740 - val_loss: 0.3826 - val_accuracy: 0.9163\n",
            "Epoch 81/100\n",
            "412/414 [============================>.] - ETA: 0s - loss: 0.0770 - accuracy: 0.9719"
          ]
        },
        {
          "output_type": "stream",
          "name": "stderr",
          "text": [
            "WARNING:tensorflow:Can save best model only with val_acc available, skipping.\n"
          ]
        },
        {
          "output_type": "stream",
          "name": "stdout",
          "text": [
            "\b\b\b\b\b\b\b\b\b\b\b\b\b\b\b\b\b\b\b\b\b\b\b\b\b\b\b\b\b\b\b\b\b\b\b\b\b\b\b\b\b\b\b\b\b\b\b\b\b\b\b\b\b\b\b\b\b\b\b\b\b\b\b\b\b\b\b\b\b\b\b\b\b\b\b\b\b\b\b\b\b\b\b\b\r414/414 [==============================] - 5s 12ms/step - loss: 0.0769 - accuracy: 0.9720 - val_loss: 0.3965 - val_accuracy: 0.9098\n",
            "Epoch 82/100\n",
            "414/414 [==============================] - ETA: 0s - loss: 0.0849 - accuracy: 0.9704"
          ]
        },
        {
          "output_type": "stream",
          "name": "stderr",
          "text": [
            "WARNING:tensorflow:Can save best model only with val_acc available, skipping.\n"
          ]
        },
        {
          "output_type": "stream",
          "name": "stdout",
          "text": [
            "\b\b\b\b\b\b\b\b\b\b\b\b\b\b\b\b\b\b\b\b\b\b\b\b\b\b\b\b\b\b\b\b\b\b\b\b\b\b\b\b\b\b\b\b\b\b\b\b\b\b\b\b\b\b\b\b\b\b\b\b\b\b\b\b\b\b\b\b\b\b\b\b\b\b\b\b\b\b\b\b\b\b\b\b\r414/414 [==============================] - 5s 12ms/step - loss: 0.0849 - accuracy: 0.9704 - val_loss: 0.3459 - val_accuracy: 0.9068\n",
            "Epoch 83/100\n",
            "413/414 [============================>.] - ETA: 0s - loss: 0.0871 - accuracy: 0.9696"
          ]
        },
        {
          "output_type": "stream",
          "name": "stderr",
          "text": [
            "WARNING:tensorflow:Can save best model only with val_acc available, skipping.\n"
          ]
        },
        {
          "output_type": "stream",
          "name": "stdout",
          "text": [
            "\b\b\b\b\b\b\b\b\b\b\b\b\b\b\b\b\b\b\b\b\b\b\b\b\b\b\b\b\b\b\b\b\b\b\b\b\b\b\b\b\b\b\b\b\b\b\b\b\b\b\b\b\b\b\b\b\b\b\b\b\b\b\b\b\b\b\b\b\b\b\b\b\b\b\b\b\b\b\b\b\b\b\b\b\r414/414 [==============================] - 5s 12ms/step - loss: 0.0871 - accuracy: 0.9697 - val_loss: 0.3587 - val_accuracy: 0.9101\n",
            "Epoch 84/100\n",
            "414/414 [==============================] - ETA: 0s - loss: 0.0800 - accuracy: 0.9713"
          ]
        },
        {
          "output_type": "stream",
          "name": "stderr",
          "text": [
            "WARNING:tensorflow:Can save best model only with val_acc available, skipping.\n"
          ]
        },
        {
          "output_type": "stream",
          "name": "stdout",
          "text": [
            "\b\b\b\b\b\b\b\b\b\b\b\b\b\b\b\b\b\b\b\b\b\b\b\b\b\b\b\b\b\b\b\b\b\b\b\b\b\b\b\b\b\b\b\b\b\b\b\b\b\b\b\b\b\b\b\b\b\b\b\b\b\b\b\b\b\b\b\b\b\b\b\b\b\b\b\b\b\b\b\b\b\b\b\b\r414/414 [==============================] - 5s 12ms/step - loss: 0.0800 - accuracy: 0.9713 - val_loss: 0.3900 - val_accuracy: 0.9036\n",
            "Epoch 85/100\n",
            "411/414 [============================>.] - ETA: 0s - loss: 0.0804 - accuracy: 0.9720"
          ]
        },
        {
          "output_type": "stream",
          "name": "stderr",
          "text": [
            "WARNING:tensorflow:Can save best model only with val_acc available, skipping.\n"
          ]
        },
        {
          "output_type": "stream",
          "name": "stdout",
          "text": [
            "\b\b\b\b\b\b\b\b\b\b\b\b\b\b\b\b\b\b\b\b\b\b\b\b\b\b\b\b\b\b\b\b\b\b\b\b\b\b\b\b\b\b\b\b\b\b\b\b\b\b\b\b\b\b\b\b\b\b\b\b\b\b\b\b\b\b\b\b\b\b\b\b\b\b\b\b\b\b\b\b\b\b\b\b\r414/414 [==============================] - 5s 12ms/step - loss: 0.0802 - accuracy: 0.9720 - val_loss: 0.3753 - val_accuracy: 0.9097\n",
            "Epoch 86/100\n",
            "414/414 [==============================] - ETA: 0s - loss: 0.0738 - accuracy: 0.9728"
          ]
        },
        {
          "output_type": "stream",
          "name": "stderr",
          "text": [
            "WARNING:tensorflow:Can save best model only with val_acc available, skipping.\n"
          ]
        },
        {
          "output_type": "stream",
          "name": "stdout",
          "text": [
            "\b\b\b\b\b\b\b\b\b\b\b\b\b\b\b\b\b\b\b\b\b\b\b\b\b\b\b\b\b\b\b\b\b\b\b\b\b\b\b\b\b\b\b\b\b\b\b\b\b\b\b\b\b\b\b\b\b\b\b\b\b\b\b\b\b\b\b\b\b\b\b\b\b\b\b\b\b\b\b\b\b\b\b\b\r414/414 [==============================] - 5s 12ms/step - loss: 0.0738 - accuracy: 0.9728 - val_loss: 0.3881 - val_accuracy: 0.9079\n",
            "Epoch 87/100\n",
            "414/414 [==============================] - ETA: 0s - loss: 0.0764 - accuracy: 0.9720"
          ]
        },
        {
          "output_type": "stream",
          "name": "stderr",
          "text": [
            "WARNING:tensorflow:Can save best model only with val_acc available, skipping.\n"
          ]
        },
        {
          "output_type": "stream",
          "name": "stdout",
          "text": [
            "\b\b\b\b\b\b\b\b\b\b\b\b\b\b\b\b\b\b\b\b\b\b\b\b\b\b\b\b\b\b\b\b\b\b\b\b\b\b\b\b\b\b\b\b\b\b\b\b\b\b\b\b\b\b\b\b\b\b\b\b\b\b\b\b\b\b\b\b\b\b\b\b\b\b\b\b\b\b\b\b\b\b\b\b\r414/414 [==============================] - 7s 16ms/step - loss: 0.0764 - accuracy: 0.9720 - val_loss: 0.3853 - val_accuracy: 0.9118\n",
            "Epoch 88/100\n",
            "412/414 [============================>.] - ETA: 0s - loss: 0.0794 - accuracy: 0.9715"
          ]
        },
        {
          "output_type": "stream",
          "name": "stderr",
          "text": [
            "WARNING:tensorflow:Can save best model only with val_acc available, skipping.\n"
          ]
        },
        {
          "output_type": "stream",
          "name": "stdout",
          "text": [
            "\b\b\b\b\b\b\b\b\b\b\b\b\b\b\b\b\b\b\b\b\b\b\b\b\b\b\b\b\b\b\b\b\b\b\b\b\b\b\b\b\b\b\b\b\b\b\b\b\b\b\b\b\b\b\b\b\b\b\b\b\b\b\b\b\b\b\b\b\b\b\b\b\b\b\b\b\b\b\b\b\b\b\b\b\r414/414 [==============================] - 5s 12ms/step - loss: 0.0800 - accuracy: 0.9713 - val_loss: 0.3980 - val_accuracy: 0.9041\n",
            "Epoch 89/100\n",
            "411/414 [============================>.] - ETA: 0s - loss: 0.0798 - accuracy: 0.9711"
          ]
        },
        {
          "output_type": "stream",
          "name": "stderr",
          "text": [
            "WARNING:tensorflow:Can save best model only with val_acc available, skipping.\n"
          ]
        },
        {
          "output_type": "stream",
          "name": "stdout",
          "text": [
            "\b\b\b\b\b\b\b\b\b\b\b\b\b\b\b\b\b\b\b\b\b\b\b\b\b\b\b\b\b\b\b\b\b\b\b\b\b\b\b\b\b\b\b\b\b\b\b\b\b\b\b\b\b\b\b\b\b\b\b\b\b\b\b\b\b\b\b\b\b\b\b\b\b\b\b\b\b\b\b\b\b\b\b\b\r414/414 [==============================] - 7s 16ms/step - loss: 0.0799 - accuracy: 0.9711 - val_loss: 0.3794 - val_accuracy: 0.9118\n",
            "Epoch 90/100\n",
            "414/414 [==============================] - ETA: 0s - loss: 0.0864 - accuracy: 0.9693"
          ]
        },
        {
          "output_type": "stream",
          "name": "stderr",
          "text": [
            "WARNING:tensorflow:Can save best model only with val_acc available, skipping.\n"
          ]
        },
        {
          "output_type": "stream",
          "name": "stdout",
          "text": [
            "\b\b\b\b\b\b\b\b\b\b\b\b\b\b\b\b\b\b\b\b\b\b\b\b\b\b\b\b\b\b\b\b\b\b\b\b\b\b\b\b\b\b\b\b\b\b\b\b\b\b\b\b\b\b\b\b\b\b\b\b\b\b\b\b\b\b\b\b\b\b\b\b\b\b\b\b\b\b\b\b\b\b\b\b\r414/414 [==============================] - 5s 12ms/step - loss: 0.0864 - accuracy: 0.9693 - val_loss: 0.3777 - val_accuracy: 0.9064\n",
            "Epoch 91/100\n",
            "412/414 [============================>.] - ETA: 0s - loss: 0.0746 - accuracy: 0.9729"
          ]
        },
        {
          "output_type": "stream",
          "name": "stderr",
          "text": [
            "WARNING:tensorflow:Can save best model only with val_acc available, skipping.\n"
          ]
        },
        {
          "output_type": "stream",
          "name": "stdout",
          "text": [
            "\b\b\b\b\b\b\b\b\b\b\b\b\b\b\b\b\b\b\b\b\b\b\b\b\b\b\b\b\b\b\b\b\b\b\b\b\b\b\b\b\b\b\b\b\b\b\b\b\b\b\b\b\b\b\b\b\b\b\b\b\b\b\b\b\b\b\b\b\b\b\b\b\b\b\b\b\b\b\b\b\b\b\b\b\r414/414 [==============================] - 5s 12ms/step - loss: 0.0745 - accuracy: 0.9729 - val_loss: 0.3911 - val_accuracy: 0.9142\n",
            "Epoch 92/100\n",
            "410/414 [============================>.] - ETA: 0s - loss: 0.0678 - accuracy: 0.9755"
          ]
        },
        {
          "output_type": "stream",
          "name": "stderr",
          "text": [
            "WARNING:tensorflow:Can save best model only with val_acc available, skipping.\n"
          ]
        },
        {
          "output_type": "stream",
          "name": "stdout",
          "text": [
            "\b\b\b\b\b\b\b\b\b\b\b\b\b\b\b\b\b\b\b\b\b\b\b\b\b\b\b\b\b\b\b\b\b\b\b\b\b\b\b\b\b\b\b\b\b\b\b\b\b\b\b\b\b\b\b\b\b\b\b\b\b\b\b\b\b\b\b\b\b\b\b\b\b\b\b\b\b\b\b\b\b\b\b\b\r414/414 [==============================] - 5s 13ms/step - loss: 0.0678 - accuracy: 0.9755 - val_loss: 0.3954 - val_accuracy: 0.9147\n",
            "Epoch 93/100\n",
            "413/414 [============================>.] - ETA: 0s - loss: 0.0725 - accuracy: 0.9734"
          ]
        },
        {
          "output_type": "stream",
          "name": "stderr",
          "text": [
            "WARNING:tensorflow:Can save best model only with val_acc available, skipping.\n"
          ]
        },
        {
          "output_type": "stream",
          "name": "stdout",
          "text": [
            "\b\b\b\b\b\b\b\b\b\b\b\b\b\b\b\b\b\b\b\b\b\b\b\b\b\b\b\b\b\b\b\b\b\b\b\b\b\b\b\b\b\b\b\b\b\b\b\b\b\b\b\b\b\b\b\b\b\b\b\b\b\b\b\b\b\b\b\b\b\b\b\b\b\b\b\b\b\b\b\b\b\b\b\b\r414/414 [==============================] - 6s 15ms/step - loss: 0.0725 - accuracy: 0.9734 - val_loss: 0.4107 - val_accuracy: 0.9100\n",
            "Epoch 94/100\n",
            "411/414 [============================>.] - ETA: 0s - loss: 0.0710 - accuracy: 0.9739"
          ]
        },
        {
          "output_type": "stream",
          "name": "stderr",
          "text": [
            "WARNING:tensorflow:Can save best model only with val_acc available, skipping.\n"
          ]
        },
        {
          "output_type": "stream",
          "name": "stdout",
          "text": [
            "\b\b\b\b\b\b\b\b\b\b\b\b\b\b\b\b\b\b\b\b\b\b\b\b\b\b\b\b\b\b\b\b\b\b\b\b\b\b\b\b\b\b\b\b\b\b\b\b\b\b\b\b\b\b\b\b\b\b\b\b\b\b\b\b\b\b\b\b\b\b\b\b\b\b\b\b\b\b\b\b\b\b\b\b\r414/414 [==============================] - 5s 12ms/step - loss: 0.0712 - accuracy: 0.9739 - val_loss: 0.4195 - val_accuracy: 0.9111\n",
            "Epoch 95/100\n",
            "411/414 [============================>.] - ETA: 0s - loss: 0.0894 - accuracy: 0.9671"
          ]
        },
        {
          "output_type": "stream",
          "name": "stderr",
          "text": [
            "WARNING:tensorflow:Can save best model only with val_acc available, skipping.\n"
          ]
        },
        {
          "output_type": "stream",
          "name": "stdout",
          "text": [
            "\b\b\b\b\b\b\b\b\b\b\b\b\b\b\b\b\b\b\b\b\b\b\b\b\b\b\b\b\b\b\b\b\b\b\b\b\b\b\b\b\b\b\b\b\b\b\b\b\b\b\b\b\b\b\b\b\b\b\b\b\b\b\b\b\b\b\b\b\b\b\b\b\b\b\b\b\b\b\b\b\b\b\b\b\r414/414 [==============================] - 5s 12ms/step - loss: 0.0892 - accuracy: 0.9672 - val_loss: 0.3671 - val_accuracy: 0.9117\n",
            "Epoch 96/100\n",
            "412/414 [============================>.] - ETA: 0s - loss: 0.0654 - accuracy: 0.9766"
          ]
        },
        {
          "output_type": "stream",
          "name": "stderr",
          "text": [
            "WARNING:tensorflow:Can save best model only with val_acc available, skipping.\n"
          ]
        },
        {
          "output_type": "stream",
          "name": "stdout",
          "text": [
            "\b\b\b\b\b\b\b\b\b\b\b\b\b\b\b\b\b\b\b\b\b\b\b\b\b\b\b\b\b\b\b\b\b\b\b\b\b\b\b\b\b\b\b\b\b\b\b\b\b\b\b\b\b\b\b\b\b\b\b\b\b\b\b\b\b\b\b\b\b\b\b\b\b\b\b\b\b\b\b\b\b\b\b\b\r414/414 [==============================] - 5s 12ms/step - loss: 0.0657 - accuracy: 0.9764 - val_loss: 0.3875 - val_accuracy: 0.9143\n",
            "Epoch 97/100\n",
            "414/414 [==============================] - ETA: 0s - loss: 0.0765 - accuracy: 0.9733"
          ]
        },
        {
          "output_type": "stream",
          "name": "stderr",
          "text": [
            "WARNING:tensorflow:Can save best model only with val_acc available, skipping.\n"
          ]
        },
        {
          "output_type": "stream",
          "name": "stdout",
          "text": [
            "\b\b\b\b\b\b\b\b\b\b\b\b\b\b\b\b\b\b\b\b\b\b\b\b\b\b\b\b\b\b\b\b\b\b\b\b\b\b\b\b\b\b\b\b\b\b\b\b\b\b\b\b\b\b\b\b\b\b\b\b\b\b\b\b\b\b\b\b\b\b\b\b\b\b\b\b\b\b\b\b\b\b\b\b\r414/414 [==============================] - 5s 12ms/step - loss: 0.0765 - accuracy: 0.9733 - val_loss: 0.3895 - val_accuracy: 0.9115\n",
            "Epoch 98/100\n",
            "410/414 [============================>.] - ETA: 0s - loss: 0.0929 - accuracy: 0.9681"
          ]
        },
        {
          "output_type": "stream",
          "name": "stderr",
          "text": [
            "WARNING:tensorflow:Can save best model only with val_acc available, skipping.\n"
          ]
        },
        {
          "output_type": "stream",
          "name": "stdout",
          "text": [
            "\b\b\b\b\b\b\b\b\b\b\b\b\b\b\b\b\b\b\b\b\b\b\b\b\b\b\b\b\b\b\b\b\b\b\b\b\b\b\b\b\b\b\b\b\b\b\b\b\b\b\b\b\b\b\b\b\b\b\b\b\b\b\b\b\b\b\b\b\b\b\b\b\b\b\b\b\b\b\b\b\b\b\b\b\r414/414 [==============================] - 5s 12ms/step - loss: 0.0929 - accuracy: 0.9680 - val_loss: 0.3531 - val_accuracy: 0.9055\n",
            "Epoch 99/100\n",
            "412/414 [============================>.] - ETA: 0s - loss: 0.0897 - accuracy: 0.9680"
          ]
        },
        {
          "output_type": "stream",
          "name": "stderr",
          "text": [
            "WARNING:tensorflow:Can save best model only with val_acc available, skipping.\n"
          ]
        },
        {
          "output_type": "stream",
          "name": "stdout",
          "text": [
            "\b\b\b\b\b\b\b\b\b\b\b\b\b\b\b\b\b\b\b\b\b\b\b\b\b\b\b\b\b\b\b\b\b\b\b\b\b\b\b\b\b\b\b\b\b\b\b\b\b\b\b\b\b\b\b\b\b\b\b\b\b\b\b\b\b\b\b\b\b\b\b\b\b\b\b\b\b\b\b\b\b\b\b\b\r414/414 [==============================] - 5s 12ms/step - loss: 0.0899 - accuracy: 0.9679 - val_loss: 0.3653 - val_accuracy: 0.9133\n",
            "Epoch 100/100\n",
            "412/414 [============================>.] - ETA: 0s - loss: 0.0692 - accuracy: 0.9751"
          ]
        },
        {
          "output_type": "stream",
          "name": "stderr",
          "text": [
            "WARNING:tensorflow:Can save best model only with val_acc available, skipping.\n"
          ]
        },
        {
          "output_type": "stream",
          "name": "stdout",
          "text": [
            "\b\b\b\b\b\b\b\b\b\b\b\b\b\b\b\b\b\b\b\b\b\b\b\b\b\b\b\b\b\b\b\b\b\b\b\b\b\b\b\b\b\b\b\b\b\b\b\b\b\b\b\b\b\b\b\b\b\b\b\b\b\b\b\b\b\b\b\b\b\b\b\b\b\b\b\b\b\b\b\b\b\b\b\b\r414/414 [==============================] - 5s 12ms/step - loss: 0.0691 - accuracy: 0.9751 - val_loss: 0.3878 - val_accuracy: 0.9116\n"
          ]
        },
        {
          "output_type": "execute_result",
          "data": {
            "text/plain": [
              "<keras.callbacks.History at 0x7f0543b487d0>"
            ]
          },
          "metadata": {},
          "execution_count": 19
        }
      ]
    },
    {
      "cell_type": "code",
      "source": [
        "model.save_weights('best_weights.hdf5')"
      ],
      "metadata": {
        "id": "-F5DK89Bk6t7"
      },
      "execution_count": 20,
      "outputs": []
    },
    {
      "cell_type": "code",
      "source": [
        "history = model.history.history\n",
        "\n",
        "import matplotlib.pyplot as plt\n",
        "plt.plot(history['loss'])\n",
        "plt.plot(history['accuracy'])\n",
        "plt.plot(history['val_loss'])\n",
        "plt.plot(history['val_accuracy'])\n",
        "plt.legend(['loss','accuracy','val_loss','val_accuracy'])\n",
        "plt.show()"
      ],
      "metadata": {
        "colab": {
          "base_uri": "https://localhost:8080/",
          "height": 265
        },
        "id": "lcd4xu-jmbus",
        "outputId": "dd06a244-f60f-4da7-ee10-2a8f807c5c82"
      },
      "execution_count": 24,
      "outputs": [
        {
          "output_type": "display_data",
          "data": {
            "text/plain": [
              "<Figure size 432x288 with 1 Axes>"
            ],
            "image/png": "[encoded data removed]"
          },
          "metadata": {
            "needs_background": "light"
          }
        }
      ]
    },
    {
      "cell_type": "code",
      "source": [
        "model.evaluate(x_test,y_test)"
      ],
      "metadata": {
        "colab": {
          "base_uri": "https://localhost:8080/"
        },
        "id": "N9TSYe1iXC_Y",
        "outputId": "ee1ac30d-9452-4091-9699-8cf969ca9e3d"
      },
      "execution_count": 25,
      "outputs": [
        {
          "output_type": "stream",
          "name": "stdout",
          "text": [
            "277/277 [==============================] - 1s 5ms/step - loss: 0.3878 - accuracy: 0.9116\n"
          ]
        },
        {
          "output_type": "execute_result",
          "data": {
            "text/plain": [
              "[0.3877893090248108, 0.9115853905677795]"
            ]
          },
          "metadata": {},
          "execution_count": 25
        }
      ]
    },
    {
      "cell_type": "code",
      "source": [
        "def encoded_sequence(padded_str,mapping):\n",
        "  encoded_seq = []\n",
        "  for char in padded_str:\n",
        "    encoded_seq.append(int(mapping[char]))\n",
        "  return encoded_seq\n",
        "\n",
        "def predict_gender(model,m_name):\n",
        "  m_name = m_name.lower()\n",
        "  encoded_seq = encoded_sequence(zero_padding(m_name),mapping)\n",
        "  np_encoded_seq = np.array(encoded_seq).reshape(1,20,1)\n",
        "  confidence = model.predict(np_encoded_seq)[0]\n",
        "  confidence = list(confidence)\n",
        "  if(confidence.index(max(confidence)) == 0):\n",
        "    return m_name.upper() + \" -> Female \" + str(round(max(confidence)*100)) + \"%\"\n",
        "  else:\n",
        "    return m_name.upper() + \" -> Male \" + str(round(max(confidence)*100)) + \"%\""
      ],
      "metadata": {
        "id": "JKvtsiEqXWFQ"
      },
      "execution_count": 26,
      "outputs": []
    },
    {
      "cell_type": "code",
      "source": [
        "names = [\"PK Adhya Kumari\",\"Aarvi Saxena KK\",\"Ahaana\",\"Bela Caio\",\"Dhara\",\"Diya Mirza\",\"Prisha Upadhyay\",\"Aanya Pandey\",\"Hari Mehta\",\"Hans Hanthi\",\"Jagan Mohan\",\"Jai Shree\",\"Kala Bagga\",\"Kamal Hasan\",\"Kanan Gill\",\"Milan\",\"Rahul Kumar\",\"Tarak\",\"Aatma Ram\",\"Vihaan Jain\",\"Wali Rehmani\"]\n",
        "for name in names:\n",
        "  print(predict_gender(model,name))"
      ],
      "metadata": {
        "colab": {
          "base_uri": "https://localhost:8080/"
        },
        "id": "YcVtAruWZy84",
        "outputId": "f69e70f1-3b09-4b0f-b8e9-35ddb24ff68d"
      },
      "execution_count": 27,
      "outputs": [
        {
          "output_type": "stream",
          "name": "stdout",
          "text": [
            "PK ADHYA KUMARI -> Female 100%\n",
            "AARVI SAXENA KK -> Male 99%\n",
            "AHAANA -> Female 99%\n",
            "BELA CAIO -> Female 100%\n",
            "DHARA -> Female 64%\n",
            "DIYA MIRZA -> Female 100%\n",
            "PRISHA UPADHYAY -> Female 100%\n",
            "AANYA PANDEY -> Female 98%\n",
            "HARI MEHTA -> Male 99%\n",
            "HANS HANTHI -> Male 99%\n",
            "JAGAN MOHAN -> Male 98%\n",
            "JAI SHREE -> Male 98%\n",
            "KALA BAGGA -> Female 100%\n",
            "KAMAL HASAN -> Male 99%\n",
            "KANAN GILL -> Female 94%\n",
            "MILAN -> Female 59%\n",
            "RAHUL KUMAR -> Male 100%\n",
            "TARAK -> Male 93%\n",
            "AATMA RAM -> Male 100%\n",
            "VIHAAN JAIN -> Male 100%\n",
            "WALI REHMANI -> Male 82%\n"
          ]
        }
      ]
    }
  ]
}